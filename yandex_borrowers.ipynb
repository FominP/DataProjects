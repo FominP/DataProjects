{
 "cells": [
  {
   "cell_type": "markdown",
   "id": "386f2ae7",
   "metadata": {
    "id": "386f2ae7"
   },
   "source": [
    "# Исследование надежности заемщиков\n",
    "\n",
    "## Описание проекта\n",
    "Заказчик — кредитный отдел банка. Нужно разобраться, влияет ли семейное положение и количество детей клиента на факт погашения кредита в срок. Входные данные от банка — статистика о платёжеспособности клиентов.\n",
    "Результаты исследования будут учтены при построении модели кредитного скоринга — специальной системы, которая оценивает способность потенциального заёмщика вернуть кредит банку.\n",
    "## Описание данных\n",
    "* `children` — количество детей в семье\n",
    "* `days_employed` — общий трудовой стаж в днях\n",
    "* `dob_years` — возраст клиента в годах\n",
    "* `education` — уровень образования клиента\n",
    "* `education_id` — идентификатор уровня образования\n",
    "* `family_status` — семейное положение\n",
    "* `family_status_id` — идентификатор семейного положения\n",
    "* `gender` — пол клиента\n",
    "* `income_type` — тип занятости\n",
    "* `debt` — имел ли задолженность по возврату кредитов\n",
    "* `total_income` — ежемесячный доход\n",
    "* `purpose` — цель получения кредита\n"
   ]
  },
  {
   "cell_type": "code",
   "execution_count": 1,
   "id": "77a68a90",
   "metadata": {
    "id": "77a68a90"
   },
   "outputs": [
    {
     "data": {
      "text/html": [
       "<div>\n",
       "<style scoped>\n",
       "    .dataframe tbody tr th:only-of-type {\n",
       "        vertical-align: middle;\n",
       "    }\n",
       "\n",
       "    .dataframe tbody tr th {\n",
       "        vertical-align: top;\n",
       "    }\n",
       "\n",
       "    .dataframe thead th {\n",
       "        text-align: right;\n",
       "    }\n",
       "</style>\n",
       "<table border=\"1\" class=\"dataframe\">\n",
       "  <thead>\n",
       "    <tr style=\"text-align: right;\">\n",
       "      <th></th>\n",
       "      <th>children</th>\n",
       "      <th>days_employed</th>\n",
       "      <th>dob_years</th>\n",
       "      <th>education</th>\n",
       "      <th>education_id</th>\n",
       "      <th>family_status</th>\n",
       "      <th>family_status_id</th>\n",
       "      <th>gender</th>\n",
       "      <th>income_type</th>\n",
       "      <th>debt</th>\n",
       "      <th>total_income</th>\n",
       "      <th>purpose</th>\n",
       "    </tr>\n",
       "  </thead>\n",
       "  <tbody>\n",
       "    <tr>\n",
       "      <th>0</th>\n",
       "      <td>1</td>\n",
       "      <td>-8437.673028</td>\n",
       "      <td>42</td>\n",
       "      <td>высшее</td>\n",
       "      <td>0</td>\n",
       "      <td>женат / замужем</td>\n",
       "      <td>0</td>\n",
       "      <td>F</td>\n",
       "      <td>сотрудник</td>\n",
       "      <td>0</td>\n",
       "      <td>253875.639453</td>\n",
       "      <td>покупка жилья</td>\n",
       "    </tr>\n",
       "    <tr>\n",
       "      <th>1</th>\n",
       "      <td>1</td>\n",
       "      <td>-4024.803754</td>\n",
       "      <td>36</td>\n",
       "      <td>среднее</td>\n",
       "      <td>1</td>\n",
       "      <td>женат / замужем</td>\n",
       "      <td>0</td>\n",
       "      <td>F</td>\n",
       "      <td>сотрудник</td>\n",
       "      <td>0</td>\n",
       "      <td>112080.014102</td>\n",
       "      <td>приобретение автомобиля</td>\n",
       "    </tr>\n",
       "    <tr>\n",
       "      <th>2</th>\n",
       "      <td>0</td>\n",
       "      <td>-5623.422610</td>\n",
       "      <td>33</td>\n",
       "      <td>Среднее</td>\n",
       "      <td>1</td>\n",
       "      <td>женат / замужем</td>\n",
       "      <td>0</td>\n",
       "      <td>M</td>\n",
       "      <td>сотрудник</td>\n",
       "      <td>0</td>\n",
       "      <td>145885.952297</td>\n",
       "      <td>покупка жилья</td>\n",
       "    </tr>\n",
       "    <tr>\n",
       "      <th>3</th>\n",
       "      <td>3</td>\n",
       "      <td>-4124.747207</td>\n",
       "      <td>32</td>\n",
       "      <td>среднее</td>\n",
       "      <td>1</td>\n",
       "      <td>женат / замужем</td>\n",
       "      <td>0</td>\n",
       "      <td>M</td>\n",
       "      <td>сотрудник</td>\n",
       "      <td>0</td>\n",
       "      <td>267628.550329</td>\n",
       "      <td>дополнительное образование</td>\n",
       "    </tr>\n",
       "    <tr>\n",
       "      <th>4</th>\n",
       "      <td>0</td>\n",
       "      <td>340266.072047</td>\n",
       "      <td>53</td>\n",
       "      <td>среднее</td>\n",
       "      <td>1</td>\n",
       "      <td>гражданский брак</td>\n",
       "      <td>1</td>\n",
       "      <td>F</td>\n",
       "      <td>пенсионер</td>\n",
       "      <td>0</td>\n",
       "      <td>158616.077870</td>\n",
       "      <td>сыграть свадьбу</td>\n",
       "    </tr>\n",
       "  </tbody>\n",
       "</table>\n",
       "</div>"
      ],
      "text/plain": [
       "   children  days_employed  dob_years education  education_id  \\\n",
       "0         1   -8437.673028         42    высшее             0   \n",
       "1         1   -4024.803754         36   среднее             1   \n",
       "2         0   -5623.422610         33   Среднее             1   \n",
       "3         3   -4124.747207         32   среднее             1   \n",
       "4         0  340266.072047         53   среднее             1   \n",
       "\n",
       "      family_status  family_status_id gender income_type  debt   total_income  \\\n",
       "0   женат / замужем                 0      F   сотрудник     0  253875.639453   \n",
       "1   женат / замужем                 0      F   сотрудник     0  112080.014102   \n",
       "2   женат / замужем                 0      M   сотрудник     0  145885.952297   \n",
       "3   женат / замужем                 0      M   сотрудник     0  267628.550329   \n",
       "4  гражданский брак                 1      F   пенсионер     0  158616.077870   \n",
       "\n",
       "                      purpose  \n",
       "0               покупка жилья  \n",
       "1     приобретение автомобиля  \n",
       "2               покупка жилья  \n",
       "3  дополнительное образование  \n",
       "4             сыграть свадьбу  "
      ]
     },
     "execution_count": 1,
     "metadata": {},
     "output_type": "execute_result"
    }
   ],
   "source": [
    "import pandas as pd\n",
    "\n",
    "try:\n",
    "    data = pd.read_csv('data.csv')\n",
    "except:\n",
    "    data = pd.read_csv('https://code.s3.yandex.net/datasets/data.csv')\n",
    "\n",
    "data.head()"
   ]
  },
  {
   "cell_type": "code",
   "execution_count": 2,
   "id": "ab3f863b",
   "metadata": {
    "deletable": false,
    "id": "ab3f863b",
    "outputId": "15376089-8dad-46c9-b520-c05248d43158"
   },
   "outputs": [
    {
     "name": "stdout",
     "output_type": "stream",
     "text": [
      "<class 'pandas.core.frame.DataFrame'>\n",
      "RangeIndex: 21525 entries, 0 to 21524\n",
      "Data columns (total 12 columns):\n",
      " #   Column            Non-Null Count  Dtype  \n",
      "---  ------            --------------  -----  \n",
      " 0   children          21525 non-null  int64  \n",
      " 1   days_employed     19351 non-null  float64\n",
      " 2   dob_years         21525 non-null  int64  \n",
      " 3   education         21525 non-null  object \n",
      " 4   education_id      21525 non-null  int64  \n",
      " 5   family_status     21525 non-null  object \n",
      " 6   family_status_id  21525 non-null  int64  \n",
      " 7   gender            21525 non-null  object \n",
      " 8   income_type       21525 non-null  object \n",
      " 9   debt              21525 non-null  int64  \n",
      " 10  total_income      19351 non-null  float64\n",
      " 11  purpose           21525 non-null  object \n",
      "dtypes: float64(2), int64(5), object(5)\n",
      "memory usage: 2.0+ MB\n"
     ]
    }
   ],
   "source": [
    "data.info()"
   ]
  },
  {
   "cell_type": "markdown",
   "id": "60e3e22d",
   "metadata": {
    "deletable": false,
    "editable": false,
    "id": "60e3e22d"
   },
   "source": [
    "## Предобработка данных"
   ]
  },
  {
   "cell_type": "markdown",
   "id": "03dc170c",
   "metadata": {
    "deletable": false,
    "editable": false,
    "id": "03dc170c"
   },
   "source": [
    "### Удаление пропусков"
   ]
  },
  {
   "cell_type": "code",
   "execution_count": 3,
   "id": "2dc372b2",
   "metadata": {
    "deletable": false,
    "id": "2dc372b2",
    "outputId": "81f4d817-781c-465c-ed15-91ce4446810d"
   },
   "outputs": [
    {
     "data": {
      "text/plain": [
       "children               0\n",
       "days_employed       2174\n",
       "dob_years              0\n",
       "education              0\n",
       "education_id           0\n",
       "family_status          0\n",
       "family_status_id       0\n",
       "gender                 0\n",
       "income_type            0\n",
       "debt                   0\n",
       "total_income        2174\n",
       "purpose                0\n",
       "dtype: int64"
      ]
     },
     "execution_count": 3,
     "metadata": {},
     "output_type": "execute_result"
    }
   ],
   "source": [
    "data.isna().sum()"
   ]
  },
  {
   "cell_type": "markdown",
   "id": "14f011b1",
   "metadata": {
    "id": "14f011b1"
   },
   "source": [
    "В двух столбцах есть пропущенные значения. Один из них — `days_employed`. Другой столбец с пропущенными значениями — `total_income` — хранит данные о доходах. На сумму дохода сильнее всего влияет тип занятости, поэтому заполнить пропуски в этом столбце нужно медианным значением по каждому типу из столбца `income_type`. Например, у человека с типом занятости `сотрудник` пропуск в столбце `total_income` должен быть заполнен медианным доходом среди всех записей с тем же типом."
   ]
  },
  {
   "cell_type": "code",
   "execution_count": 4,
   "id": "bdabfb6e",
   "metadata": {
    "deletable": false,
    "id": "bdabfb6e"
   },
   "outputs": [],
   "source": [
    "for t in data['income_type'].unique():\n",
    "    data.loc[(data['income_type'] == t) & (data['total_income'].isna()), 'total_income'] = \\\n",
    "    data.loc[(data['income_type'] == t), 'total_income'].median()"
   ]
  },
  {
   "cell_type": "markdown",
   "id": "5be34059",
   "metadata": {
    "deletable": false,
    "editable": false,
    "id": "5be34059"
   },
   "source": [
    "### Обработка аномальных значений"
   ]
  },
  {
   "cell_type": "markdown",
   "id": "a87606cb",
   "metadata": {
    "id": "a87606cb"
   },
   "source": [
    "Исправим отрицательное количество дней трудового стажа в столбце `days_employed`"
   ]
  },
  {
   "cell_type": "code",
   "execution_count": 5,
   "id": "020c46cc",
   "metadata": {
    "deletable": false,
    "id": "020c46cc"
   },
   "outputs": [],
   "source": [
    "data['days_employed'] = data['days_employed'].abs()"
   ]
  },
  {
   "cell_type": "code",
   "execution_count": 6,
   "id": "cd3e6328",
   "metadata": {
    "deletable": false,
    "id": "cd3e6328",
    "outputId": "801ef80e-522b-4668-f34e-565af7432bcf"
   },
   "outputs": [
    {
     "data": {
      "text/plain": [
       "income_type\n",
       "безработный        366413.652744\n",
       "в декрете            3296.759962\n",
       "госслужащий          2689.368353\n",
       "компаньон            1547.382223\n",
       "пенсионер          365213.306266\n",
       "предприниматель       520.848083\n",
       "сотрудник            1574.202821\n",
       "студент               578.751554\n",
       "Name: days_employed, dtype: float64"
      ]
     },
     "execution_count": 6,
     "metadata": {},
     "output_type": "execute_result"
    }
   ],
   "source": [
    "data.groupby('income_type')['days_employed'].agg('median')"
   ]
  },
  {
   "cell_type": "markdown",
   "id": "90c5f058",
   "metadata": {
    "id": "90c5f058"
   },
   "source": [
    "У двух типов (безработные и пенсионеры) получатся аномально большие значения. Исправить такие значения сложно, поэтому оставим их как есть."
   ]
  },
  {
   "cell_type": "code",
   "execution_count": 7,
   "id": "dbb37b8e",
   "metadata": {
    "deletable": false,
    "id": "dbb37b8e",
    "outputId": "6975b15c-7f95-4697-d16d-a0c79b657b03"
   },
   "outputs": [
    {
     "data": {
      "text/plain": [
       "array([ 1,  0,  3,  2, -1,  4, 20,  5])"
      ]
     },
     "execution_count": 7,
     "metadata": {},
     "output_type": "execute_result"
    }
   ],
   "source": [
    "data['children'].unique()"
   ]
  },
  {
   "cell_type": "markdown",
   "id": "2b8b0715",
   "metadata": {
    "id": "2b8b0715"
   },
   "source": [
    "В столбце `children` есть два аномальных значения. Удалим строки, в которых встречаются такие аномальные значения из датафрейма `data`."
   ]
  },
  {
   "cell_type": "code",
   "execution_count": 8,
   "id": "20009df8",
   "metadata": {
    "deletable": false,
    "id": "20009df8"
   },
   "outputs": [],
   "source": [
    "data = data[(data['children'] != -1) & (data['children'] != 20)]"
   ]
  },
  {
   "cell_type": "code",
   "execution_count": 9,
   "id": "07337b81",
   "metadata": {
    "deletable": false,
    "id": "07337b81",
    "outputId": "b2097101-d49d-44d9-901b-32a65c9463d1"
   },
   "outputs": [
    {
     "data": {
      "text/plain": [
       "array([1, 0, 3, 2, 4, 5])"
      ]
     },
     "execution_count": 9,
     "metadata": {},
     "output_type": "execute_result"
    }
   ],
   "source": [
    "data['children'].unique()"
   ]
  },
  {
   "cell_type": "markdown",
   "id": "a700b0e4",
   "metadata": {
    "id": "a700b0e4"
   },
   "source": [
    "Заполним пропуски в столбце `days_employed` медианными значениями по каждого типа занятости `income_type`."
   ]
  },
  {
   "cell_type": "code",
   "execution_count": 10,
   "id": "61946b83",
   "metadata": {
    "deletable": false,
    "id": "61946b83"
   },
   "outputs": [],
   "source": [
    "for t in data['income_type'].unique():\n",
    "    data.loc[(data['income_type'] == t) & (data['days_employed'].isna()), 'days_employed'] = \\\n",
    "    data.loc[(data['income_type'] == t), 'days_employed'].median()"
   ]
  },
  {
   "cell_type": "code",
   "execution_count": 11,
   "id": "937c7014",
   "metadata": {
    "deletable": false,
    "id": "937c7014",
    "outputId": "8da1e4e1-358e-4e87-98c9-f261bce0a7b2"
   },
   "outputs": [
    {
     "data": {
      "text/plain": [
       "children            0\n",
       "days_employed       0\n",
       "dob_years           0\n",
       "education           0\n",
       "education_id        0\n",
       "family_status       0\n",
       "family_status_id    0\n",
       "gender              0\n",
       "income_type         0\n",
       "debt                0\n",
       "total_income        0\n",
       "purpose             0\n",
       "dtype: int64"
      ]
     },
     "execution_count": 11,
     "metadata": {},
     "output_type": "execute_result"
    }
   ],
   "source": [
    "data.isna().sum()"
   ]
  },
  {
   "cell_type": "markdown",
   "id": "d522e295",
   "metadata": {
    "deletable": false,
    "editable": false,
    "id": "d522e295"
   },
   "source": [
    "### Изменение типов данных"
   ]
  },
  {
   "cell_type": "markdown",
   "id": "c229c581",
   "metadata": {
    "id": "c229c581"
   },
   "source": [
    "Заменим вещественный тип данных в столбце `total_income` на целочисленный с помощью метода `astype()`."
   ]
  },
  {
   "cell_type": "code",
   "execution_count": 12,
   "id": "31036462",
   "metadata": {
    "deletable": false,
    "id": "31036462"
   },
   "outputs": [],
   "source": [
    "data['total_income'] = data['total_income'].astype(int)"
   ]
  },
  {
   "cell_type": "markdown",
   "id": "b8e3d1d9",
   "metadata": {
    "deletable": false,
    "editable": false,
    "id": "b8e3d1d9"
   },
   "source": [
    "### Обработка дубликатов"
   ]
  },
  {
   "cell_type": "markdown",
   "id": "9be53c49",
   "metadata": {
    "id": "9be53c49"
   },
   "source": [
    "Обработаем неявные дубликаты в столбце `education`. В этом столбце есть одни и те же значения, но записанные по-разному: с использованием заглавных и строчных букв."
   ]
  },
  {
   "cell_type": "code",
   "execution_count": 13,
   "id": "d89e73e1",
   "metadata": {
    "deletable": false,
    "id": "d89e73e1"
   },
   "outputs": [],
   "source": [
    "data['education'] = data['education'].str.lower()"
   ]
  },
  {
   "cell_type": "code",
   "execution_count": 14,
   "id": "e10efb23",
   "metadata": {
    "deletable": false,
    "id": "e10efb23",
    "outputId": "9684deba-1934-42d1-99e1-cda61740f822"
   },
   "outputs": [
    {
     "data": {
      "text/plain": [
       "71"
      ]
     },
     "execution_count": 14,
     "metadata": {},
     "output_type": "execute_result"
    }
   ],
   "source": [
    "data.duplicated().sum()"
   ]
  },
  {
   "cell_type": "code",
   "execution_count": 15,
   "id": "df853f20",
   "metadata": {
    "deletable": false,
    "id": "df853f20"
   },
   "outputs": [],
   "source": [
    "data = data.drop_duplicates()"
   ]
  },
  {
   "cell_type": "markdown",
   "id": "627be38f",
   "metadata": {
    "deletable": false,
    "editable": false,
    "id": "627be38f"
   },
   "source": [
    "### Категоризация данных"
   ]
  },
  {
   "cell_type": "markdown",
   "id": "4684c3e0",
   "metadata": {
    "id": "4684c3e0"
   },
   "source": [
    "На основании диапазонов, указанных ниже, создадим в датафрейме `data` столбец `total_income_category` с категориями:\n",
    "\n",
    "- 0–30000 — `'E'`;\n",
    "- 30001–50000 — `'D'`;\n",
    "- 50001–200000 — `'C'`;\n",
    "- 200001–1000000 — `'B'`;\n",
    "- 1000001 и выше — `'A'`."
   ]
  },
  {
   "cell_type": "code",
   "execution_count": 16,
   "id": "78965238",
   "metadata": {
    "deletable": false,
    "id": "78965238"
   },
   "outputs": [],
   "source": [
    "def categorize_income(income):\n",
    "    try:\n",
    "        if 0 <= income <= 30000:\n",
    "            return 'E'\n",
    "        elif 30001 <= income <= 50000:\n",
    "            return 'D'\n",
    "        elif 50001 <= income <= 200000:\n",
    "            return 'C'\n",
    "        elif 200001 <= income <= 1000000:\n",
    "            return 'B'\n",
    "        elif income >= 1000001:\n",
    "            return 'A'\n",
    "    except:\n",
    "        pass"
   ]
  },
  {
   "cell_type": "code",
   "execution_count": 17,
   "id": "0980ada1",
   "metadata": {
    "deletable": false,
    "id": "0980ada1"
   },
   "outputs": [],
   "source": [
    "data['total_income_category'] = data['total_income'].apply(categorize_income)"
   ]
  },
  {
   "cell_type": "code",
   "execution_count": 18,
   "id": "ee07b65e",
   "metadata": {
    "deletable": false,
    "id": "ee07b65e",
    "outputId": "673c12d9-7d7e-4ae0-9812-c622c89dd244"
   },
   "outputs": [
    {
     "data": {
      "text/plain": [
       "array(['покупка жилья', 'приобретение автомобиля',\n",
       "       'дополнительное образование', 'сыграть свадьбу',\n",
       "       'операции с жильем', 'образование', 'на проведение свадьбы',\n",
       "       'покупка жилья для семьи', 'покупка недвижимости',\n",
       "       'покупка коммерческой недвижимости', 'покупка жилой недвижимости',\n",
       "       'строительство собственной недвижимости', 'недвижимость',\n",
       "       'строительство недвижимости', 'на покупку подержанного автомобиля',\n",
       "       'на покупку своего автомобиля',\n",
       "       'операции с коммерческой недвижимостью',\n",
       "       'строительство жилой недвижимости', 'жилье',\n",
       "       'операции со своей недвижимостью', 'автомобили',\n",
       "       'заняться образованием', 'сделка с подержанным автомобилем',\n",
       "       'получение образования', 'автомобиль', 'свадьба',\n",
       "       'получение дополнительного образования', 'покупка своего жилья',\n",
       "       'операции с недвижимостью', 'получение высшего образования',\n",
       "       'свой автомобиль', 'сделка с автомобилем',\n",
       "       'профильное образование', 'высшее образование',\n",
       "       'покупка жилья для сдачи', 'на покупку автомобиля', 'ремонт жилью',\n",
       "       'заняться высшим образованием'], dtype=object)"
      ]
     },
     "execution_count": 18,
     "metadata": {},
     "output_type": "execute_result"
    }
   ],
   "source": [
    "data['purpose'].unique()"
   ]
  },
  {
   "cell_type": "markdown",
   "id": "52b79d56",
   "metadata": {
    "id": "52b79d56"
   },
   "source": [
    "Сформируем на основании данных из столбца `purpose` сформирует новый столбец `purpose_category`, в который войдут следующие категории:\n",
    "\n",
    "- `'операции с автомобилем'`,\n",
    "- `'операции с недвижимостью'`,\n",
    "- `'проведение свадьбы'`,\n",
    "- `'получение образования'`."
   ]
  },
  {
   "cell_type": "code",
   "execution_count": 19,
   "id": "be41da5d",
   "metadata": {
    "deletable": false,
    "id": "be41da5d"
   },
   "outputs": [],
   "source": [
    "def categorize_purpose(row):\n",
    "    try:\n",
    "        if 'автом' in row:\n",
    "            return 'операции с автомобилем'\n",
    "        elif 'жил' in row or 'недвиж' in row:\n",
    "            return 'операции с недвижимостью'\n",
    "        elif 'свад' in row:\n",
    "            return 'проведение свадьбы'\n",
    "        elif 'образов' in row:\n",
    "            return 'получение образования'\n",
    "    except:\n",
    "        return 'нет категории'"
   ]
  },
  {
   "cell_type": "code",
   "execution_count": 20,
   "id": "94c4a19a",
   "metadata": {
    "deletable": false,
    "id": "94c4a19a"
   },
   "outputs": [],
   "source": [
    "data['purpose_category'] = data['purpose'].apply(categorize_purpose)"
   ]
  },
  {
   "cell_type": "markdown",
   "id": "3d596c34",
   "metadata": {
    "id": "3d596c34"
   },
   "source": [
    "### Исследование данных"
   ]
  },
  {
   "cell_type": "markdown",
   "id": "648db036",
   "metadata": {
    "id": "648db036"
   },
   "source": [
    "#### Есть ли зависимость между количеством детей и возвратом кредита в срок?"
   ]
  },
  {
   "cell_type": "code",
   "execution_count": 21,
   "id": "7fcff25e",
   "metadata": {
    "deletable": false,
    "id": "7fcff25e"
   },
   "outputs": [
    {
     "data": {
      "text/plain": [
       "Index(['children', 'days_employed', 'dob_years', 'education', 'education_id',\n",
       "       'family_status', 'family_status_id', 'gender', 'income_type', 'debt',\n",
       "       'total_income', 'purpose', 'total_income_category', 'purpose_category'],\n",
       "      dtype='object')"
      ]
     },
     "execution_count": 21,
     "metadata": {},
     "output_type": "execute_result"
    }
   ],
   "source": [
    "data.columns"
   ]
  },
  {
   "cell_type": "code",
   "execution_count": 22,
   "id": "b30ed6b8",
   "metadata": {
    "scrolled": false
   },
   "outputs": [
    {
     "name": "stdout",
     "output_type": "stream",
     "text": [
      "          children      debt\n",
      "children  1.000000  0.028706\n",
      "debt      0.028706  1.000000\n"
     ]
    },
    {
     "data": {
      "text/html": [
       "<div>\n",
       "<style scoped>\n",
       "    .dataframe tbody tr th:only-of-type {\n",
       "        vertical-align: middle;\n",
       "    }\n",
       "\n",
       "    .dataframe tbody tr th {\n",
       "        vertical-align: top;\n",
       "    }\n",
       "\n",
       "    .dataframe thead tr th {\n",
       "        text-align: left;\n",
       "    }\n",
       "\n",
       "    .dataframe thead tr:last-of-type th {\n",
       "        text-align: right;\n",
       "    }\n",
       "</style>\n",
       "<table border=\"1\" class=\"dataframe\">\n",
       "  <thead>\n",
       "    <tr>\n",
       "      <th></th>\n",
       "      <th colspan=\"2\" halign=\"left\">debt</th>\n",
       "    </tr>\n",
       "    <tr>\n",
       "      <th></th>\n",
       "      <th>mean</th>\n",
       "      <th>count</th>\n",
       "    </tr>\n",
       "    <tr>\n",
       "      <th>children</th>\n",
       "      <th></th>\n",
       "      <th></th>\n",
       "    </tr>\n",
       "  </thead>\n",
       "  <tbody>\n",
       "    <tr>\n",
       "      <th>0</th>\n",
       "      <td>0.075438</td>\n",
       "      <td>14091</td>\n",
       "    </tr>\n",
       "    <tr>\n",
       "      <th>1</th>\n",
       "      <td>0.092346</td>\n",
       "      <td>4808</td>\n",
       "    </tr>\n",
       "    <tr>\n",
       "      <th>2</th>\n",
       "      <td>0.094542</td>\n",
       "      <td>2052</td>\n",
       "    </tr>\n",
       "    <tr>\n",
       "      <th>3</th>\n",
       "      <td>0.081818</td>\n",
       "      <td>330</td>\n",
       "    </tr>\n",
       "    <tr>\n",
       "      <th>4</th>\n",
       "      <td>0.097561</td>\n",
       "      <td>41</td>\n",
       "    </tr>\n",
       "    <tr>\n",
       "      <th>5</th>\n",
       "      <td>0.000000</td>\n",
       "      <td>9</td>\n",
       "    </tr>\n",
       "  </tbody>\n",
       "</table>\n",
       "</div>"
      ],
      "text/plain": [
       "              debt       \n",
       "              mean  count\n",
       "children                 \n",
       "0         0.075438  14091\n",
       "1         0.092346   4808\n",
       "2         0.094542   2052\n",
       "3         0.081818    330\n",
       "4         0.097561     41\n",
       "5         0.000000      9"
      ]
     },
     "execution_count": 22,
     "metadata": {},
     "output_type": "execute_result"
    }
   ],
   "source": [
    "print(data[['children', 'debt']].corr(method='spearman', min_periods=3))\n",
    "data.groupby('children').agg({'debt':['mean','count']})"
   ]
  },
  {
   "cell_type": "markdown",
   "id": "2eb9088e",
   "metadata": {
    "deletable": false,
    "id": "2eb9088e"
   },
   "source": [
    "**Вывод:** Заёмщики без детей реже имеют долги, чем остальные группы. Заёмщики с более чем 3 детьми слишком малочисленны."
   ]
  },
  {
   "cell_type": "markdown",
   "id": "74c9b3a7",
   "metadata": {
    "id": "74c9b3a7"
   },
   "source": [
    "#### Есть ли зависимость между семейным положением и возвратом кредита в срок?"
   ]
  },
  {
   "cell_type": "code",
   "execution_count": 23,
   "id": "8098ab3b",
   "metadata": {
    "deletable": false,
    "id": "8098ab3b"
   },
   "outputs": [
    {
     "data": {
      "text/html": [
       "<div>\n",
       "<style scoped>\n",
       "    .dataframe tbody tr th:only-of-type {\n",
       "        vertical-align: middle;\n",
       "    }\n",
       "\n",
       "    .dataframe tbody tr th {\n",
       "        vertical-align: top;\n",
       "    }\n",
       "\n",
       "    .dataframe thead tr th {\n",
       "        text-align: left;\n",
       "    }\n",
       "\n",
       "    .dataframe thead tr:last-of-type th {\n",
       "        text-align: right;\n",
       "    }\n",
       "</style>\n",
       "<table border=\"1\" class=\"dataframe\">\n",
       "  <thead>\n",
       "    <tr>\n",
       "      <th></th>\n",
       "      <th colspan=\"2\" halign=\"left\">debt</th>\n",
       "    </tr>\n",
       "    <tr>\n",
       "      <th></th>\n",
       "      <th>mean</th>\n",
       "      <th>count</th>\n",
       "    </tr>\n",
       "    <tr>\n",
       "      <th>family_status</th>\n",
       "      <th></th>\n",
       "      <th></th>\n",
       "    </tr>\n",
       "  </thead>\n",
       "  <tbody>\n",
       "    <tr>\n",
       "      <th>Не женат / не замужем</th>\n",
       "      <td>0.097639</td>\n",
       "      <td>2796</td>\n",
       "    </tr>\n",
       "    <tr>\n",
       "      <th>в разводе</th>\n",
       "      <td>0.070648</td>\n",
       "      <td>1189</td>\n",
       "    </tr>\n",
       "    <tr>\n",
       "      <th>вдовец / вдова</th>\n",
       "      <td>0.066246</td>\n",
       "      <td>951</td>\n",
       "    </tr>\n",
       "    <tr>\n",
       "      <th>гражданский брак</th>\n",
       "      <td>0.093130</td>\n",
       "      <td>4134</td>\n",
       "    </tr>\n",
       "    <tr>\n",
       "      <th>женат / замужем</th>\n",
       "      <td>0.075606</td>\n",
       "      <td>12261</td>\n",
       "    </tr>\n",
       "  </tbody>\n",
       "</table>\n",
       "</div>"
      ],
      "text/plain": [
       "                           debt       \n",
       "                           mean  count\n",
       "family_status                         \n",
       "Не женат / не замужем  0.097639   2796\n",
       "в разводе              0.070648   1189\n",
       "вдовец / вдова         0.066246    951\n",
       "гражданский брак       0.093130   4134\n",
       "женат / замужем        0.075606  12261"
      ]
     },
     "execution_count": 23,
     "metadata": {},
     "output_type": "execute_result"
    }
   ],
   "source": [
    "# Переменная качественная, поэтому не используем коэффициент корреляции\n",
    "data.groupby('family_status').agg({'debt':['mean','count']})"
   ]
  },
  {
   "cell_type": "markdown",
   "id": "c389ca63",
   "metadata": {
    "deletable": false,
    "id": "c389ca63"
   },
   "source": [
    "**Вывод:** Заёмщики в статусе 'не женат/не замужем' и 'гражданский брак' более склонны к просрочке платежей."
   ]
  },
  {
   "cell_type": "markdown",
   "id": "9529de68",
   "metadata": {
    "id": "9529de68"
   },
   "source": [
    "#### Есть ли зависимость между уровнем дохода и возвратом кредита в срок?"
   ]
  },
  {
   "cell_type": "code",
   "execution_count": 24,
   "id": "8787f44a",
   "metadata": {
    "deletable": false,
    "id": "8787f44a"
   },
   "outputs": [
    {
     "name": "stdout",
     "output_type": "stream",
     "text": [
      "              total_income      debt\n",
      "total_income      1.000000 -0.012671\n",
      "debt             -0.012671  1.000000\n"
     ]
    },
    {
     "data": {
      "text/html": [
       "<div>\n",
       "<style scoped>\n",
       "    .dataframe tbody tr th:only-of-type {\n",
       "        vertical-align: middle;\n",
       "    }\n",
       "\n",
       "    .dataframe tbody tr th {\n",
       "        vertical-align: top;\n",
       "    }\n",
       "\n",
       "    .dataframe thead tr th {\n",
       "        text-align: left;\n",
       "    }\n",
       "\n",
       "    .dataframe thead tr:last-of-type th {\n",
       "        text-align: right;\n",
       "    }\n",
       "</style>\n",
       "<table border=\"1\" class=\"dataframe\">\n",
       "  <thead>\n",
       "    <tr>\n",
       "      <th></th>\n",
       "      <th colspan=\"2\" halign=\"left\">debt</th>\n",
       "    </tr>\n",
       "    <tr>\n",
       "      <th></th>\n",
       "      <th>mean</th>\n",
       "      <th>count</th>\n",
       "    </tr>\n",
       "    <tr>\n",
       "      <th>total_income_category</th>\n",
       "      <th></th>\n",
       "      <th></th>\n",
       "    </tr>\n",
       "  </thead>\n",
       "  <tbody>\n",
       "    <tr>\n",
       "      <th>A</th>\n",
       "      <td>0.080000</td>\n",
       "      <td>25</td>\n",
       "    </tr>\n",
       "    <tr>\n",
       "      <th>B</th>\n",
       "      <td>0.070602</td>\n",
       "      <td>5014</td>\n",
       "    </tr>\n",
       "    <tr>\n",
       "      <th>C</th>\n",
       "      <td>0.084982</td>\n",
       "      <td>15921</td>\n",
       "    </tr>\n",
       "    <tr>\n",
       "      <th>D</th>\n",
       "      <td>0.060172</td>\n",
       "      <td>349</td>\n",
       "    </tr>\n",
       "    <tr>\n",
       "      <th>E</th>\n",
       "      <td>0.090909</td>\n",
       "      <td>22</td>\n",
       "    </tr>\n",
       "  </tbody>\n",
       "</table>\n",
       "</div>"
      ],
      "text/plain": [
       "                           debt       \n",
       "                           mean  count\n",
       "total_income_category                 \n",
       "A                      0.080000     25\n",
       "B                      0.070602   5014\n",
       "C                      0.084982  15921\n",
       "D                      0.060172    349\n",
       "E                      0.090909     22"
      ]
     },
     "execution_count": 24,
     "metadata": {},
     "output_type": "execute_result"
    }
   ],
   "source": [
    "print(data[['total_income', 'debt']].corr(min_periods=3))\n",
    "data.groupby('total_income_category').agg({'debt':['mean','count']})"
   ]
  },
  {
   "cell_type": "markdown",
   "id": "6dd14b57",
   "metadata": {
    "deletable": false,
    "id": "6dd14b57"
   },
   "source": [
    "**Вывод:** Заёмщики в категориях A, D и E слишком малочисленны. Взаимосвязь практически отсутствует."
   ]
  },
  {
   "cell_type": "markdown",
   "id": "1dcc9b12",
   "metadata": {
    "id": "1dcc9b12"
   },
   "source": [
    "#### Как разные цели кредита влияют на его возврат в срок?"
   ]
  },
  {
   "cell_type": "code",
   "execution_count": 25,
   "id": "c602bc8b",
   "metadata": {
    "deletable": false,
    "id": "c602bc8b"
   },
   "outputs": [
    {
     "data": {
      "text/html": [
       "<div>\n",
       "<style scoped>\n",
       "    .dataframe tbody tr th:only-of-type {\n",
       "        vertical-align: middle;\n",
       "    }\n",
       "\n",
       "    .dataframe tbody tr th {\n",
       "        vertical-align: top;\n",
       "    }\n",
       "\n",
       "    .dataframe thead tr th {\n",
       "        text-align: left;\n",
       "    }\n",
       "\n",
       "    .dataframe thead tr:last-of-type th {\n",
       "        text-align: right;\n",
       "    }\n",
       "</style>\n",
       "<table border=\"1\" class=\"dataframe\">\n",
       "  <thead>\n",
       "    <tr>\n",
       "      <th></th>\n",
       "      <th colspan=\"2\" halign=\"left\">debt</th>\n",
       "    </tr>\n",
       "    <tr>\n",
       "      <th></th>\n",
       "      <th>mean</th>\n",
       "      <th>count</th>\n",
       "    </tr>\n",
       "    <tr>\n",
       "      <th>purpose_category</th>\n",
       "      <th></th>\n",
       "      <th></th>\n",
       "    </tr>\n",
       "  </thead>\n",
       "  <tbody>\n",
       "    <tr>\n",
       "      <th>операции с автомобилем</th>\n",
       "      <td>0.093480</td>\n",
       "      <td>4279</td>\n",
       "    </tr>\n",
       "    <tr>\n",
       "      <th>операции с недвижимостью</th>\n",
       "      <td>0.072551</td>\n",
       "      <td>10751</td>\n",
       "    </tr>\n",
       "    <tr>\n",
       "      <th>получение образования</th>\n",
       "      <td>0.092528</td>\n",
       "      <td>3988</td>\n",
       "    </tr>\n",
       "    <tr>\n",
       "      <th>проведение свадьбы</th>\n",
       "      <td>0.079118</td>\n",
       "      <td>2313</td>\n",
       "    </tr>\n",
       "  </tbody>\n",
       "</table>\n",
       "</div>"
      ],
      "text/plain": [
       "                              debt       \n",
       "                              mean  count\n",
       "purpose_category                         \n",
       "операции с автомобилем    0.093480   4279\n",
       "операции с недвижимостью  0.072551  10751\n",
       "получение образования     0.092528   3988\n",
       "проведение свадьбы        0.079118   2313"
      ]
     },
     "execution_count": 25,
     "metadata": {},
     "output_type": "execute_result"
    }
   ],
   "source": [
    "data.groupby('purpose_category').agg({'debt':['mean','count']})"
   ]
  },
  {
   "cell_type": "markdown",
   "id": "cf05ed63",
   "metadata": {
    "deletable": false,
    "id": "cf05ed63"
   },
   "source": [
    "**Вывод:** Заёмщики, берущие деньги на операции с автомобилем и получение образования, более склонны к просрочке платежей."
   ]
  },
  {
   "cell_type": "markdown",
   "id": "46c1f10b",
   "metadata": {
    "id": "46c1f10b"
   },
   "source": [
    "#### 3.5 Приведите возможные причины появления пропусков в исходных данных."
   ]
  },
  {
   "cell_type": "code",
   "execution_count": 26,
   "id": "28962d0c",
   "metadata": {},
   "outputs": [
    {
     "name": "stdout",
     "output_type": "stream",
     "text": [
      "\n",
      "Проверяем гипотезу, что это кредиты на образование (не требуют 2-НДФЛ):\n",
      "purpose_category\n",
      "операции с недвижимостью    1082\n",
      "получение образования        425\n",
      "операции с автомобилем       418\n",
      "проведение свадьбы           249\n",
      "Name: count, dtype: int64\n",
      "\n",
      "Проверяем гипотезу, что люди без стажа:\n",
      "2194.220566878695\n",
      "nan\n",
      "\n",
      "Проверяем гипотезу, что это безработные:\n",
      "income_type\n",
      "сотрудник          1105\n",
      "компаньон           508\n",
      "пенсионер           413\n",
      "госслужащий         147\n",
      "предприниматель       1\n",
      "Name: count, dtype: int64\n"
     ]
    }
   ],
   "source": [
    "import pandas as pd\n",
    "\n",
    "def categorize_purpose(row):\n",
    "    try:\n",
    "        if 'автом' in row:\n",
    "            return 'операции с автомобилем'\n",
    "        elif 'жил' in row or 'недвиж' in row:\n",
    "            return 'операции с недвижимостью'\n",
    "        elif 'свад' in row:\n",
    "            return 'проведение свадьбы'\n",
    "        elif 'образов' in row:\n",
    "            return 'получение образования'\n",
    "    except:\n",
    "        return 'нет категории'\n",
    "\n",
    "try:\n",
    "    data = pd.read_csv('/datasets/data.csv')\n",
    "except:\n",
    "    data = pd.read_csv('https://code.s3.yandex.net/datasets/data.csv')\n",
    "    \n",
    "data['purpose_category'] = data['purpose'].apply(categorize_purpose)\n",
    "data['days_employed'] = data['days_employed'].abs()\n",
    "data_no_income = data[data['total_income'].isna()==True]\n",
    "print('')\n",
    "print('Проверяем гипотезу, что это кредиты на образование (не требуют 2-НДФЛ):')\n",
    "print(data_no_income['purpose_category'].value_counts())\n",
    "print('')\n",
    "print('Проверяем гипотезу, что люди без стажа:')\n",
    "print(data['days_employed'].median())\n",
    "print(data_no_income['days_employed'].median())\n",
    "print('')\n",
    "print('Проверяем гипотезу, что это безработные:')\n",
    "print(data_no_income['income_type'].value_counts())"
   ]
  },
  {
   "cell_type": "markdown",
   "id": "3697d2a9",
   "metadata": {
    "id": "3697d2a9"
   },
   "source": [
    "*Ответ:* Поскольку оба столбца, где были пропуски (стаж и доход) связаны с данными трудовой деятельности, то возможно, что у заёмщика отсутствовали при себе какие-либо документы, либо данные не удалось добыть из бюро кредитных историй\n",
    "\n",
    "- Гипотеза, что это скорее всего студенты, отвергнута\n",
    "- Гипотеза, что это скорее всего безработные, отвергнута\n",
    "- Поскольку это занятые (среди них нет безработных и студентов), то скорее всего, они работают \"в серую\" и не имеют как сведений о доходах, так и сведений о стаже"
   ]
  },
  {
   "cell_type": "markdown",
   "id": "57bc304e",
   "metadata": {
    "id": "57bc304e"
   },
   "source": [
    "### Общий вывод\n",
    "\n",
    "В результате анализа данных по заёмщикам удалось выяснить, что на надёжность влияют:\n",
    "- наличие детей (заёмщики без детей более надёжны)\n",
    "- семейное положение (более надёжны заёмщики в браке и вдовы/вдовцы)\n",
    "- цель получения кредита (более надёжны заёмщики, берущие деньги на операции с недвижимостью и свадьбы)\n",
    "<br> \n",
    "Заёмщики в категориях A, D и E слишком малочисленны. Взаимосвязь с наличием долгов по сегментам практически отсутствует. Нам следует пересмотреть присвоение рейтинга."
   ]
  }
 ],
 "metadata": {
  "ExecuteTimeLog": [
   {
    "duration": 43,
    "start_time": "2023-12-02T22:50:56.353Z"
   },
   {
    "duration": 445,
    "start_time": "2023-12-02T22:51:06.833Z"
   },
   {
    "duration": 20,
    "start_time": "2023-12-02T22:51:07.280Z"
   },
   {
    "duration": 17,
    "start_time": "2023-12-02T22:51:07.302Z"
   },
   {
    "duration": 22,
    "start_time": "2023-12-02T22:51:07.320Z"
   },
   {
    "duration": 54,
    "start_time": "2023-12-02T22:51:07.344Z"
   },
   {
    "duration": 3,
    "start_time": "2023-12-02T22:51:07.399Z"
   },
   {
    "duration": 15,
    "start_time": "2023-12-02T22:51:07.403Z"
   },
   {
    "duration": 29,
    "start_time": "2023-12-02T22:51:07.419Z"
   },
   {
    "duration": 49,
    "start_time": "2023-12-02T22:51:07.449Z"
   },
   {
    "duration": 33,
    "start_time": "2023-12-02T22:51:07.499Z"
   },
   {
    "duration": 50,
    "start_time": "2023-12-02T22:51:07.534Z"
   },
   {
    "duration": 9,
    "start_time": "2023-12-02T22:51:07.586Z"
   },
   {
    "duration": 24,
    "start_time": "2023-12-02T22:51:07.597Z"
   },
   {
    "duration": 54,
    "start_time": "2023-12-02T22:51:07.624Z"
   },
   {
    "duration": 27,
    "start_time": "2023-12-02T22:51:07.679Z"
   },
   {
    "duration": 15,
    "start_time": "2023-12-02T22:51:07.707Z"
   },
   {
    "duration": 3,
    "start_time": "2023-12-02T22:51:07.724Z"
   },
   {
    "duration": 18,
    "start_time": "2023-12-02T22:51:07.728Z"
   },
   {
    "duration": 10,
    "start_time": "2023-12-02T22:51:07.747Z"
   },
   {
    "duration": 3,
    "start_time": "2023-12-02T22:51:07.759Z"
   },
   {
    "duration": 12,
    "start_time": "2023-12-02T22:51:07.763Z"
   },
   {
    "duration": 3,
    "start_time": "2023-12-02T22:51:10.915Z"
   },
   {
    "duration": 125,
    "start_time": "2023-12-02T22:53:32.597Z"
   },
   {
    "duration": 12,
    "start_time": "2023-12-02T22:56:33.383Z"
   },
   {
    "duration": 9,
    "start_time": "2023-12-02T22:57:30.651Z"
   },
   {
    "duration": 6,
    "start_time": "2023-12-02T22:59:49.899Z"
   },
   {
    "duration": 7,
    "start_time": "2023-12-02T23:04:38.398Z"
   },
   {
    "duration": 7,
    "start_time": "2023-12-02T23:04:56.920Z"
   },
   {
    "duration": 11,
    "start_time": "2023-12-02T23:12:04.238Z"
   },
   {
    "duration": 7,
    "start_time": "2023-12-02T23:57:46.134Z"
   },
   {
    "duration": 9,
    "start_time": "2023-12-02T23:58:19.204Z"
   },
   {
    "duration": 9,
    "start_time": "2023-12-02T23:58:32.028Z"
   },
   {
    "duration": 14,
    "start_time": "2023-12-02T23:59:11.396Z"
   },
   {
    "duration": 17,
    "start_time": "2023-12-02T23:59:57.993Z"
   },
   {
    "duration": 13,
    "start_time": "2023-12-03T00:00:59.516Z"
   },
   {
    "duration": 10,
    "start_time": "2023-12-03T00:01:43.178Z"
   },
   {
    "duration": 12,
    "start_time": "2023-12-03T00:02:29.047Z"
   },
   {
    "duration": 12,
    "start_time": "2023-12-03T00:03:30.091Z"
   },
   {
    "duration": 27,
    "start_time": "2023-12-03T00:24:10.685Z"
   },
   {
    "duration": 436,
    "start_time": "2023-12-03T00:24:28.503Z"
   },
   {
    "duration": 17,
    "start_time": "2023-12-03T00:24:41.070Z"
   },
   {
    "duration": 7,
    "start_time": "2023-12-03T00:24:43.225Z"
   },
   {
    "duration": 1711,
    "start_time": "2023-12-03T00:31:34.317Z"
   },
   {
    "duration": 22,
    "start_time": "2023-12-03T00:32:10.316Z"
   },
   {
    "duration": 21,
    "start_time": "2023-12-03T00:32:19.478Z"
   },
   {
    "duration": 8,
    "start_time": "2023-12-03T00:32:40.540Z"
   },
   {
    "duration": 1695,
    "start_time": "2023-12-03T00:32:52.754Z"
   },
   {
    "duration": 7,
    "start_time": "2023-12-03T00:33:02.110Z"
   },
   {
    "duration": 10,
    "start_time": "2023-12-03T00:33:11.315Z"
   },
   {
    "duration": 7,
    "start_time": "2023-12-03T00:33:16.222Z"
   },
   {
    "duration": 8,
    "start_time": "2023-12-03T00:33:22.312Z"
   },
   {
    "duration": 75,
    "start_time": "2023-12-03T00:33:32.861Z"
   },
   {
    "duration": 15,
    "start_time": "2023-12-03T00:33:32.938Z"
   },
   {
    "duration": 23,
    "start_time": "2023-12-03T00:33:32.955Z"
   },
   {
    "duration": 16,
    "start_time": "2023-12-03T00:33:32.979Z"
   },
   {
    "duration": 43,
    "start_time": "2023-12-03T00:33:32.997Z"
   },
   {
    "duration": 3,
    "start_time": "2023-12-03T00:33:33.042Z"
   },
   {
    "duration": 9,
    "start_time": "2023-12-03T00:33:33.046Z"
   },
   {
    "duration": 4,
    "start_time": "2023-12-03T00:33:33.056Z"
   },
   {
    "duration": 6,
    "start_time": "2023-12-03T00:33:33.061Z"
   },
   {
    "duration": 3,
    "start_time": "2023-12-03T00:33:33.069Z"
   },
   {
    "duration": 58,
    "start_time": "2023-12-03T00:33:33.074Z"
   },
   {
    "duration": 10,
    "start_time": "2023-12-03T00:33:33.133Z"
   },
   {
    "duration": 3,
    "start_time": "2023-12-03T00:33:33.144Z"
   },
   {
    "duration": 11,
    "start_time": "2023-12-03T00:33:33.150Z"
   },
   {
    "duration": 19,
    "start_time": "2023-12-03T00:33:33.162Z"
   },
   {
    "duration": 41,
    "start_time": "2023-12-03T00:33:33.182Z"
   },
   {
    "duration": 3,
    "start_time": "2023-12-03T00:33:33.224Z"
   },
   {
    "duration": 58,
    "start_time": "2023-12-03T00:33:33.229Z"
   },
   {
    "duration": 30,
    "start_time": "2023-12-03T00:33:33.290Z"
   },
   {
    "duration": 5,
    "start_time": "2023-12-03T00:33:33.321Z"
   },
   {
    "duration": 13,
    "start_time": "2023-12-03T00:33:33.327Z"
   },
   {
    "duration": 13,
    "start_time": "2023-12-03T00:33:33.341Z"
   },
   {
    "duration": 35,
    "start_time": "2023-12-03T00:33:33.356Z"
   },
   {
    "duration": 8,
    "start_time": "2023-12-03T00:33:33.393Z"
   },
   {
    "duration": 1489,
    "start_time": "2023-12-03T00:33:37.293Z"
   },
   {
    "duration": 7,
    "start_time": "2023-12-03T00:33:57.472Z"
   },
   {
    "duration": 4,
    "start_time": "2023-12-03T00:33:59.970Z"
   },
   {
    "duration": 16,
    "start_time": "2023-12-03T00:34:49.239Z"
   },
   {
    "duration": 17,
    "start_time": "2023-12-03T00:34:53.801Z"
   },
   {
    "duration": 15,
    "start_time": "2023-12-03T00:35:01.668Z"
   },
   {
    "duration": 16,
    "start_time": "2023-12-03T00:36:49.088Z"
   },
   {
    "duration": 17,
    "start_time": "2023-12-03T00:37:07.078Z"
   },
   {
    "duration": 15,
    "start_time": "2023-12-03T00:37:15.314Z"
   },
   {
    "duration": 35,
    "start_time": "2023-12-03T00:37:31.900Z"
   },
   {
    "duration": 16,
    "start_time": "2023-12-03T00:40:55.998Z"
   },
   {
    "duration": 13,
    "start_time": "2023-12-03T00:43:59.657Z"
   },
   {
    "duration": 15,
    "start_time": "2023-12-03T00:44:08.708Z"
   },
   {
    "duration": 493,
    "start_time": "2023-12-03T09:57:05.791Z"
   },
   {
    "duration": 21,
    "start_time": "2023-12-03T09:57:06.286Z"
   },
   {
    "duration": 14,
    "start_time": "2023-12-03T09:57:06.308Z"
   },
   {
    "duration": 9,
    "start_time": "2023-12-03T09:57:06.323Z"
   },
   {
    "duration": 56,
    "start_time": "2023-12-03T09:57:06.335Z"
   },
   {
    "duration": 3,
    "start_time": "2023-12-03T09:57:06.393Z"
   },
   {
    "duration": 11,
    "start_time": "2023-12-03T09:57:06.397Z"
   },
   {
    "duration": 3,
    "start_time": "2023-12-03T09:57:06.410Z"
   },
   {
    "duration": 7,
    "start_time": "2023-12-03T09:57:06.415Z"
   },
   {
    "duration": 5,
    "start_time": "2023-12-03T09:57:06.424Z"
   },
   {
    "duration": 67,
    "start_time": "2023-12-03T09:57:06.431Z"
   },
   {
    "duration": 11,
    "start_time": "2023-12-03T09:57:06.499Z"
   },
   {
    "duration": 6,
    "start_time": "2023-12-03T09:57:06.512Z"
   },
   {
    "duration": 12,
    "start_time": "2023-12-03T09:57:06.521Z"
   },
   {
    "duration": 19,
    "start_time": "2023-12-03T09:57:06.534Z"
   },
   {
    "duration": 38,
    "start_time": "2023-12-03T09:57:06.554Z"
   },
   {
    "duration": 3,
    "start_time": "2023-12-03T09:57:06.593Z"
   },
   {
    "duration": 24,
    "start_time": "2023-12-03T09:57:06.598Z"
   },
   {
    "duration": 6,
    "start_time": "2023-12-03T09:57:06.623Z"
   },
   {
    "duration": 5,
    "start_time": "2023-12-03T09:57:06.630Z"
   },
   {
    "duration": 19,
    "start_time": "2023-12-03T09:57:06.636Z"
   },
   {
    "duration": 15,
    "start_time": "2023-12-03T09:57:06.657Z"
   },
   {
    "duration": 19,
    "start_time": "2023-12-03T09:57:06.674Z"
   },
   {
    "duration": 11,
    "start_time": "2023-12-03T09:57:06.694Z"
   },
   {
    "duration": 15,
    "start_time": "2023-12-03T09:57:06.706Z"
   },
   {
    "duration": 12,
    "start_time": "2023-12-03T09:57:06.723Z"
   },
   {
    "duration": 7,
    "start_time": "2023-12-03T09:57:06.736Z"
   },
   {
    "duration": 783,
    "start_time": "2023-12-03T22:00:24.988Z"
   },
   {
    "duration": 102,
    "start_time": "2023-12-03T22:00:30.703Z"
   },
   {
    "duration": 89,
    "start_time": "2023-12-03T22:00:39.742Z"
   },
   {
    "duration": 93,
    "start_time": "2023-12-03T22:01:06.552Z"
   },
   {
    "duration": 94,
    "start_time": "2023-12-03T22:03:24.762Z"
   },
   {
    "duration": 91,
    "start_time": "2023-12-03T22:03:53.355Z"
   },
   {
    "duration": 92,
    "start_time": "2023-12-03T22:04:45.767Z"
   },
   {
    "duration": 94,
    "start_time": "2023-12-03T22:08:18.185Z"
   },
   {
    "duration": 426,
    "start_time": "2023-12-04T06:44:56.216Z"
   },
   {
    "duration": 19,
    "start_time": "2023-12-04T06:44:56.643Z"
   },
   {
    "duration": 12,
    "start_time": "2023-12-04T06:44:56.663Z"
   },
   {
    "duration": 7,
    "start_time": "2023-12-04T06:44:56.676Z"
   },
   {
    "duration": 44,
    "start_time": "2023-12-04T06:44:56.685Z"
   },
   {
    "duration": 2,
    "start_time": "2023-12-04T06:44:56.731Z"
   },
   {
    "duration": 20,
    "start_time": "2023-12-04T06:44:56.734Z"
   },
   {
    "duration": 4,
    "start_time": "2023-12-04T06:44:56.755Z"
   },
   {
    "duration": 5,
    "start_time": "2023-12-04T06:44:56.761Z"
   },
   {
    "duration": 4,
    "start_time": "2023-12-04T06:44:56.768Z"
   },
   {
    "duration": 31,
    "start_time": "2023-12-04T06:44:56.773Z"
   },
   {
    "duration": 9,
    "start_time": "2023-12-04T06:44:56.815Z"
   },
   {
    "duration": 3,
    "start_time": "2023-12-04T06:44:56.825Z"
   },
   {
    "duration": 12,
    "start_time": "2023-12-04T06:44:56.829Z"
   },
   {
    "duration": 15,
    "start_time": "2023-12-04T06:44:56.843Z"
   },
   {
    "duration": 14,
    "start_time": "2023-12-04T06:44:56.860Z"
   },
   {
    "duration": 3,
    "start_time": "2023-12-04T06:44:56.875Z"
   },
   {
    "duration": 11,
    "start_time": "2023-12-04T06:44:56.879Z"
   },
   {
    "duration": 25,
    "start_time": "2023-12-04T06:44:56.891Z"
   },
   {
    "duration": 3,
    "start_time": "2023-12-04T06:44:56.917Z"
   },
   {
    "duration": 10,
    "start_time": "2023-12-04T06:44:56.921Z"
   },
   {
    "duration": 4,
    "start_time": "2023-12-04T06:44:56.932Z"
   },
   {
    "duration": 17,
    "start_time": "2023-12-04T06:44:56.937Z"
   },
   {
    "duration": 10,
    "start_time": "2023-12-04T06:44:56.955Z"
   },
   {
    "duration": 12,
    "start_time": "2023-12-04T06:44:56.966Z"
   },
   {
    "duration": 40,
    "start_time": "2023-12-04T06:44:56.979Z"
   },
   {
    "duration": 54,
    "start_time": "2023-12-04T06:44:57.020Z"
   },
   {
    "duration": 6,
    "start_time": "2023-12-04T06:44:57.077Z"
   }
  ],
  "celltoolbar": "Редактировать метаданные",
  "colab": {
   "provenance": []
  },
  "kernelspec": {
   "display_name": "Python 3 (ipykernel)",
   "language": "python",
   "name": "python3"
  },
  "language_info": {
   "codemirror_mode": {
    "name": "ipython",
    "version": 3
   },
   "file_extension": ".py",
   "mimetype": "text/x-python",
   "name": "python",
   "nbconvert_exporter": "python",
   "pygments_lexer": "ipython3",
   "version": "3.11.5"
  },
  "toc": {
   "base_numbering": 1,
   "nav_menu": {},
   "number_sections": true,
   "sideBar": true,
   "skip_h1_title": true,
   "title_cell": "Table of Contents",
   "title_sidebar": "Contents",
   "toc_cell": false,
   "toc_position": {},
   "toc_section_display": true,
   "toc_window_display": true
  }
 },
 "nbformat": 4,
 "nbformat_minor": 5
}
