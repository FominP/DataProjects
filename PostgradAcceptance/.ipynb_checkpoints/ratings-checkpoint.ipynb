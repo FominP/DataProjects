{
 "cells": [
  {
   "cell_type": "markdown",
   "id": "dab5fb74-d71b-4ae9-a462-a4fee2d7ef90",
   "metadata": {
    "tags": []
   },
   "source": [
    "# Предобработка"
   ]
  },
  {
   "cell_type": "code",
   "execution_count": 1,
   "id": "3882a293",
   "metadata": {
    "tags": []
   },
   "outputs": [],
   "source": [
    "import pandas as pd\n",
    "import numpy as np\n",
    "import matplotlib.pyplot as plt\n",
    "import numpy as np\n",
    "import matplotlib.font_manager as fm\n",
    "import plotly.graph_objects as go\n",
    "\n",
    "from charts import * # функции для стилизации графиков и сохранения .svg"
   ]
  },
  {
   "cell_type": "code",
   "execution_count": 2,
   "id": "32517fb3",
   "metadata": {
    "tags": []
   },
   "outputs": [],
   "source": [
    "df4 = pd.read_excel('4сент.xlsx')\n",
    "df5 = pd.read_excel('5сент.xlsx')\n",
    "df8 = pd.read_excel('8сент.xlsx')\n",
    "df9 = pd.read_excel('9сент.xlsx')\n",
    "df10 = pd.read_excel('10сент.xlsx')\n",
    "df12 = pd.read_excel('12сент.xlsx', header=1)\n",
    "df15 = pd.read_excel('15сент.xlsx', header=2)\n",
    "df17 = pd.read_excel('17сент.xlsx', header=1)\n",
    "\n",
    "df_stat_13 = pd.read_excel('Статистика.xlsx')\n",
    "df_stat_17 = pd.read_excel('статистика17сент.xlsx', header=1)\n",
    "\n",
    "df_ach = pd.read_excel('achievements.xlsx', header=1)\n",
    "\n",
    "df_econ = pd.concat([df4, df5, df8, df9, df10, df12, df15, df17])\n",
    "df_stat = pd.concat([df_stat_13, df_stat_17])\n",
    "\n",
    "df_final = pd.read_csv('Конкурсные_списки.csv', sep=';')"
   ]
  },
  {
   "cell_type": "code",
   "execution_count": 3,
   "id": "5aef284b-dd0f-4c9c-af70-43bcd3586e11",
   "metadata": {
    "tags": []
   },
   "outputs": [
    {
     "data": {
      "text/html": [
       "<div>\n",
       "<style scoped>\n",
       "    .dataframe tbody tr th:only-of-type {\n",
       "        vertical-align: middle;\n",
       "    }\n",
       "\n",
       "    .dataframe tbody tr th {\n",
       "        vertical-align: top;\n",
       "    }\n",
       "\n",
       "    .dataframe thead th {\n",
       "        text-align: right;\n",
       "    }\n",
       "</style>\n",
       "<table border=\"1\" class=\"dataframe\">\n",
       "  <thead>\n",
       "    <tr style=\"text-align: right;\">\n",
       "      <th></th>\n",
       "      <th>Абитуриент</th>\n",
       "      <th>Группа научных специальностей</th>\n",
       "      <th>Баллы за\\nиндивидуальные достижения</th>\n",
       "    </tr>\n",
       "  </thead>\n",
       "  <tbody>\n",
       "    <tr>\n",
       "      <th>0</th>\n",
       "      <td>5110700</td>\n",
       "      <td>4.3. Агроинженерия и пищевые\\nтехнологии</td>\n",
       "      <td>0</td>\n",
       "    </tr>\n",
       "    <tr>\n",
       "      <th>1</th>\n",
       "      <td>5114594</td>\n",
       "      <td>5.2. Экономика</td>\n",
       "      <td>2</td>\n",
       "    </tr>\n",
       "    <tr>\n",
       "      <th>2</th>\n",
       "      <td>5214160</td>\n",
       "      <td>2.3. Информационные технологии\\nи телекоммуник...</td>\n",
       "      <td>0</td>\n",
       "    </tr>\n",
       "    <tr>\n",
       "      <th>3</th>\n",
       "      <td>5225709</td>\n",
       "      <td>5.2. Экономика</td>\n",
       "      <td>0</td>\n",
       "    </tr>\n",
       "    <tr>\n",
       "      <th>4</th>\n",
       "      <td>5240694</td>\n",
       "      <td>5.2. Экономика</td>\n",
       "      <td>0</td>\n",
       "    </tr>\n",
       "    <tr>\n",
       "      <th>...</th>\n",
       "      <td>...</td>\n",
       "      <td>...</td>\n",
       "      <td>...</td>\n",
       "    </tr>\n",
       "    <tr>\n",
       "      <th>136</th>\n",
       "      <td>5238794</td>\n",
       "      <td>5.2. Экономика</td>\n",
       "      <td>2</td>\n",
       "    </tr>\n",
       "    <tr>\n",
       "      <th>137</th>\n",
       "      <td>5239156</td>\n",
       "      <td>5.2. Экономика</td>\n",
       "      <td>0</td>\n",
       "    </tr>\n",
       "    <tr>\n",
       "      <th>138</th>\n",
       "      <td>5239272</td>\n",
       "      <td>5.2. Экономика</td>\n",
       "      <td>0</td>\n",
       "    </tr>\n",
       "    <tr>\n",
       "      <th>139</th>\n",
       "      <td>5239758</td>\n",
       "      <td>5.8. Педагогика</td>\n",
       "      <td>0</td>\n",
       "    </tr>\n",
       "    <tr>\n",
       "      <th>140</th>\n",
       "      <td>5239789</td>\n",
       "      <td>5.2. Экономика</td>\n",
       "      <td>0</td>\n",
       "    </tr>\n",
       "  </tbody>\n",
       "</table>\n",
       "<p>141 rows × 3 columns</p>\n",
       "</div>"
      ],
      "text/plain": [
       "     Абитуриент                      Группа научных специальностей  \\\n",
       "0       5110700           4.3. Агроинженерия и пищевые\\nтехнологии   \n",
       "1       5114594                                     5.2. Экономика   \n",
       "2       5214160  2.3. Информационные технологии\\nи телекоммуник...   \n",
       "3       5225709                                     5.2. Экономика   \n",
       "4       5240694                                     5.2. Экономика   \n",
       "..          ...                                                ...   \n",
       "136     5238794                                     5.2. Экономика   \n",
       "137     5239156                                     5.2. Экономика   \n",
       "138     5239272                                     5.2. Экономика   \n",
       "139     5239758                                    5.8. Педагогика   \n",
       "140     5239789                                     5.2. Экономика   \n",
       "\n",
       "     Баллы за\\nиндивидуальные достижения  \n",
       "0                                      0  \n",
       "1                                      2  \n",
       "2                                      0  \n",
       "3                                      0  \n",
       "4                                      0  \n",
       "..                                   ...  \n",
       "136                                    2  \n",
       "137                                    0  \n",
       "138                                    0  \n",
       "139                                    0  \n",
       "140                                    0  \n",
       "\n",
       "[141 rows x 3 columns]"
      ]
     },
     "execution_count": 3,
     "metadata": {},
     "output_type": "execute_result"
    }
   ],
   "source": [
    "df_ach"
   ]
  },
  {
   "cell_type": "code",
   "execution_count": 4,
   "id": "084e9dc2-7786-4f78-b666-ea7d5b1a317f",
   "metadata": {},
   "outputs": [],
   "source": [
    "df_ach = df_ach.rename(columns={'Абитуриент':'id', 'Группа научных специальностей':'group','Научная специальность':'field', 'Баллы за\\nиндивидуальные достижения':'additional_points'})\n",
    "df_ach = df_ach[df_ach['group']=='5.2. Экономика']\n",
    "df_ach = df_ach.drop('group', axis='columns')"
   ]
  },
  {
   "cell_type": "code",
   "execution_count": 5,
   "id": "0cf769ed-b0df-471e-adfb-6848cdda422b",
   "metadata": {
    "tags": []
   },
   "outputs": [
    {
     "data": {
      "text/plain": [
       "Index(['УИД\\nабитуриента', 'Группа научных специальностей',\n",
       "       'Научная специальность', 'Баллы за\\nспециальную дисциплину'],\n",
       "      dtype='object')"
      ]
     },
     "execution_count": 5,
     "metadata": {},
     "output_type": "execute_result"
    }
   ],
   "source": [
    "df_econ.columns"
   ]
  },
  {
   "cell_type": "code",
   "execution_count": 6,
   "id": "c9e9ae9a-d0bd-4296-be97-fced04dcaf12",
   "metadata": {
    "tags": []
   },
   "outputs": [
    {
     "data": {
      "text/html": [
       "<div>\n",
       "<style scoped>\n",
       "    .dataframe tbody tr th:only-of-type {\n",
       "        vertical-align: middle;\n",
       "    }\n",
       "\n",
       "    .dataframe tbody tr th {\n",
       "        vertical-align: top;\n",
       "    }\n",
       "\n",
       "    .dataframe thead th {\n",
       "        text-align: right;\n",
       "    }\n",
       "</style>\n",
       "<table border=\"1\" class=\"dataframe\">\n",
       "  <thead>\n",
       "    <tr style=\"text-align: right;\">\n",
       "      <th></th>\n",
       "      <th>id</th>\n",
       "      <th>group</th>\n",
       "      <th>field</th>\n",
       "      <th>econ_points</th>\n",
       "    </tr>\n",
       "  </thead>\n",
       "  <tbody>\n",
       "    <tr>\n",
       "      <th>0</th>\n",
       "      <td>5000331.0</td>\n",
       "      <td>2.3. Информационные технологии и\\nтелекоммуник...</td>\n",
       "      <td>2.3.8. Информатика и информационные процессы</td>\n",
       "      <td>неявка</td>\n",
       "    </tr>\n",
       "    <tr>\n",
       "      <th>1</th>\n",
       "      <td>5240694.0</td>\n",
       "      <td>5.2. Экономика</td>\n",
       "      <td>5.2.6. Менеджмент</td>\n",
       "      <td>неявка</td>\n",
       "    </tr>\n",
       "    <tr>\n",
       "      <th>2</th>\n",
       "      <td>5241077.0</td>\n",
       "      <td>5.6. Исторические науки</td>\n",
       "      <td>5.6.1. Отечественная история</td>\n",
       "      <td>54</td>\n",
       "    </tr>\n",
       "    <tr>\n",
       "      <th>3</th>\n",
       "      <td>3592181.0</td>\n",
       "      <td>5.2. Экономика</td>\n",
       "      <td>5.2.3. Региональная и отраслевая экономика (эк...</td>\n",
       "      <td>60</td>\n",
       "    </tr>\n",
       "    <tr>\n",
       "      <th>4</th>\n",
       "      <td>3822145.0</td>\n",
       "      <td>5.2. Экономика</td>\n",
       "      <td>5.2.3. Региональная и отраслевая экономика (эк...</td>\n",
       "      <td>неявка</td>\n",
       "    </tr>\n",
       "    <tr>\n",
       "      <th>...</th>\n",
       "      <td>...</td>\n",
       "      <td>...</td>\n",
       "      <td>...</td>\n",
       "      <td>...</td>\n",
       "    </tr>\n",
       "    <tr>\n",
       "      <th>3</th>\n",
       "      <td>4957261.0</td>\n",
       "      <td>5.2. Экономика</td>\n",
       "      <td>5.2.3. Региональная и отраслевая экономика (эк...</td>\n",
       "      <td>неявка</td>\n",
       "    </tr>\n",
       "    <tr>\n",
       "      <th>4</th>\n",
       "      <td>5106837.0</td>\n",
       "      <td>5.2. Экономика</td>\n",
       "      <td>5.2.6. Менеджмент</td>\n",
       "      <td>неявка</td>\n",
       "    </tr>\n",
       "    <tr>\n",
       "      <th>5</th>\n",
       "      <td>5207404.0</td>\n",
       "      <td>5.2. Экономика</td>\n",
       "      <td>5.2.6. Менеджмент</td>\n",
       "      <td>60</td>\n",
       "    </tr>\n",
       "    <tr>\n",
       "      <th>6</th>\n",
       "      <td>5218839.0</td>\n",
       "      <td>5.2. Экономика</td>\n",
       "      <td>5.2.6. Менеджмент</td>\n",
       "      <td>50</td>\n",
       "    </tr>\n",
       "    <tr>\n",
       "      <th>7</th>\n",
       "      <td>5238513.0</td>\n",
       "      <td>5.2. Экономика</td>\n",
       "      <td>5.2.6. Менеджмент</td>\n",
       "      <td>56</td>\n",
       "    </tr>\n",
       "  </tbody>\n",
       "</table>\n",
       "<p>546 rows × 4 columns</p>\n",
       "</div>"
      ],
      "text/plain": [
       "           id                                              group  \\\n",
       "0   5000331.0  2.3. Информационные технологии и\\nтелекоммуник...   \n",
       "1   5240694.0                                     5.2. Экономика   \n",
       "2   5241077.0                            5.6. Исторические науки   \n",
       "3   3592181.0                                     5.2. Экономика   \n",
       "4   3822145.0                                     5.2. Экономика   \n",
       "..        ...                                                ...   \n",
       "3   4957261.0                                     5.2. Экономика   \n",
       "4   5106837.0                                     5.2. Экономика   \n",
       "5   5207404.0                                     5.2. Экономика   \n",
       "6   5218839.0                                     5.2. Экономика   \n",
       "7   5238513.0                                     5.2. Экономика   \n",
       "\n",
       "                                                field econ_points  \n",
       "0        2.3.8. Информатика и информационные процессы      неявка  \n",
       "1                                   5.2.6. Менеджмент      неявка  \n",
       "2                        5.6.1. Отечественная история          54  \n",
       "3   5.2.3. Региональная и отраслевая экономика (эк...          60  \n",
       "4   5.2.3. Региональная и отраслевая экономика (эк...      неявка  \n",
       "..                                                ...         ...  \n",
       "3   5.2.3. Региональная и отраслевая экономика (эк...      неявка  \n",
       "4                                   5.2.6. Менеджмент      неявка  \n",
       "5                                   5.2.6. Менеджмент          60  \n",
       "6                                   5.2.6. Менеджмент          50  \n",
       "7                                   5.2.6. Менеджмент          56  \n",
       "\n",
       "[546 rows x 4 columns]"
      ]
     },
     "execution_count": 6,
     "metadata": {},
     "output_type": "execute_result"
    }
   ],
   "source": [
    "df_econ = df_econ.rename(columns={'УИД\\nабитуриента':'id', 'Группа научных специальностей':'group','Научная специальность':'field', 'Баллы за\\nспециальную дисциплину':'econ_points'})\n",
    "df_econ = df_econ.dropna()\n",
    "\n",
    "df_econ"
   ]
  },
  {
   "cell_type": "code",
   "execution_count": 7,
   "id": "4f707766-a599-453e-9898-1b0ff86ba8e6",
   "metadata": {
    "tags": []
   },
   "outputs": [
    {
     "data": {
      "text/plain": [
       "Index(['УИД\\nабитуриента', 'Группа научных специальностей',\n",
       "       'Баллы за\\nстатистику'],\n",
       "      dtype='object')"
      ]
     },
     "execution_count": 7,
     "metadata": {},
     "output_type": "execute_result"
    }
   ],
   "source": [
    "df_stat.columns"
   ]
  },
  {
   "cell_type": "code",
   "execution_count": 8,
   "id": "06dc714c-8876-4c5f-94bd-bdab7cdcfb5f",
   "metadata": {
    "tags": []
   },
   "outputs": [
    {
     "data": {
      "text/html": [
       "<div>\n",
       "<style scoped>\n",
       "    .dataframe tbody tr th:only-of-type {\n",
       "        vertical-align: middle;\n",
       "    }\n",
       "\n",
       "    .dataframe tbody tr th {\n",
       "        vertical-align: top;\n",
       "    }\n",
       "\n",
       "    .dataframe thead th {\n",
       "        text-align: right;\n",
       "    }\n",
       "</style>\n",
       "<table border=\"1\" class=\"dataframe\">\n",
       "  <thead>\n",
       "    <tr style=\"text-align: right;\">\n",
       "      <th></th>\n",
       "      <th>id</th>\n",
       "      <th>stat_points</th>\n",
       "    </tr>\n",
       "  </thead>\n",
       "  <tbody>\n",
       "    <tr>\n",
       "      <th>0</th>\n",
       "      <td>4125862.0</td>\n",
       "      <td>неявка</td>\n",
       "    </tr>\n",
       "    <tr>\n",
       "      <th>1</th>\n",
       "      <td>4211683.0</td>\n",
       "      <td>14</td>\n",
       "    </tr>\n",
       "    <tr>\n",
       "      <th>2</th>\n",
       "      <td>4471556.0</td>\n",
       "      <td>неявка</td>\n",
       "    </tr>\n",
       "    <tr>\n",
       "      <th>3</th>\n",
       "      <td>4635379.0</td>\n",
       "      <td>неявка</td>\n",
       "    </tr>\n",
       "    <tr>\n",
       "      <th>4</th>\n",
       "      <td>4945398.0</td>\n",
       "      <td>неявка</td>\n",
       "    </tr>\n",
       "    <tr>\n",
       "      <th>...</th>\n",
       "      <td>...</td>\n",
       "      <td>...</td>\n",
       "    </tr>\n",
       "    <tr>\n",
       "      <th>1</th>\n",
       "      <td>5192981.0</td>\n",
       "      <td>26</td>\n",
       "    </tr>\n",
       "    <tr>\n",
       "      <th>2</th>\n",
       "      <td>5200700.0</td>\n",
       "      <td>8</td>\n",
       "    </tr>\n",
       "    <tr>\n",
       "      <th>3</th>\n",
       "      <td>5207404.0</td>\n",
       "      <td>40</td>\n",
       "    </tr>\n",
       "    <tr>\n",
       "      <th>4</th>\n",
       "      <td>5218347.0</td>\n",
       "      <td>24</td>\n",
       "    </tr>\n",
       "    <tr>\n",
       "      <th>5</th>\n",
       "      <td>5239156.0</td>\n",
       "      <td>40</td>\n",
       "    </tr>\n",
       "  </tbody>\n",
       "</table>\n",
       "<p>292 rows × 2 columns</p>\n",
       "</div>"
      ],
      "text/plain": [
       "           id stat_points\n",
       "0   4125862.0      неявка\n",
       "1   4211683.0          14\n",
       "2   4471556.0      неявка\n",
       "3   4635379.0      неявка\n",
       "4   4945398.0      неявка\n",
       "..        ...         ...\n",
       "1   5192981.0          26\n",
       "2   5200700.0           8\n",
       "3   5207404.0          40\n",
       "4   5218347.0          24\n",
       "5   5239156.0          40\n",
       "\n",
       "[292 rows x 2 columns]"
      ]
     },
     "execution_count": 8,
     "metadata": {},
     "output_type": "execute_result"
    }
   ],
   "source": [
    "df_stat = df_stat.rename(columns={'УИД\\nабитуриента':'id', 'Группа научных специальностей':'group','Баллы за\\nстатистику':'stat_points'})\n",
    "df_stat = df_stat.drop('group', axis='columns') # статистику сдавали только экономисты\n",
    "df_stat = df_stat.dropna()\n",
    "\n",
    "df_stat"
   ]
  },
  {
   "cell_type": "code",
   "execution_count": 9,
   "id": "860d5430-ca80-4d4d-9d7e-8089b14754d4",
   "metadata": {
    "tags": []
   },
   "outputs": [
    {
     "data": {
      "text/plain": [
       "array(['2.3. Информационные технологии и\\nтелекоммуникации',\n",
       "       '5.2. Экономика', '5.6. Исторические науки', '5.7. Философия',\n",
       "       '5.8. Педагогика', '5.5. Политические науки',\n",
       "       '2.3. Информационные технологии и телекоммуникации',\n",
       "       '5.4. Социология', '4.3. Агроинженерия и пищевые технологии',\n",
       "       '5.1. Право', '1.2. Компьютерные науки и информатика',\n",
       "       '1.4. Химические науки',\n",
       "       '4.3. Агроинженерия и пищевые\\nтехнологии',\n",
       "       '1.2. Компьютерные науки и\\nинформатика', '5.3. Психология',\n",
       "       '1.1. Математика и механика'], dtype=object)"
      ]
     },
     "execution_count": 9,
     "metadata": {},
     "output_type": "execute_result"
    }
   ],
   "source": [
    "df_econ['group'].unique()"
   ]
  },
  {
   "cell_type": "code",
   "execution_count": 10,
   "id": "9b170327-9dd2-484c-ae86-ddd2b4a74262",
   "metadata": {
    "tags": []
   },
   "outputs": [
    {
     "data": {
      "text/plain": [
       "group\n",
       "5.2. Экономика                                        297\n",
       "2.3. Информационные технологии и телекоммуникации      54\n",
       "5.4. Социология                                        26\n",
       "5.8. Педагогика                                        21\n",
       "5.5. Политические науки                                19\n",
       "1.2. Компьютерные науки и\\nинформатика                 19\n",
       "1.1. Математика и механика                             17\n",
       "4.3. Агроинженерия и пищевые технологии                16\n",
       "4.3. Агроинженерия и пищевые\\nтехнологии               15\n",
       "2.3. Информационные технологии и\\nтелекоммуникации     14\n",
       "5.1. Право                                             13\n",
       "5.7. Философия                                          9\n",
       "1.4. Химические науки                                   8\n",
       "1.2. Компьютерные науки и информатика                   7\n",
       "5.3. Психология                                         6\n",
       "5.6. Исторические науки                                 5\n",
       "Name: count, dtype: int64"
      ]
     },
     "execution_count": 10,
     "metadata": {},
     "output_type": "execute_result"
    }
   ],
   "source": [
    "df_econ['group'].value_counts()"
   ]
  },
  {
   "cell_type": "code",
   "execution_count": 11,
   "id": "b498db79-8ae9-4194-b68a-1f00e9eceff8",
   "metadata": {
    "tags": []
   },
   "outputs": [
    {
     "data": {
      "text/plain": [
       "group\n",
       "5.2. Экономика    297\n",
       "Name: count, dtype: int64"
      ]
     },
     "execution_count": 11,
     "metadata": {},
     "output_type": "execute_result"
    }
   ],
   "source": [
    "df_econ = df_econ[df_econ['group']=='5.2. Экономика']\n",
    "df_econ['group'].value_counts()"
   ]
  },
  {
   "cell_type": "code",
   "execution_count": 12,
   "id": "925a30e7-5a0b-41bc-b2c3-7c408df09367",
   "metadata": {
    "tags": []
   },
   "outputs": [
    {
     "data": {
      "text/html": [
       "<div>\n",
       "<style scoped>\n",
       "    .dataframe tbody tr th:only-of-type {\n",
       "        vertical-align: middle;\n",
       "    }\n",
       "\n",
       "    .dataframe tbody tr th {\n",
       "        vertical-align: top;\n",
       "    }\n",
       "\n",
       "    .dataframe thead th {\n",
       "        text-align: right;\n",
       "    }\n",
       "</style>\n",
       "<table border=\"1\" class=\"dataframe\">\n",
       "  <thead>\n",
       "    <tr style=\"text-align: right;\">\n",
       "      <th></th>\n",
       "      <th>Место в конкурсе</th>\n",
       "      <th>ID участника</th>\n",
       "      <th>Приоритет конкурса</th>\n",
       "      <th>Основной приоритет</th>\n",
       "      <th>Подано согласие</th>\n",
       "      <th>Проходной приоритет</th>\n",
       "      <th>Сумма баллов</th>\n",
       "      <th>Баллы за ВИ</th>\n",
       "      <th>Баллы за ИД</th>\n",
       "      <th>БВИ</th>\n",
       "      <th>Преимущественное право</th>\n",
       "      <th>Статус</th>\n",
       "    </tr>\n",
       "  </thead>\n",
       "  <tbody>\n",
       "    <tr>\n",
       "      <th>0</th>\n",
       "      <td>1</td>\n",
       "      <td>5056454</td>\n",
       "      <td>1</td>\n",
       "      <td>Да</td>\n",
       "      <td>Электронное</td>\n",
       "      <td>Да</td>\n",
       "      <td>111</td>\n",
       "      <td>60 40</td>\n",
       "      <td>11</td>\n",
       "      <td>—</td>\n",
       "      <td>—</td>\n",
       "      <td>—</td>\n",
       "    </tr>\n",
       "    <tr>\n",
       "      <th>1</th>\n",
       "      <td>2</td>\n",
       "      <td>5056746</td>\n",
       "      <td>1</td>\n",
       "      <td>Да</td>\n",
       "      <td>Электронное</td>\n",
       "      <td>Да</td>\n",
       "      <td>111</td>\n",
       "      <td>60 40</td>\n",
       "      <td>11</td>\n",
       "      <td>—</td>\n",
       "      <td>—</td>\n",
       "      <td>—</td>\n",
       "    </tr>\n",
       "    <tr>\n",
       "      <th>2</th>\n",
       "      <td>3</td>\n",
       "      <td>5010803</td>\n",
       "      <td>1</td>\n",
       "      <td>Да</td>\n",
       "      <td>Бумажное</td>\n",
       "      <td>Да</td>\n",
       "      <td>104</td>\n",
       "      <td>60 40</td>\n",
       "      <td>4</td>\n",
       "      <td>—</td>\n",
       "      <td>—</td>\n",
       "      <td>—</td>\n",
       "    </tr>\n",
       "    <tr>\n",
       "      <th>3</th>\n",
       "      <td>4</td>\n",
       "      <td>5176248</td>\n",
       "      <td>1</td>\n",
       "      <td>Да</td>\n",
       "      <td>Электронное</td>\n",
       "      <td>Да</td>\n",
       "      <td>101</td>\n",
       "      <td>59 34</td>\n",
       "      <td>8</td>\n",
       "      <td>—</td>\n",
       "      <td>—</td>\n",
       "      <td>—</td>\n",
       "    </tr>\n",
       "    <tr>\n",
       "      <th>4</th>\n",
       "      <td>5</td>\n",
       "      <td>5168993</td>\n",
       "      <td>1</td>\n",
       "      <td>Да</td>\n",
       "      <td>Электронное</td>\n",
       "      <td>Да</td>\n",
       "      <td>100</td>\n",
       "      <td>60 40</td>\n",
       "      <td>0</td>\n",
       "      <td>—</td>\n",
       "      <td>—</td>\n",
       "      <td>—</td>\n",
       "    </tr>\n",
       "    <tr>\n",
       "      <th>...</th>\n",
       "      <td>...</td>\n",
       "      <td>...</td>\n",
       "      <td>...</td>\n",
       "      <td>...</td>\n",
       "      <td>...</td>\n",
       "      <td>...</td>\n",
       "      <td>...</td>\n",
       "      <td>...</td>\n",
       "      <td>...</td>\n",
       "      <td>...</td>\n",
       "      <td>...</td>\n",
       "      <td>...</td>\n",
       "    </tr>\n",
       "    <tr>\n",
       "      <th>76</th>\n",
       "      <td>77</td>\n",
       "      <td>5106929</td>\n",
       "      <td>1</td>\n",
       "      <td>—</td>\n",
       "      <td>—</td>\n",
       "      <td>—</td>\n",
       "      <td>76</td>\n",
       "      <td>50 26</td>\n",
       "      <td>0</td>\n",
       "      <td>—</td>\n",
       "      <td>—</td>\n",
       "      <td>—</td>\n",
       "    </tr>\n",
       "    <tr>\n",
       "      <th>77</th>\n",
       "      <td>78</td>\n",
       "      <td>5226445</td>\n",
       "      <td>1</td>\n",
       "      <td>—</td>\n",
       "      <td>—</td>\n",
       "      <td>—</td>\n",
       "      <td>73</td>\n",
       "      <td>47 26</td>\n",
       "      <td>0</td>\n",
       "      <td>—</td>\n",
       "      <td>—</td>\n",
       "      <td>—</td>\n",
       "    </tr>\n",
       "    <tr>\n",
       "      <th>78</th>\n",
       "      <td>79</td>\n",
       "      <td>5178134</td>\n",
       "      <td>1</td>\n",
       "      <td>—</td>\n",
       "      <td>Электронное</td>\n",
       "      <td>—</td>\n",
       "      <td>72</td>\n",
       "      <td>50 22</td>\n",
       "      <td>0</td>\n",
       "      <td>—</td>\n",
       "      <td>—</td>\n",
       "      <td>—</td>\n",
       "    </tr>\n",
       "    <tr>\n",
       "      <th>79</th>\n",
       "      <td>80</td>\n",
       "      <td>3603334</td>\n",
       "      <td>1</td>\n",
       "      <td>—</td>\n",
       "      <td>—</td>\n",
       "      <td>—</td>\n",
       "      <td>70</td>\n",
       "      <td>44 26</td>\n",
       "      <td>0</td>\n",
       "      <td>—</td>\n",
       "      <td>—</td>\n",
       "      <td>—</td>\n",
       "    </tr>\n",
       "    <tr>\n",
       "      <th>80</th>\n",
       "      <td>81</td>\n",
       "      <td>5186730</td>\n",
       "      <td>1</td>\n",
       "      <td>—</td>\n",
       "      <td>Электронное</td>\n",
       "      <td>—</td>\n",
       "      <td>68</td>\n",
       "      <td>36 32</td>\n",
       "      <td>0</td>\n",
       "      <td>—</td>\n",
       "      <td>—</td>\n",
       "      <td>—</td>\n",
       "    </tr>\n",
       "  </tbody>\n",
       "</table>\n",
       "<p>81 rows × 12 columns</p>\n",
       "</div>"
      ],
      "text/plain": [
       "    Место в конкурсе  ID участника  Приоритет конкурса Основной приоритет  \\\n",
       "0                  1       5056454                   1                 Да   \n",
       "1                  2       5056746                   1                 Да   \n",
       "2                  3       5010803                   1                 Да   \n",
       "3                  4       5176248                   1                 Да   \n",
       "4                  5       5168993                   1                 Да   \n",
       "..               ...           ...                 ...                ...   \n",
       "76                77       5106929                   1                  —   \n",
       "77                78       5226445                   1                  —   \n",
       "78                79       5178134                   1                  —   \n",
       "79                80       3603334                   1                  —   \n",
       "80                81       5186730                   1                  —   \n",
       "\n",
       "   Подано согласие Проходной приоритет  Сумма баллов Баллы за ВИ  Баллы за ИД  \\\n",
       "0      Электронное                  Да           111       60 40           11   \n",
       "1      Электронное                  Да           111       60 40           11   \n",
       "2         Бумажное                  Да           104       60 40            4   \n",
       "3      Электронное                  Да           101       59 34            8   \n",
       "4      Электронное                  Да           100       60 40            0   \n",
       "..             ...                 ...           ...         ...          ...   \n",
       "76               —                   —            76       50 26            0   \n",
       "77               —                   —            73       47 26            0   \n",
       "78     Электронное                   —            72       50 22            0   \n",
       "79               —                   —            70       44 26            0   \n",
       "80     Электронное                   —            68       36 32            0   \n",
       "\n",
       "   БВИ Преимущественное право Статус  \n",
       "0    —                      —      —  \n",
       "1    —                      —      —  \n",
       "2    —                      —      —  \n",
       "3    —                      —      —  \n",
       "4    —                      —      —  \n",
       "..  ..                    ...    ...  \n",
       "76   —                      —      —  \n",
       "77   —                      —      —  \n",
       "78   —                      —      —  \n",
       "79   —                      —      —  \n",
       "80   —                      —      —  \n",
       "\n",
       "[81 rows x 12 columns]"
      ]
     },
     "execution_count": 12,
     "metadata": {},
     "output_type": "execute_result"
    }
   ],
   "source": [
    "df_final"
   ]
  },
  {
   "cell_type": "code",
   "execution_count": 13,
   "id": "21429955-53cf-4bca-9429-9b567d0c59bd",
   "metadata": {
    "tags": []
   },
   "outputs": [
    {
     "data": {
      "text/plain": [
       "Index(['Место в конкурсе', 'ID участника', 'Приоритет конкурса',\n",
       "       'Основной приоритет', 'Подано согласие', 'Проходной приоритет',\n",
       "       'Сумма баллов', 'Баллы за ВИ', 'Баллы за ИД', 'БВИ',\n",
       "       'Преимущественное право', 'Статус'],\n",
       "      dtype='object')"
      ]
     },
     "execution_count": 13,
     "metadata": {},
     "output_type": "execute_result"
    }
   ],
   "source": [
    "df_final.columns"
   ]
  },
  {
   "cell_type": "code",
   "execution_count": 14,
   "id": "c4cbb855-55ca-4e8d-8657-7afde2372d65",
   "metadata": {
    "tags": []
   },
   "outputs": [
    {
     "name": "stdout",
     "output_type": "stream",
     "text": [
      "<class 'pandas.core.frame.DataFrame'>\n",
      "RangeIndex: 81 entries, 0 to 80\n",
      "Data columns (total 6 columns):\n",
      " #   Column        Non-Null Count  Dtype \n",
      "---  ------        --------------  ----- \n",
      " 0   id            81 non-null     int64 \n",
      " 1   final_rating  81 non-null     int64 \n",
      " 2   acceptance    81 non-null     object\n",
      " 3   total_points  81 non-null     int64 \n",
      " 4   exams_points  81 non-null     object\n",
      " 5   add_points    81 non-null     int64 \n",
      "dtypes: int64(4), object(2)\n",
      "memory usage: 3.9+ KB\n"
     ]
    }
   ],
   "source": [
    "df_final = df_final.rename(columns={'Место в конкурсе':'final_rating',\n",
    "                                    'ID участника':'id',\n",
    "                                    'Подано согласие':'acceptance',\n",
    "                                    'Сумма баллов':'total_points',\n",
    "                                    'Баллы за ВИ':'exams_points',\n",
    "                                    'Баллы за ИД':'add_points'\n",
    "                                   })\n",
    "df_final = df_final[['id', 'final_rating', 'acceptance', 'total_points', 'exams_points', 'add_points']]\n",
    "df_final.info()"
   ]
  },
  {
   "cell_type": "code",
   "execution_count": 15,
   "id": "b5e8c9f0-3d5a-438a-9597-904596e37e72",
   "metadata": {
    "tags": []
   },
   "outputs": [
    {
     "name": "stdout",
     "output_type": "stream",
     "text": [
      "<class 'pandas.core.frame.DataFrame'>\n",
      "RangeIndex: 297 entries, 0 to 296\n",
      "Data columns (total 11 columns):\n",
      " #   Column             Non-Null Count  Dtype  \n",
      "---  ------             --------------  -----  \n",
      " 0   id                 297 non-null    float64\n",
      " 1   group              297 non-null    object \n",
      " 2   field              297 non-null    object \n",
      " 3   econ_points        297 non-null    object \n",
      " 4   stat_points        296 non-null    object \n",
      " 5   additional_points  83 non-null     float64\n",
      " 6   final_rating       83 non-null     float64\n",
      " 7   acceptance         83 non-null     object \n",
      " 8   total_points       83 non-null     float64\n",
      " 9   exams_points       83 non-null     object \n",
      " 10  add_points         83 non-null     float64\n",
      "dtypes: float64(5), object(6)\n",
      "memory usage: 25.7+ KB\n",
      "None\n"
     ]
    },
    {
     "data": {
      "text/html": [
       "<div>\n",
       "<style scoped>\n",
       "    .dataframe tbody tr th:only-of-type {\n",
       "        vertical-align: middle;\n",
       "    }\n",
       "\n",
       "    .dataframe tbody tr th {\n",
       "        vertical-align: top;\n",
       "    }\n",
       "\n",
       "    .dataframe thead th {\n",
       "        text-align: right;\n",
       "    }\n",
       "</style>\n",
       "<table border=\"1\" class=\"dataframe\">\n",
       "  <thead>\n",
       "    <tr style=\"text-align: right;\">\n",
       "      <th></th>\n",
       "      <th>id</th>\n",
       "      <th>group</th>\n",
       "      <th>field</th>\n",
       "      <th>econ_points</th>\n",
       "      <th>stat_points</th>\n",
       "      <th>additional_points</th>\n",
       "      <th>final_rating</th>\n",
       "      <th>acceptance</th>\n",
       "      <th>total_points</th>\n",
       "      <th>exams_points</th>\n",
       "      <th>add_points</th>\n",
       "    </tr>\n",
       "  </thead>\n",
       "  <tbody>\n",
       "    <tr>\n",
       "      <th>0</th>\n",
       "      <td>5240694.0</td>\n",
       "      <td>5.2. Экономика</td>\n",
       "      <td>5.2.6. Менеджмент</td>\n",
       "      <td>неявка</td>\n",
       "      <td>22</td>\n",
       "      <td>0.0</td>\n",
       "      <td>72.0</td>\n",
       "      <td>Электронное</td>\n",
       "      <td>78.0</td>\n",
       "      <td>56 22</td>\n",
       "      <td>0.0</td>\n",
       "    </tr>\n",
       "    <tr>\n",
       "      <th>1</th>\n",
       "      <td>3592181.0</td>\n",
       "      <td>5.2. Экономика</td>\n",
       "      <td>5.2.3. Региональная и отраслевая экономика (эк...</td>\n",
       "      <td>60</td>\n",
       "      <td>24</td>\n",
       "      <td>5.0</td>\n",
       "      <td>44.0</td>\n",
       "      <td>Электронное</td>\n",
       "      <td>89.0</td>\n",
       "      <td>60 24</td>\n",
       "      <td>5.0</td>\n",
       "    </tr>\n",
       "    <tr>\n",
       "      <th>2</th>\n",
       "      <td>3822145.0</td>\n",
       "      <td>5.2. Экономика</td>\n",
       "      <td>5.2.3. Региональная и отраслевая экономика (эк...</td>\n",
       "      <td>неявка</td>\n",
       "      <td>неявка</td>\n",
       "      <td>NaN</td>\n",
       "      <td>NaN</td>\n",
       "      <td>NaN</td>\n",
       "      <td>NaN</td>\n",
       "      <td>NaN</td>\n",
       "      <td>NaN</td>\n",
       "    </tr>\n",
       "    <tr>\n",
       "      <th>3</th>\n",
       "      <td>3899766.0</td>\n",
       "      <td>5.2. Экономика</td>\n",
       "      <td>5.2.6. Менеджмент</td>\n",
       "      <td>неявка</td>\n",
       "      <td>неявка</td>\n",
       "      <td>NaN</td>\n",
       "      <td>NaN</td>\n",
       "      <td>NaN</td>\n",
       "      <td>NaN</td>\n",
       "      <td>NaN</td>\n",
       "      <td>NaN</td>\n",
       "    </tr>\n",
       "    <tr>\n",
       "      <th>4</th>\n",
       "      <td>3937142.0</td>\n",
       "      <td>5.2. Экономика</td>\n",
       "      <td>5.2.6. Менеджмент</td>\n",
       "      <td>неявка</td>\n",
       "      <td>неявка</td>\n",
       "      <td>NaN</td>\n",
       "      <td>NaN</td>\n",
       "      <td>NaN</td>\n",
       "      <td>NaN</td>\n",
       "      <td>NaN</td>\n",
       "      <td>NaN</td>\n",
       "    </tr>\n",
       "    <tr>\n",
       "      <th>...</th>\n",
       "      <td>...</td>\n",
       "      <td>...</td>\n",
       "      <td>...</td>\n",
       "      <td>...</td>\n",
       "      <td>...</td>\n",
       "      <td>...</td>\n",
       "      <td>...</td>\n",
       "      <td>...</td>\n",
       "      <td>...</td>\n",
       "      <td>...</td>\n",
       "      <td>...</td>\n",
       "    </tr>\n",
       "    <tr>\n",
       "      <th>292</th>\n",
       "      <td>4957261.0</td>\n",
       "      <td>5.2. Экономика</td>\n",
       "      <td>5.2.3. Региональная и отраслевая экономика (эк...</td>\n",
       "      <td>неявка</td>\n",
       "      <td>8</td>\n",
       "      <td>NaN</td>\n",
       "      <td>NaN</td>\n",
       "      <td>NaN</td>\n",
       "      <td>NaN</td>\n",
       "      <td>NaN</td>\n",
       "      <td>NaN</td>\n",
       "    </tr>\n",
       "    <tr>\n",
       "      <th>293</th>\n",
       "      <td>5106837.0</td>\n",
       "      <td>5.2. Экономика</td>\n",
       "      <td>5.2.6. Менеджмент</td>\n",
       "      <td>неявка</td>\n",
       "      <td>неявка</td>\n",
       "      <td>NaN</td>\n",
       "      <td>NaN</td>\n",
       "      <td>NaN</td>\n",
       "      <td>NaN</td>\n",
       "      <td>NaN</td>\n",
       "      <td>NaN</td>\n",
       "    </tr>\n",
       "    <tr>\n",
       "      <th>294</th>\n",
       "      <td>5207404.0</td>\n",
       "      <td>5.2. Экономика</td>\n",
       "      <td>5.2.6. Менеджмент</td>\n",
       "      <td>60</td>\n",
       "      <td>40</td>\n",
       "      <td>0.0</td>\n",
       "      <td>18.0</td>\n",
       "      <td>Бумажное</td>\n",
       "      <td>100.0</td>\n",
       "      <td>60 40</td>\n",
       "      <td>0.0</td>\n",
       "    </tr>\n",
       "    <tr>\n",
       "      <th>295</th>\n",
       "      <td>5218839.0</td>\n",
       "      <td>5.2. Экономика</td>\n",
       "      <td>5.2.6. Менеджмент</td>\n",
       "      <td>50</td>\n",
       "      <td>32</td>\n",
       "      <td>0.0</td>\n",
       "      <td>64.0</td>\n",
       "      <td>—</td>\n",
       "      <td>82.0</td>\n",
       "      <td>50 32</td>\n",
       "      <td>0.0</td>\n",
       "    </tr>\n",
       "    <tr>\n",
       "      <th>296</th>\n",
       "      <td>5238513.0</td>\n",
       "      <td>5.2. Экономика</td>\n",
       "      <td>5.2.6. Менеджмент</td>\n",
       "      <td>56</td>\n",
       "      <td>20</td>\n",
       "      <td>NaN</td>\n",
       "      <td>NaN</td>\n",
       "      <td>NaN</td>\n",
       "      <td>NaN</td>\n",
       "      <td>NaN</td>\n",
       "      <td>NaN</td>\n",
       "    </tr>\n",
       "  </tbody>\n",
       "</table>\n",
       "<p>297 rows × 11 columns</p>\n",
       "</div>"
      ],
      "text/plain": [
       "            id           group  \\\n",
       "0    5240694.0  5.2. Экономика   \n",
       "1    3592181.0  5.2. Экономика   \n",
       "2    3822145.0  5.2. Экономика   \n",
       "3    3899766.0  5.2. Экономика   \n",
       "4    3937142.0  5.2. Экономика   \n",
       "..         ...             ...   \n",
       "292  4957261.0  5.2. Экономика   \n",
       "293  5106837.0  5.2. Экономика   \n",
       "294  5207404.0  5.2. Экономика   \n",
       "295  5218839.0  5.2. Экономика   \n",
       "296  5238513.0  5.2. Экономика   \n",
       "\n",
       "                                                 field econ_points  \\\n",
       "0                                    5.2.6. Менеджмент      неявка   \n",
       "1    5.2.3. Региональная и отраслевая экономика (эк...          60   \n",
       "2    5.2.3. Региональная и отраслевая экономика (эк...      неявка   \n",
       "3                                    5.2.6. Менеджмент      неявка   \n",
       "4                                    5.2.6. Менеджмент      неявка   \n",
       "..                                                 ...         ...   \n",
       "292  5.2.3. Региональная и отраслевая экономика (эк...      неявка   \n",
       "293                                  5.2.6. Менеджмент      неявка   \n",
       "294                                  5.2.6. Менеджмент          60   \n",
       "295                                  5.2.6. Менеджмент          50   \n",
       "296                                  5.2.6. Менеджмент          56   \n",
       "\n",
       "    stat_points  additional_points  final_rating   acceptance  total_points  \\\n",
       "0            22                0.0          72.0  Электронное          78.0   \n",
       "1            24                5.0          44.0  Электронное          89.0   \n",
       "2        неявка                NaN           NaN          NaN           NaN   \n",
       "3        неявка                NaN           NaN          NaN           NaN   \n",
       "4        неявка                NaN           NaN          NaN           NaN   \n",
       "..          ...                ...           ...          ...           ...   \n",
       "292           8                NaN           NaN          NaN           NaN   \n",
       "293      неявка                NaN           NaN          NaN           NaN   \n",
       "294          40                0.0          18.0     Бумажное         100.0   \n",
       "295          32                0.0          64.0            —          82.0   \n",
       "296          20                NaN           NaN          NaN           NaN   \n",
       "\n",
       "    exams_points  add_points  \n",
       "0          56 22         0.0  \n",
       "1          60 24         5.0  \n",
       "2            NaN         NaN  \n",
       "3            NaN         NaN  \n",
       "4            NaN         NaN  \n",
       "..           ...         ...  \n",
       "292          NaN         NaN  \n",
       "293          NaN         NaN  \n",
       "294        60 40         0.0  \n",
       "295        50 32         0.0  \n",
       "296          NaN         NaN  \n",
       "\n",
       "[297 rows x 11 columns]"
      ]
     },
     "execution_count": 15,
     "metadata": {},
     "output_type": "execute_result"
    }
   ],
   "source": [
    "df_results = df_econ.merge(df_stat, how='left', on='id')\n",
    "df_results = df_results.merge(df_ach, how='left', on='id')\n",
    "df_results = df_results.merge(df_final, how='left', on='id')\n",
    "print(df_results.info())\n",
    "df_results"
   ]
  },
  {
   "cell_type": "code",
   "execution_count": 16,
   "id": "b5534285-9b6a-4a05-b373-61a96f481277",
   "metadata": {
    "tags": []
   },
   "outputs": [
    {
     "data": {
      "text/plain": [
       "econ_points\n",
       "неявка    154\n",
       "40          3\n",
       "0           3\n",
       "36          2\n",
       "37          1\n",
       "44          1\n",
       "51          1\n",
       "48          1\n",
       "38          1\n",
       "50          1\n",
       "60          1\n",
       "Name: count, dtype: int64"
      ]
     },
     "execution_count": 16,
     "metadata": {},
     "output_type": "execute_result"
    }
   ],
   "source": [
    "df_results[df_results['stat_points']=='неявка']['econ_points'].value_counts()"
   ]
  },
  {
   "cell_type": "code",
   "execution_count": 17,
   "id": "8628381b-e227-4cd1-98d1-d8115ccc12d8",
   "metadata": {
    "tags": []
   },
   "outputs": [
    {
     "name": "stdout",
     "output_type": "stream",
     "text": [
      "econ_points\n",
      "неявка    160\n",
      "60         65\n",
      "50          8\n",
      "54          7\n",
      "58          5\n",
      "51          5\n",
      "48          5\n",
      "59          5\n",
      "40          4\n",
      "36          4\n",
      "52          4\n",
      "56          4\n",
      "55          3\n",
      "0           3\n",
      "44          3\n",
      "37          2\n",
      "57          2\n",
      "45          2\n",
      "53          2\n",
      "42          1\n",
      "38          1\n",
      "41          1\n",
      "47          1\n",
      "Name: count, dtype: int64\n",
      "\n",
      "stat_points\n",
      "неявка    169\n",
      "40         25\n",
      "26         11\n",
      "28         11\n",
      "24         10\n",
      "20         10\n",
      "22          9\n",
      "14          8\n",
      "32          6\n",
      "16          6\n",
      "30          6\n",
      "34          6\n",
      "8           6\n",
      "18          5\n",
      "12          3\n",
      "6           2\n",
      "10          1\n",
      "2           1\n",
      "36          1\n",
      "Name: count, dtype: int64\n"
     ]
    }
   ],
   "source": [
    "print(df_results['econ_points'].value_counts())\n",
    "print('')\n",
    "print(df_results['stat_points'].value_counts())"
   ]
  },
  {
   "cell_type": "code",
   "execution_count": 18,
   "id": "03101ed7-ef8d-44ab-9433-7abe5d5964f2",
   "metadata": {
    "tags": []
   },
   "outputs": [
    {
     "name": "stderr",
     "output_type": "stream",
     "text": [
      "C:\\Users\\pahan\\AppData\\Local\\Temp\\ipykernel_26040\\1787935831.py:8: FutureWarning: Downcasting behavior in `replace` is deprecated and will be removed in a future version. To retain the old behavior, explicitly call `result.infer_objects(copy=False)`. To opt-in to the future behavior, set `pd.set_option('future.no_silent_downcasting', True)`\n",
      "  .replace('неявка', 0)  # Заменяем \"неявка\" на 0\n",
      "C:\\Users\\pahan\\AppData\\Local\\Temp\\ipykernel_26040\\1787935831.py:14: FutureWarning: Downcasting behavior in `replace` is deprecated and will be removed in a future version. To retain the old behavior, explicitly call `result.infer_objects(copy=False)`. To opt-in to the future behavior, set `pd.set_option('future.no_silent_downcasting', True)`\n",
      "  .replace('неявка', 0)  # Заменяем \"неявка\" на 0\n"
     ]
    }
   ],
   "source": [
    "df_results['econ_missing'] = (df_results['econ_points'] == 'неявка').astype(int)\n",
    "df_results['stat_missing'] = (df_results['stat_points'] == 'неявка').astype(int)\n",
    "\n",
    "df_results = df_results.copy()\n",
    "\n",
    "df_results['econ_points'] = (\n",
    "    df_results['econ_points']\n",
    "    .replace('неявка', 0)\n",
    "    .fillna(0)\n",
    "    .astype(int)\n",
    ")\n",
    "df_results['stat_points'] = (\n",
    "    df_results['stat_points']\n",
    "    .replace('неявка', 0)\n",
    "    .fillna(0)\n",
    "    .astype(int)\n",
    ")\n",
    "df_results['additional_points'] = df_results['additional_points'].fillna(0).astype(int)\n",
    "df_results['sum_points'] = df_results['econ_points'] + df_results['stat_points']  + df_results['additional_points']\n",
    "df_results['id'] = df_results['id'].astype(int)"
   ]
  },
  {
   "cell_type": "code",
   "execution_count": 19,
   "id": "d1cdcbf9-769f-45f6-9e07-61878bcc8409",
   "metadata": {
    "tags": []
   },
   "outputs": [
    {
     "name": "stdout",
     "output_type": "stream",
     "text": [
      "<class 'pandas.core.frame.DataFrame'>\n",
      "RangeIndex: 297 entries, 0 to 296\n",
      "Data columns (total 13 columns):\n",
      " #   Column             Non-Null Count  Dtype  \n",
      "---  ------             --------------  -----  \n",
      " 0   id                 297 non-null    int32  \n",
      " 1   group              297 non-null    object \n",
      " 2   field              297 non-null    object \n",
      " 3   econ_points        297 non-null    int32  \n",
      " 4   stat_points        297 non-null    int32  \n",
      " 5   additional_points  297 non-null    int32  \n",
      " 6   final_rating       83 non-null     float64\n",
      " 7   acceptance         83 non-null     object \n",
      " 8   total_points       83 non-null     float64\n",
      " 9   exams_points       83 non-null     object \n",
      " 10  add_points         83 non-null     float64\n",
      " 11  econ_missing       297 non-null    int32  \n",
      " 12  stat_missing       297 non-null    int32  \n",
      "dtypes: float64(3), int32(6), object(4)\n",
      "memory usage: 23.3+ KB\n"
     ]
    }
   ],
   "source": [
    "df_results.info()"
   ]
  },
  {
   "cell_type": "code",
   "execution_count": 21,
   "id": "86e6e993-4a60-4b5f-9e11-0bbff24cc595",
   "metadata": {
    "tags": []
   },
   "outputs": [
    {
     "data": {
      "text/plain": [
       "array(['5.2.6. Менеджмент',\n",
       "       '5.2.3. Региональная и отраслевая экономика (экономика\\nнародонаселения и экономика труда)',\n",
       "       '5.2.3. Региональная и отраслевая экономика (экономика\\nстроительства и операций с недвижимостью)',\n",
       "       '5.2.3. Региональная и отраслевая экономика (экономика\\nинноваций)',\n",
       "       '5.2.3. Региональная и отраслевая экономика (экономика\\nприродопользования и землеустройства)',\n",
       "       '5.2.7. Государственное и муниципальное управление',\n",
       "       '5.2.3. Региональная и отраслевая экономика (бухгалтерский\\nучет, аудит и экономическая статистика)',\n",
       "       '5.2.3. Региональная и отраслевая экономика (экономика\\nпромышленности)',\n",
       "       '5.2.3. Региональная и отраслевая экономика (бухгалтерский учет, аудит и экономическая статистика)',\n",
       "       '5.2.1. Экономическая теория', '5.2.4. Финансы',\n",
       "       '5.2.3. Региональная и отраслевая экономика (маркетинг)',\n",
       "       '5.2.2. Математические, статистические и инструментальные методы в экономике',\n",
       "       '5.2.3. Региональная и отраслевая экономика (экономическая безопасность)',\n",
       "       '5.2.3. Региональная и отраслевая экономика (региональная экономика)',\n",
       "       '5.2.3. Региональная и отраслевая экономика (экономическая\\nбезопасность)',\n",
       "       '5.2.2. Математические, статистические и инструментальные\\nметоды в экономике',\n",
       "       '5.2.3. Региональная и отраслевая экономика (стандартизация и управление качеством продукции)',\n",
       "       '5.2.3. Региональная и отраслевая экономика (региональная\\nэкономика)',\n",
       "       '5.2.3. Региональная и отраслевая экономика (транспорт и логистика)',\n",
       "       '5.2.5. Мировая экономика',\n",
       "       '5.2.3. Региональная и отраслевая экономика (экономика сферы услуг)',\n",
       "       '5.2.3. Региональная и отраслевая экономика (экономика строительства и операций с недвижимостью)'],\n",
       "      dtype=object)"
      ]
     },
     "execution_count": 21,
     "metadata": {},
     "output_type": "execute_result"
    }
   ],
   "source": [
    "df_results['field'].unique()"
   ]
  },
  {
   "cell_type": "code",
   "execution_count": 22,
   "id": "f3ae76b5-39c5-4012-a365-375dac6895e1",
   "metadata": {
    "tags": []
   },
   "outputs": [],
   "source": [
    "df_results['field_short'] = df_results['field']\n",
    "\n",
    "df_results['field_short'] = df_results['field_short'].replace({\n",
    "        '5.2.3. Региональная и отраслевая экономика (экономика\\nнародонаселения и экономика труда)':'Экономика народонаселения и труда',\n",
    "        '5.2.3. Региональная и отраслевая экономика (экономика\\nстроительства и операций с недвижимостью)':'Экономика строительства и операций с недвижимостью',\n",
    "        '5.2.6. Менеджмент':'Менеджмент',\n",
    "        '5.2.3. Региональная и отраслевая экономика (экономика\\nинноваций)':'Экономика инноваций',\n",
    "        '5.2.3. Региональная и отраслевая экономика (экономика\\nприродопользования и землеустройства)':'Экономика природопользования и землеустройства',\n",
    "        '5.2.3. Региональная и отраслевая экономика (экономика\\nпромышленности)':'Экономика промышленности',\n",
    "        '5.2.7. Государственное и муниципальное управление':'Государственное и муниципальное управление',\n",
    "        '5.2.3. Региональная и отраслевая экономика (бухгалтерский\\nучет, аудит и экономическая статистика)':'Бухгалтерский учет, аудит и экономическая статистика',\n",
    "        '5.2.3. Региональная и отраслевая экономика (бухгалтерский учет, аудит и экономическая статистика)':'Бухгалтерский учет, аудит и экономическая статистика',\n",
    "        '5.2.4. Финансы':'Финансы',\n",
    "        '5.2.3. Региональная и отраслевая экономика (маркетинг)':'Маркетинг',\n",
    "        '5.2.3. Региональная и отраслевая экономика (экономическая безопасность)':'Экономическая безопасность',\n",
    "        '5.2.2. Математические, статистические и инструментальные методы в экономике':'Математические, статистические и инструментальные методы в экономике',\n",
    "        '5.2.1. Экономическая теория':'Экономическая теория',\n",
    "        '5.2.3. Региональная и отраслевая экономика (региональная экономика)':'Региональная экономика',\n",
    "        '5.2.3. Региональная и отраслевая экономика (экономическая\\nбезопасность)':'Экономическая безопасность',\n",
    "        '5.2.2. Математические, статистические и инструментальные\\nметоды в экономике':'Математические, статистические и инструментальные методы в экономике',\n",
    "        '5.2.3. Региональная и отраслевая экономика (стандартизация и управление качеством продукции)':'Стандартизация и управление качеством продукции',\n",
    "        '5.2.3. Региональная и отраслевая экономика (региональная\\nэкономика)':'Региональная экономика',\n",
    "        '5.2.5. Мировая экономика':'Мировая экономика',\n",
    "        '5.2.3. Региональная и отраслевая экономика (транспорт и логистика)':'Транспорт и логистика',\n",
    "        '5.2.3. Региональная и отраслевая экономика (экономика сферы услуг)':'Экономика сферы услуг',\n",
    "        '5.2.3. Региональная и отраслевая экономика (экономика строительства и операций с недвижимостью)':'Экономика строительства и операций с недвижимостью'\n",
    "})"
   ]
  },
  {
   "cell_type": "code",
   "execution_count": 23,
   "id": "d933fa8e-28f0-4c89-ace7-1885a7e04bed",
   "metadata": {
    "tags": []
   },
   "outputs": [
    {
     "data": {
      "text/plain": [
       "array(['Менеджмент', 'Экономика народонаселения и труда',\n",
       "       'Экономика строительства и операций с недвижимостью',\n",
       "       'Экономика инноваций',\n",
       "       'Экономика природопользования и землеустройства',\n",
       "       'Государственное и муниципальное управление',\n",
       "       'Бухгалтерский учет, аудит и экономическая статистика',\n",
       "       'Экономика промышленности', 'Экономическая теория', 'Финансы',\n",
       "       'Маркетинг',\n",
       "       'Математические, статистические и инструментальные методы в экономике',\n",
       "       'Экономическая безопасность', 'Региональная экономика',\n",
       "       'Стандартизация и управление качеством продукции',\n",
       "       'Транспорт и логистика', 'Мировая экономика',\n",
       "       'Экономика сферы услуг'], dtype=object)"
      ]
     },
     "execution_count": 23,
     "metadata": {},
     "output_type": "execute_result"
    }
   ],
   "source": [
    "df_results['field_short'].unique()"
   ]
  },
  {
   "cell_type": "markdown",
   "id": "191f8d34-536b-485b-ad7e-8eb547174240",
   "metadata": {
    "jp-MarkdownHeadingCollapsed": true,
    "tags": []
   },
   "source": [
    "# Рейтинги"
   ]
  },
  {
   "cell_type": "code",
   "execution_count": 24,
   "id": "a8bb891f-004c-488b-bbf7-06abe6fa7f7d",
   "metadata": {
    "tags": []
   },
   "outputs": [
    {
     "data": {
      "text/html": [
       "<div>\n",
       "<style scoped>\n",
       "    .dataframe tbody tr th:only-of-type {\n",
       "        vertical-align: middle;\n",
       "    }\n",
       "\n",
       "    .dataframe tbody tr th {\n",
       "        vertical-align: top;\n",
       "    }\n",
       "\n",
       "    .dataframe thead th {\n",
       "        text-align: right;\n",
       "    }\n",
       "</style>\n",
       "<table border=\"1\" class=\"dataframe\">\n",
       "  <thead>\n",
       "    <tr style=\"text-align: right;\">\n",
       "      <th></th>\n",
       "      <th>id</th>\n",
       "      <th>sum_points</th>\n",
       "    </tr>\n",
       "  </thead>\n",
       "  <tbody>\n",
       "    <tr>\n",
       "      <th>0</th>\n",
       "      <td>5056454</td>\n",
       "      <td>111</td>\n",
       "    </tr>\n",
       "    <tr>\n",
       "      <th>1</th>\n",
       "      <td>5056746</td>\n",
       "      <td>111</td>\n",
       "    </tr>\n",
       "    <tr>\n",
       "      <th>2</th>\n",
       "      <td>5010803</td>\n",
       "      <td>104</td>\n",
       "    </tr>\n",
       "    <tr>\n",
       "      <th>3</th>\n",
       "      <td>5176248</td>\n",
       "      <td>101</td>\n",
       "    </tr>\n",
       "    <tr>\n",
       "      <th>4</th>\n",
       "      <td>5225709</td>\n",
       "      <td>100</td>\n",
       "    </tr>\n",
       "    <tr>\n",
       "      <th>5</th>\n",
       "      <td>5222094</td>\n",
       "      <td>100</td>\n",
       "    </tr>\n",
       "    <tr>\n",
       "      <th>6</th>\n",
       "      <td>5218600</td>\n",
       "      <td>100</td>\n",
       "    </tr>\n",
       "    <tr>\n",
       "      <th>7</th>\n",
       "      <td>5168993</td>\n",
       "      <td>100</td>\n",
       "    </tr>\n",
       "    <tr>\n",
       "      <th>8</th>\n",
       "      <td>4954953</td>\n",
       "      <td>100</td>\n",
       "    </tr>\n",
       "    <tr>\n",
       "      <th>9</th>\n",
       "      <td>5144117</td>\n",
       "      <td>100</td>\n",
       "    </tr>\n",
       "    <tr>\n",
       "      <th>10</th>\n",
       "      <td>5239156</td>\n",
       "      <td>100</td>\n",
       "    </tr>\n",
       "    <tr>\n",
       "      <th>11</th>\n",
       "      <td>5050325</td>\n",
       "      <td>100</td>\n",
       "    </tr>\n",
       "    <tr>\n",
       "      <th>12</th>\n",
       "      <td>5178121</td>\n",
       "      <td>100</td>\n",
       "    </tr>\n",
       "    <tr>\n",
       "      <th>13</th>\n",
       "      <td>4820279</td>\n",
       "      <td>100</td>\n",
       "    </tr>\n",
       "    <tr>\n",
       "      <th>14</th>\n",
       "      <td>5073152</td>\n",
       "      <td>100</td>\n",
       "    </tr>\n",
       "    <tr>\n",
       "      <th>15</th>\n",
       "      <td>4153597</td>\n",
       "      <td>100</td>\n",
       "    </tr>\n",
       "    <tr>\n",
       "      <th>16</th>\n",
       "      <td>5042734</td>\n",
       "      <td>100</td>\n",
       "    </tr>\n",
       "    <tr>\n",
       "      <th>17</th>\n",
       "      <td>5023041</td>\n",
       "      <td>100</td>\n",
       "    </tr>\n",
       "    <tr>\n",
       "      <th>18</th>\n",
       "      <td>5207404</td>\n",
       "      <td>100</td>\n",
       "    </tr>\n",
       "    <tr>\n",
       "      <th>19</th>\n",
       "      <td>5089757</td>\n",
       "      <td>100</td>\n",
       "    </tr>\n",
       "    <tr>\n",
       "      <th>20</th>\n",
       "      <td>4741531</td>\n",
       "      <td>100</td>\n",
       "    </tr>\n",
       "    <tr>\n",
       "      <th>21</th>\n",
       "      <td>5069395</td>\n",
       "      <td>96</td>\n",
       "    </tr>\n",
       "    <tr>\n",
       "      <th>22</th>\n",
       "      <td>5081757</td>\n",
       "      <td>96</td>\n",
       "    </tr>\n",
       "    <tr>\n",
       "      <th>23</th>\n",
       "      <td>5135354</td>\n",
       "      <td>96</td>\n",
       "    </tr>\n",
       "    <tr>\n",
       "      <th>24</th>\n",
       "      <td>5230200</td>\n",
       "      <td>96</td>\n",
       "    </tr>\n",
       "    <tr>\n",
       "      <th>25</th>\n",
       "      <td>5152543</td>\n",
       "      <td>96</td>\n",
       "    </tr>\n",
       "    <tr>\n",
       "      <th>26</th>\n",
       "      <td>5204533</td>\n",
       "      <td>96</td>\n",
       "    </tr>\n",
       "    <tr>\n",
       "      <th>27</th>\n",
       "      <td>5233707</td>\n",
       "      <td>96</td>\n",
       "    </tr>\n",
       "    <tr>\n",
       "      <th>28</th>\n",
       "      <td>5200260</td>\n",
       "      <td>95</td>\n",
       "    </tr>\n",
       "    <tr>\n",
       "      <th>29</th>\n",
       "      <td>5015527</td>\n",
       "      <td>94</td>\n",
       "    </tr>\n",
       "    <tr>\n",
       "      <th>30</th>\n",
       "      <td>5148947</td>\n",
       "      <td>94</td>\n",
       "    </tr>\n",
       "    <tr>\n",
       "      <th>31</th>\n",
       "      <td>5192177</td>\n",
       "      <td>94</td>\n",
       "    </tr>\n",
       "    <tr>\n",
       "      <th>32</th>\n",
       "      <td>5211561</td>\n",
       "      <td>94</td>\n",
       "    </tr>\n",
       "    <tr>\n",
       "      <th>33</th>\n",
       "      <td>5148265</td>\n",
       "      <td>94</td>\n",
       "    </tr>\n",
       "    <tr>\n",
       "      <th>34</th>\n",
       "      <td>5151719</td>\n",
       "      <td>94</td>\n",
       "    </tr>\n",
       "    <tr>\n",
       "      <th>35</th>\n",
       "      <td>5215644</td>\n",
       "      <td>94</td>\n",
       "    </tr>\n",
       "    <tr>\n",
       "      <th>36</th>\n",
       "      <td>3600694</td>\n",
       "      <td>93</td>\n",
       "    </tr>\n",
       "    <tr>\n",
       "      <th>37</th>\n",
       "      <td>5195932</td>\n",
       "      <td>92</td>\n",
       "    </tr>\n",
       "    <tr>\n",
       "      <th>38</th>\n",
       "      <td>5085170</td>\n",
       "      <td>90</td>\n",
       "    </tr>\n",
       "    <tr>\n",
       "      <th>39</th>\n",
       "      <td>5241689</td>\n",
       "      <td>90</td>\n",
       "    </tr>\n",
       "    <tr>\n",
       "      <th>40</th>\n",
       "      <td>5205772</td>\n",
       "      <td>90</td>\n",
       "    </tr>\n",
       "    <tr>\n",
       "      <th>41</th>\n",
       "      <td>4741977</td>\n",
       "      <td>90</td>\n",
       "    </tr>\n",
       "    <tr>\n",
       "      <th>42</th>\n",
       "      <td>4999163</td>\n",
       "      <td>90</td>\n",
       "    </tr>\n",
       "    <tr>\n",
       "      <th>43</th>\n",
       "      <td>3592181</td>\n",
       "      <td>89</td>\n",
       "    </tr>\n",
       "  </tbody>\n",
       "</table>\n",
       "</div>"
      ],
      "text/plain": [
       "         id  sum_points\n",
       "0   5056454         111\n",
       "1   5056746         111\n",
       "2   5010803         104\n",
       "3   5176248         101\n",
       "4   5225709         100\n",
       "5   5222094         100\n",
       "6   5218600         100\n",
       "7   5168993         100\n",
       "8   4954953         100\n",
       "9   5144117         100\n",
       "10  5239156         100\n",
       "11  5050325         100\n",
       "12  5178121         100\n",
       "13  4820279         100\n",
       "14  5073152         100\n",
       "15  4153597         100\n",
       "16  5042734         100\n",
       "17  5023041         100\n",
       "18  5207404         100\n",
       "19  5089757         100\n",
       "20  4741531         100\n",
       "21  5069395          96\n",
       "22  5081757          96\n",
       "23  5135354          96\n",
       "24  5230200          96\n",
       "25  5152543          96\n",
       "26  5204533          96\n",
       "27  5233707          96\n",
       "28  5200260          95\n",
       "29  5015527          94\n",
       "30  5148947          94\n",
       "31  5192177          94\n",
       "32  5211561          94\n",
       "33  5148265          94\n",
       "34  5151719          94\n",
       "35  5215644          94\n",
       "36  3600694          93\n",
       "37  5195932          92\n",
       "38  5085170          90\n",
       "39  5241689          90\n",
       "40  5205772          90\n",
       "41  4741977          90\n",
       "42  4999163          90\n",
       "43  3592181          89"
      ]
     },
     "execution_count": 24,
     "metadata": {},
     "output_type": "execute_result"
    }
   ],
   "source": [
    "ratings = df_results[['id', 'sum_points']].sort_values(by='sum_points', ascending=False).reset_index(drop=True)\n",
    "ratings.head(44)"
   ]
  },
  {
   "cell_type": "markdown",
   "id": "125ea13c-c5f0-4bc7-ae73-d6fdf490e06b",
   "metadata": {
    "tags": []
   },
   "source": [
    "# Исследование\n",
    "\n",
    "- построить график распределения баллов по статистике и экономике\n",
    "- посмотреть, с какого направления больше сорокабалльников\n",
    "- посмотреть, какая доля получивших 60 по каждой специальности\n",
    "- посмотреть, какие специальности лучше решили статистику а какие хуже\n",
    "- построить воронку, чтобы понять, сколько людей отсеивались с каждого этапа"
   ]
  },
  {
   "cell_type": "markdown",
   "id": "5475e84c-28fe-4010-803a-a14fa852240e",
   "metadata": {
    "jp-MarkdownHeadingCollapsed": true,
    "tags": []
   },
   "source": [
    "## Графики распределения баллов по статистике и экономике"
   ]
  },
  {
   "cell_type": "code",
   "execution_count": 25,
   "id": "d765b958-bc7a-4a7c-9628-4fa8cf2c808a",
   "metadata": {
    "tags": []
   },
   "outputs": [
    {
     "data": {
      "text/plain": [
       "Index(['id', 'group', 'field', 'econ_points', 'stat_points',\n",
       "       'additional_points', 'final_rating', 'acceptance', 'total_points',\n",
       "       'exams_points', 'add_points', 'econ_missing', 'stat_missing',\n",
       "       'sum_points', 'field_short'],\n",
       "      dtype='object')"
      ]
     },
     "execution_count": 25,
     "metadata": {},
     "output_type": "execute_result"
    }
   ],
   "source": [
    "df_results.columns"
   ]
  },
  {
   "cell_type": "code",
   "execution_count": 26,
   "id": "e90a9255-b047-4940-90d6-660532c873e8",
   "metadata": {
    "tags": []
   },
   "outputs": [
    {
     "name": "stderr",
     "output_type": "stream",
     "text": [
      "findfont: Font family ['Inter'] not found. Falling back to DejaVu Sans.\n",
      "C:\\Users\\pahan\\Documents\\GitHub\\DataProjects\\PostgradAcceptance\\charts.py:79: UserWarning: The figure layout has changed to tight\n",
      "  fig.tight_layout()\n"
     ]
    },
    {
     "data": {
      "image/png": "[encoded data removed]",
      "text/plain": [
       "<Figure size 960x840 with 1 Axes>"
      ]
     },
     "metadata": {},
     "output_type": "display_data"
    },
    {
     "name": "stdout",
     "output_type": "stream",
     "text": [
      "График сохранен как: распределение_результатов_по_статистике.svg\n"
     ]
    }
   ],
   "source": [
    "# Создаем полный диапазон от 0 до 40\n",
    "full_index = range(0, 41, 2)\n",
    "\n",
    "df_stat_points = df_results[df_results['stat_missing']==0]['stat_points'].value_counts().sort_index().reindex(full_index, fill_value=0)\n",
    "\n",
    "ax = df_stat_points.sort_index().plot(\n",
    "    kind='bar', \n",
    "    figsize=(12, 6),\n",
    "    color='steelblue',\n",
    "    edgecolor='none'\n",
    ")\n",
    "\n",
    "# Добавляем значения наверху каждого бара\n",
    "for i, v in enumerate(df_stat_points.sort_index()):\n",
    "    ax.text(i, v + 0.1, str(v), ha='center', va='bottom', fontsize=10)\n",
    "\n",
    "plt.title('Распределение результатов по статистике', fontsize=14)\n",
    "plt.xlabel('Кол-во баллов', fontsize=12)\n",
    "plt.ylabel('Кол-во людей', fontsize=12)\n",
    "plt.xticks(rotation=0)\n",
    "plt.yticks([])\n",
    "\n",
    "# Убираем рамку (spines)\n",
    "ax.spines['top'].set_visible(False)\n",
    "ax.spines['right'].set_visible(False)\n",
    "ax.spines['left'].set_visible(False)\n",
    "#ax.spines['bottom'].set_visible(False)\n",
    "\n",
    "ax.tick_params(axis='y', left=False)\n",
    "ax.tick_params(axis='x', bottom=False)\n",
    "\n",
    "ax.grid(False)\n",
    "\n",
    "plt.tight_layout()\n",
    "styled_ax = style_telegram_vertical_barchart(ax, 'Распределение результатов по статистике')\n",
    "\n",
    "plt.show()"
   ]
  },
  {
   "cell_type": "code",
   "execution_count": 27,
   "id": "06bf9330-adb0-4b5a-ab2b-e6d7daf5f855",
   "metadata": {
    "tags": []
   },
   "outputs": [
    {
     "data": {
      "text/plain": [
       "128"
      ]
     },
     "execution_count": 27,
     "metadata": {},
     "output_type": "execute_result"
    }
   ],
   "source": [
    "df_stat_points.sum()"
   ]
  },
  {
   "cell_type": "code",
   "execution_count": 28,
   "id": "24321ef7-cc1e-4a33-aa05-98b6da6c6eb3",
   "metadata": {
    "tags": []
   },
   "outputs": [
    {
     "name": "stderr",
     "output_type": "stream",
     "text": [
      "C:\\Users\\pahan\\Documents\\GitHub\\DataProjects\\PostgradAcceptance\\charts.py:79: UserWarning: The figure layout has changed to tight\n",
      "  fig.tight_layout()\n"
     ]
    },
    {
     "data": {
      "image/png": "[encoded data removed]",
      "text/plain": [
       "<Figure size 960x840 with 1 Axes>"
      ]
     },
     "metadata": {},
     "output_type": "display_data"
    },
    {
     "name": "stdout",
     "output_type": "stream",
     "text": [
      "График сохранен как: распределение_результатов_по_специальности.svg\n"
     ]
    }
   ],
   "source": [
    "# Создаем полный диапазон от 0 до 60\n",
    "full_index = range(0, 61, 1)\n",
    "df_econ_points = df_results[df_results['econ_missing']==0]['econ_points'].value_counts().sort_index().reindex(full_index, fill_value=0)\n",
    "\n",
    "ax = df_econ_points.sort_index().plot(\n",
    "    kind='bar', \n",
    "    figsize=(12, 6),\n",
    "    color='steelblue',\n",
    "    edgecolor='none'\n",
    ")\n",
    "\n",
    "plt.title('Распределение результатов по специальности (все направления группы 5.2 Экономика)', fontsize=14)\n",
    "plt.xlabel('Кол-во баллов', fontsize=12)\n",
    "plt.ylabel('Кол-во людей', fontsize=12)\n",
    "plt.xticks(rotation=0)\n",
    "plt.xticks(ticks=[0, 30, 36, 60], labels=['0', '30', '36', '60'], rotation=0)\n",
    "plt.yticks([])\n",
    "\n",
    "ax.spines['top'].set_visible(False)\n",
    "ax.spines['right'].set_visible(False)\n",
    "ax.spines['left'].set_visible(False)\n",
    "\n",
    "ax.tick_params(axis='y', left=False)\n",
    "ax.tick_params(axis='x', bottom=False)\n",
    "\n",
    "ax.grid(False)\n",
    "\n",
    "plt.tight_layout()\n",
    "\n",
    "styled_ax = style_telegram_vertical_barchart(ax, 'Распределение результатов по специальности')\n",
    "\n",
    "plt.show()"
   ]
  },
  {
   "cell_type": "code",
   "execution_count": 52,
   "id": "5ebfa984-f078-4350-a951-54ca7ea6777d",
   "metadata": {
    "tags": []
   },
   "outputs": [
    {
     "name": "stdout",
     "output_type": "stream",
     "text": [
      "<class 'pandas.core.frame.DataFrame'>\n",
      "RangeIndex: 297 entries, 0 to 296\n",
      "Data columns (total 15 columns):\n",
      " #   Column             Non-Null Count  Dtype  \n",
      "---  ------             --------------  -----  \n",
      " 0   id                 297 non-null    int32  \n",
      " 1   group              297 non-null    object \n",
      " 2   field              297 non-null    object \n",
      " 3   econ_points        297 non-null    int32  \n",
      " 4   stat_points        297 non-null    int32  \n",
      " 5   additional_points  297 non-null    int32  \n",
      " 6   final_rating       83 non-null     float64\n",
      " 7   acceptance         83 non-null     object \n",
      " 8   total_points       83 non-null     float64\n",
      " 9   exams_points       83 non-null     object \n",
      " 10  add_points         83 non-null     float64\n",
      " 11  econ_missing       297 non-null    int32  \n",
      " 12  stat_missing       297 non-null    int32  \n",
      " 13  sum_points         297 non-null    int32  \n",
      " 14  field_short        297 non-null    object \n",
      "dtypes: float64(3), int32(7), object(5)\n",
      "memory usage: 26.8+ KB\n"
     ]
    }
   ],
   "source": [
    "df_results.info()"
   ]
  },
  {
   "cell_type": "code",
   "execution_count": 63,
   "id": "bd917933-0512-4bb9-8d52-2f9814c5b067",
   "metadata": {
    "tags": []
   },
   "outputs": [
    {
     "name": "stderr",
     "output_type": "stream",
     "text": [
      "C:\\Users\\pahan\\Documents\\GitHub\\DataProjects\\PostgradAcceptance\\charts.py:79: UserWarning:\n",
      "\n",
      "The figure layout has changed to tight\n",
      "\n"
     ]
    },
    {
     "data": {
      "image/png": "[encoded data removed]",
      "text/plain": [
       "<Figure size 960x840 with 1 Axes>"
      ]
     },
     "metadata": {},
     "output_type": "display_data"
    },
    {
     "name": "stdout",
     "output_type": "stream",
     "text": [
      "График сохранен как: распределение_дополнительных_баллов.svg\n"
     ]
    }
   ],
   "source": [
    "full_index = range(0, 28, 1)\n",
    "df_add_points = df_results[(df_results['stat_missing']==0) & (df_results['econ_missing']==0)]['additional_points'].value_counts().sort_index().reindex(full_index, fill_value=0)\n",
    "\n",
    "ax = df_add_points.sort_index().plot(\n",
    "    kind='bar', \n",
    "    figsize=(12, 6),\n",
    "    color='steelblue',\n",
    "    edgecolor='none'  # Убираем черные границы бара\n",
    ")\n",
    "\n",
    "# Добавляем значения наверху каждого бара\n",
    "for i, v in enumerate(df_add_points.sort_index()):\n",
    "    if v != 0:\n",
    "        ax.text(i, v + 0.1, str(v), ha='center', va='bottom', fontsize=10)\n",
    "\n",
    "plt.title('Распределение результатов по статистике', fontsize=14)\n",
    "plt.xlabel('Кол-во баллов', fontsize=12)\n",
    "plt.ylabel('Кол-во людей', fontsize=12)\n",
    "plt.xticks(ticks=[0, 1, 2, 3, 4, 5, 6, 7, 8, 9, 10, 11, 27], labels=[0, 1, 2, 3, 4, 5, 6, 7, 8, 9, 10, 11, 27], rotation=0)\n",
    "plt.yticks([])\n",
    "\n",
    "ax.spines['top'].set_visible(False)\n",
    "ax.spines['right'].set_visible(False)\n",
    "ax.spines['left'].set_visible(False)\n",
    "\n",
    "ax.tick_params(axis='y', left=False)\n",
    "ax.tick_params(axis='x', bottom=False)\n",
    "\n",
    "ax.grid(False)\n",
    "\n",
    "plt.tight_layout()\n",
    "styled_ax = style_telegram_vertical_barchart(ax, 'Распределение дополнительных баллов')\n",
    "\n",
    "plt.show()"
   ]
  },
  {
   "cell_type": "code",
   "execution_count": 64,
   "id": "a063c7f9-0a49-4e33-b98f-d9adcdda473b",
   "metadata": {
    "tags": []
   },
   "outputs": [
    {
     "data": {
      "text/plain": [
       "122"
      ]
     },
     "execution_count": 64,
     "metadata": {},
     "output_type": "execute_result"
    }
   ],
   "source": [
    "df_add_points.sum()"
   ]
  },
  {
   "cell_type": "markdown",
   "id": "ff805886-4f03-46c1-b09e-b92784d359b0",
   "metadata": {
    "jp-MarkdownHeadingCollapsed": true,
    "tags": []
   },
   "source": [
    "## Какая доля получивших 60 по каждой специальности"
   ]
  },
  {
   "cell_type": "code",
   "execution_count": 31,
   "id": "750883c5-1a70-4a66-859c-a96a25943c5f",
   "metadata": {
    "tags": []
   },
   "outputs": [
    {
     "name": "stderr",
     "output_type": "stream",
     "text": [
      "C:\\Users\\pahan\\Documents\\GitHub\\DataProjects\\PostgradAcceptance\\charts.py:166: UserWarning: The figure layout has changed to tight\n",
      "  fig.tight_layout()\n"
     ]
    },
    {
     "data": {
      "image/png": "[encoded data removed]",
      "text/plain": [
       "<Figure size 960x840 with 1 Axes>"
      ]
     },
     "metadata": {},
     "output_type": "display_data"
    },
    {
     "name": "stdout",
     "output_type": "stream",
     "text": [
      "График сохранен как: процент_с_60_баллами.svg\n"
     ]
    }
   ],
   "source": [
    "# Подготовка данных\n",
    "percentage_data = (df_results[(df_results['econ_missing']==0)].groupby('field_short')['econ_points']\n",
    "                     .apply(lambda x: (x == 60).mean() * 100)\n",
    "                     .sort_values(ascending=True))\n",
    "\n",
    "# Получаем количество студентов в каждой группе\n",
    "group_counts = df_results[(df_results['econ_missing']==0)]['field_short'].value_counts()\n",
    "# Сортируем в том же порядке, что и percentage_data\n",
    "group_counts = group_counts.loc[percentage_data.index]\n",
    "\n",
    "# Строим горизонтальный барчарт\n",
    "fig, ax = plt.subplots(figsize=(10, 6))\n",
    "bars = ax.barh(percentage_data.index, percentage_data.values, \n",
    "               color='#5E8AFF', height=0.6, edgecolor='none')\n",
    "\n",
    "# Добавляем значения процентов (справа от баров)\n",
    "for i, v in enumerate(percentage_data.values):\n",
    "    ax.text(v + 0.5, i, f'{v:.0f}%', ha='left', va='center', \n",
    "            fontsize=11, color='#2C2C2C', fontweight='normal')\n",
    "\n",
    "# Добавляем количество студентов (внутри баров слева)\n",
    "for i, (v, count) in enumerate(zip(percentage_data.values, group_counts.values)):\n",
    "    # Размещаем текст внутри бара, если процент достаточно большой\n",
    "    if v > 15:  # Если бар достаточно широкий, текст внутри\n",
    "        ax.text(2, i, f'n={count}', ha='left', va='center', \n",
    "                fontsize=10, color='white', fontweight='normal')\n",
    "    else:  # Если бар узкий, текст слева от бара\n",
    "        ax.text(2, i, f'n={count}', ha='left', va='center', \n",
    "                fontsize=10, color='white', fontweight='normal')\n",
    "\n",
    "# Базовые настройки\n",
    "ax.set_xlabel('Процент абитуриентов с 60 баллами', fontsize=12)\n",
    "ax.set_ylabel('Группа', fontsize=12)\n",
    "ax.set_xlim(0, min(percentage_data.max() * 1.2, 100))  # Ограничиваем максимум 100%\n",
    "\n",
    "# Убираем ненужные элементы\n",
    "ax.tick_params(axis='y', left=False)\n",
    "ax.grid(False)\n",
    "\n",
    "plt.tight_layout()\n",
    "\n",
    "# Применяем стилизацию (без заголовка, как вы requested)\n",
    "styled_ax = style_telegram_horizontal_barchart(ax, 'Процент с 60 баллами')"
   ]
  },
  {
   "cell_type": "markdown",
   "id": "2f65a6f2-6107-428e-8420-250a0db1c52b",
   "metadata": {
    "tags": []
   },
   "source": [
    "## Средний балл по статистике по каждой специальности"
   ]
  },
  {
   "cell_type": "code",
   "execution_count": 32,
   "id": "57999e40-220f-4400-a69a-65004c969ca2",
   "metadata": {
    "tags": []
   },
   "outputs": [
    {
     "name": "stderr",
     "output_type": "stream",
     "text": [
      "C:\\Users\\pahan\\Documents\\GitHub\\DataProjects\\PostgradAcceptance\\charts.py:166: UserWarning: The figure layout has changed to tight\n",
      "  fig.tight_layout()\n"
     ]
    },
    {
     "data": {
      "image/png": "[encoded data removed]",
      "text/plain": [
       "<Figure size 960x840 with 1 Axes>"
      ]
     },
     "metadata": {},
     "output_type": "display_data"
    },
    {
     "name": "stdout",
     "output_type": "stream",
     "text": [
      "График сохранен как: средний_балл.svg\n"
     ]
    }
   ],
   "source": [
    "# Подготовка данных\n",
    "avg_data = (df_results[(df_results['stat_missing']==0)].groupby('field_short')['stat_points']\n",
    "                     .mean()\n",
    "                     .sort_values(ascending=True))\n",
    "\n",
    "# Получаем количество студентов в каждой группе\n",
    "group_counts = df_results[(df_results['stat_missing']==0)]['field_short'].value_counts()\n",
    "# Сортируем в том же порядке, что и percentage_data\n",
    "group_counts = group_counts.loc[avg_data.index]\n",
    "\n",
    "# Строим горизонтальный барчарт\n",
    "fig, ax = plt.subplots(figsize=(10, 6))\n",
    "bars = ax.barh(avg_data.index, avg_data.values, \n",
    "               color='#5E8AFF', height=0.6, edgecolor='none')\n",
    "\n",
    "# Добавляем значения баллов (справа от баров)\n",
    "for i, v in enumerate(avg_data.values):\n",
    "    ax.text(v + 0.5, i, f'{v:.1f}', ha='left', va='center', \n",
    "            fontsize=11, color='#2C2C2C', fontweight='normal')\n",
    "\n",
    "# Добавляем количество студентов (внутри баров слева)\n",
    "for i, (v, count) in enumerate(zip(avg_data.values, group_counts.values)):\n",
    "    # Размещаем текст внутри бара, если процент достаточно большой\n",
    "    if v > 15:  # Если бар достаточно широкий, текст внутри\n",
    "        ax.text(2, i, f'n={count}', ha='left', va='center', \n",
    "                fontsize=10, color='white', fontweight='normal')\n",
    "    else:  # Если бар узкий, текст слева от бара\n",
    "        ax.text(2, i, f'n={count}', ha='left', va='center', \n",
    "                fontsize=10, color='white', fontweight='normal')\n",
    "\n",
    "# Базовые настройки\n",
    "ax.set_xlabel('Средний балл', fontsize=12)\n",
    "ax.set_ylabel('Группа', fontsize=12)\n",
    "ax.set_xlim(0, 40)  # Ограничиваем максимум 100%\n",
    "\n",
    "# Убираем ненужные элементы\n",
    "ax.spines['top'].set_visible(False)\n",
    "ax.spines['right'].set_visible(False)\n",
    "ax.spines['left'].set_visible(False)\n",
    "ax.spines['bottom'].set_visible(False)\n",
    "ax.tick_params(axis='y', left=False)\n",
    "ax.grid(False)\n",
    "\n",
    "plt.tight_layout()\n",
    "\n",
    "# Применяем стилизацию (без заголовка, как вы requested)\n",
    "styled_ax = style_telegram_horizontal_barchart(ax, 'Средний балл')"
   ]
  },
  {
   "cell_type": "markdown",
   "id": "4fd123d1-979c-4444-a61d-4b6d714423e4",
   "metadata": {
    "jp-MarkdownHeadingCollapsed": true,
    "tags": []
   },
   "source": [
    "## Сколько людей дошли до экзамена? Сколько было неявок на каждом этапе?"
   ]
  },
  {
   "cell_type": "code",
   "execution_count": 33,
   "id": "6398dd66-b84f-4f5d-bf2b-e4e77db3fa2d",
   "metadata": {
    "tags": []
   },
   "outputs": [
    {
     "name": "stdout",
     "output_type": "stream",
     "text": [
      "<class 'pandas.core.frame.DataFrame'>\n",
      "RangeIndex: 297 entries, 0 to 296\n",
      "Data columns (total 15 columns):\n",
      " #   Column             Non-Null Count  Dtype  \n",
      "---  ------             --------------  -----  \n",
      " 0   id                 297 non-null    int32  \n",
      " 1   group              297 non-null    object \n",
      " 2   field              297 non-null    object \n",
      " 3   econ_points        297 non-null    int32  \n",
      " 4   stat_points        297 non-null    int32  \n",
      " 5   additional_points  297 non-null    int32  \n",
      " 6   final_rating       83 non-null     float64\n",
      " 7   acceptance         83 non-null     object \n",
      " 8   total_points       83 non-null     float64\n",
      " 9   exams_points       83 non-null     object \n",
      " 10  add_points         83 non-null     float64\n",
      " 11  econ_missing       297 non-null    int32  \n",
      " 12  stat_missing       297 non-null    int32  \n",
      " 13  sum_points         297 non-null    int32  \n",
      " 14  field_short        297 non-null    object \n",
      "dtypes: float64(3), int32(7), object(5)\n",
      "memory usage: 26.8+ KB\n"
     ]
    }
   ],
   "source": [
    "df_results.info()"
   ]
  },
  {
   "cell_type": "code",
   "execution_count": 34,
   "id": "b0dddf0f-e14d-4813-880d-9a99cb4bb0d5",
   "metadata": {
    "tags": []
   },
   "outputs": [],
   "source": [
    "# Пороговые значения, установленные РЭУ\n",
    "ECON_THRESHOLD = 36\n",
    "STAT_THRESHOLD = 22\n",
    "\n",
    "funnel_stages = []\n",
    "funnel_counts = []\n",
    "funnel_colors = []\n",
    "\n",
    "# Этап 1: Все поступающие\n",
    "total_applicants = len(df_results)\n",
    "funnel_stages.append('Все поступающие')\n",
    "funnel_counts.append(total_applicants)\n",
    "\n",
    "# Этап 2: Экзамен по экономике\n",
    "econ_present = len(df_results[df_results['econ_missing'] == 0])\n",
    "econ_absent = len(df_results[df_results['econ_missing'] == 1])\n",
    "econ_below_threshold = len(df_results[(df_results['econ_missing'] == 0) & (df_results['econ_points'] < ECON_THRESHOLD)])\n",
    "econ_passed = len(df_results[(df_results['econ_missing'] == 0) & (df_results['econ_points'] >= ECON_THRESHOLD)])\n",
    "\n",
    "# Добавляем подэтапы для экономики\n",
    "funnel_stages.extend([\n",
    "    'Сдали экономику (≥36)',\n",
    "    'Не сдали экономику (<36)',\n",
    "    'Не явились на экономику'\n",
    "])\n",
    "funnel_counts.extend([econ_passed, econ_below_threshold, econ_absent])\n",
    "\n",
    "# Этап 3: Экзамен по статистике\n",
    "# Те, кто прошел экономику и сдал статистику\n",
    "stat_present_passed = len(df_results[\n",
    "    (df_results['econ_missing'] == 0) & \n",
    "    (df_results['econ_points'] >= ECON_THRESHOLD) &\n",
    "    (df_results['stat_missing'] == 0) &\n",
    "    (df_results['stat_points'] >= STAT_THRESHOLD)\n",
    "])\n",
    "\n",
    "# Те, кто прошел экономику, но не сдал статистику (ниже порога)\n",
    "stat_below_threshold = len(df_results[\n",
    "    (df_results['econ_missing'] == 0) & \n",
    "    (df_results['econ_points'] >= ECON_THRESHOLD) &\n",
    "    (df_results['stat_missing'] == 0) &\n",
    "    (df_results['stat_points'] < STAT_THRESHOLD)\n",
    "])\n",
    "\n",
    "# Те, кто прошел экономику, но не явился на статистику\n",
    "stat_absent_passed = len(df_results[\n",
    "    (df_results['econ_missing'] == 0) & \n",
    "    (df_results['econ_points'] >= ECON_THRESHOLD) &\n",
    "    (df_results['stat_missing'] == 1)\n",
    "])\n",
    "\n",
    "# Те, кто не прошел экономику, но сдал статистику (отдельная категория)\n",
    "stat_only_present = len(df_results[\n",
    "    (df_results['econ_missing'] == 1) &\n",
    "    (df_results['stat_missing'] == 0)\n",
    "])\n",
    "\n",
    "# Добавляем подэтапы для статистики\n",
    "funnel_stages.extend([\n",
    "    'Сдали статистику (≥22)',\n",
    "    'Не сдали статистику (<22)',\n",
    "    'Не явились на статистику',\n",
    "    'Сдали только статистику\\n(не явились на экономику)'\n",
    "])\n",
    "funnel_counts.extend([\n",
    "    stat_present_passed, \n",
    "    stat_below_threshold, \n",
    "    stat_absent_passed, \n",
    "    stat_only_present\n",
    "])\n",
    "\n",
    "# Этап 4: Итоговый список\n",
    "final_list = len(df_results[df_results['total_points'].notna()])\n",
    "funnel_stages.append('Вошли в итоговый список')\n",
    "funnel_counts.append(final_list)\n",
    "funnel_colors.append('#5E8AFF')\n",
    "\n",
    "# Этап 5: Подача согласия\n",
    "accepted = len(df_results[\n",
    "    (df_results['acceptance'].notna()) & \n",
    "    (df_results['acceptance'] != '—')\n",
    "])\n",
    "funnel_stages.append('Подали согласие на зачисление')\n",
    "funnel_counts.append(accepted)\n",
    "\n",
    "# Этап 6: Бюджетные места\n",
    "taken = 43\n",
    "funnel_stages.append('Зачислены на бюджет')\n",
    "funnel_counts.append(taken)"
   ]
  },
  {
   "cell_type": "code",
   "execution_count": 35,
   "id": "4531bca0-99ff-4ef7-8d1b-532b3dc8a08f",
   "metadata": {
    "tags": []
   },
   "outputs": [
    {
     "data": {
      "image/png": "[encoded data removed]",
      "text/plain": [
       "<Figure size 860x820 with 1 Axes>"
      ]
     },
     "metadata": {},
     "output_type": "display_data"
    }
   ],
   "source": [
    "# Создаем горизонтальный накопительный барчарт\n",
    "fig, ax = plt.subplots(figsize=(14, 8))\n",
    "\n",
    "# Новые этапы\n",
    "stages = [\n",
    "    'Зачислены на бюджет',\n",
    "    'Подали согласие на зачисление',\n",
    "    'Вошли в итоговый список',\n",
    "    'Написали экзамен по статистике',\n",
    "    'Написали экзамен по экономике', \n",
    "    'Подали заявление'\n",
    "]\n",
    "\n",
    "# Составляющие для каждого этапа (в порядке от последнего к первому)\n",
    "components = [\n",
    "    [taken], \n",
    "    [accepted],\n",
    "    [final_list],\n",
    "    [stat_only_present, stat_below_threshold, stat_present_passed],\n",
    "    [econ_below_threshold, econ_passed],\n",
    "    [total_applicants]\n",
    "]\n",
    "\n",
    "colors = [\n",
    "    ['#47D7AC'],\n",
    "    ['#5E8AFF'],\n",
    "    ['#5E8AFF'],\n",
    "    ['#888888', '#FF5E5E', '#5E8AFF'], \n",
    "    ['#FF5E5E', '#5E8AFF'],\n",
    "    ['#5E8AFF']\n",
    "]\n",
    "\n",
    "y_pos = np.arange(len(stages))\n",
    "bar_height = 0.6\n",
    "\n",
    "for i, (stage, comp_counts, comp_colors) in enumerate(zip(stages, components, colors)):\n",
    "    left = 0\n",
    "    for count, color in zip(comp_counts, comp_colors):\n",
    "        ax.barh(y_pos[i], count, height=bar_height, left=left, color=color, \n",
    "                alpha=1)\n",
    "        \n",
    "        if count > 5: \n",
    "            ax.text(left + count/2, y_pos[i], f'{count}', ha='center', va='center', \n",
    "                    fontsize=9, color='white', fontweight='normal')\n",
    "        \n",
    "        left += count\n",
    "    \n",
    "    ax.text(-30, y_pos[i], stage, ha='right', va='center', \n",
    "            fontsize=11, color='#2C2C2C', fontweight='normal')\n",
    "    \n",
    "    # Общее количество справа\n",
    "    total_stage = sum(comp_counts)\n",
    "    percentage = (total_stage / total_applicants) * 100\n",
    "    ax.text(total_stage + 10, y_pos[i], f'{total_stage} ({percentage:.1f}%)', \n",
    "            ha='left', va='center', fontsize=10, color='#5C5C5C')\n",
    "\n",
    "# Настройки внешнего вида\n",
    "ax.set_xlim(-50, total_applicants + 80)\n",
    "ax.set_ylim(-1, len(stages))\n",
    "\n",
    "ax.spines['top'].set_visible(False)\n",
    "ax.spines['right'].set_visible(False)\n",
    "ax.spines['left'].set_visible(False)\n",
    "ax.spines['bottom'].set_visible(False)\n",
    "ax.tick_params(axis='y', left=False, labelleft=False)\n",
    "ax.tick_params(axis='x', bottom=False, labelbottom=False)\n",
    "\n",
    "legend_elements = [\n",
    "    plt.Rectangle((0,0),1,1, facecolor='#5E8AFF', alpha=1, label='Успешно пройдено'),\n",
    "    plt.Rectangle((0,0),1,1, facecolor='#FF5E5E', alpha=1, label='Не пройден порог'),\n",
    "    plt.Rectangle((0,0),1,1, facecolor='#888888', alpha=1, label='Сдали только статистику')\n",
    "]\n",
    "ax.legend(handles=legend_elements, loc='upper left', frameon=False, fontsize=10, ncol=4)\n",
    "\n",
    "inter_font = fm.findfont(fm.FontProperties(family=['Inter']))\n",
    "font_prop = fm.FontProperties(fname=inter_font)\n",
    "ax.title.set_fontproperties(font_prop)\n",
    "ax.xaxis.label.set_fontproperties(font_prop)\n",
    "ax.yaxis.label.set_fontproperties(font_prop)\n",
    "\n",
    "for label in ax.get_xticklabels() + ax.get_yticklabels():\n",
    "    label.set_fontproperties(font_prop)\n",
    "\n",
    "for text in ax.texts:\n",
    "    text.set_fontproperties(font_prop)\n",
    "    \n",
    "fig.set_size_inches(8.6, 8.2)  # 9.6*100 = 960, 8.4*100 = 840\n",
    "fig.set_dpi(100)\n",
    "plt.tight_layout()\n",
    "\n",
    "# Сохраняем в SVG\n",
    "plt.savefig('funnel.svg', format='svg', bbox_inches='tight', dpi=300, transparent=True)\n",
    "\n",
    "plt.show()"
   ]
  },
  {
   "cell_type": "markdown",
   "id": "02bbe513-270a-4324-8aa9-0b3180c8e2dc",
   "metadata": {
    "jp-MarkdownHeadingCollapsed": true,
    "tags": []
   },
   "source": [
    "## Как менялся рейтинг поэтапно?"
   ]
  },
  {
   "cell_type": "code",
   "execution_count": 36,
   "id": "517dfa17-3f24-4b14-af87-c3ff0223616a",
   "metadata": {
    "tags": []
   },
   "outputs": [
    {
     "data": {
      "text/html": [
       "<div>\n",
       "<style scoped>\n",
       "    .dataframe tbody tr th:only-of-type {\n",
       "        vertical-align: middle;\n",
       "    }\n",
       "\n",
       "    .dataframe tbody tr th {\n",
       "        vertical-align: top;\n",
       "    }\n",
       "\n",
       "    .dataframe thead th {\n",
       "        text-align: right;\n",
       "    }\n",
       "</style>\n",
       "<table border=\"1\" class=\"dataframe\">\n",
       "  <thead>\n",
       "    <tr style=\"text-align: right;\">\n",
       "      <th></th>\n",
       "      <th>id</th>\n",
       "      <th>group</th>\n",
       "      <th>field</th>\n",
       "      <th>econ_points</th>\n",
       "      <th>stat_points</th>\n",
       "      <th>additional_points</th>\n",
       "      <th>final_rating</th>\n",
       "      <th>acceptance</th>\n",
       "      <th>total_points</th>\n",
       "      <th>exams_points</th>\n",
       "      <th>add_points</th>\n",
       "      <th>econ_missing</th>\n",
       "      <th>stat_missing</th>\n",
       "      <th>sum_points</th>\n",
       "      <th>field_short</th>\n",
       "    </tr>\n",
       "  </thead>\n",
       "  <tbody>\n",
       "    <tr>\n",
       "      <th>183</th>\n",
       "      <td>5056454</td>\n",
       "      <td>5.2. Экономика</td>\n",
       "      <td>5.2.4. Финансы</td>\n",
       "      <td>60</td>\n",
       "      <td>40</td>\n",
       "      <td>11</td>\n",
       "      <td>1.0</td>\n",
       "      <td>Электронное</td>\n",
       "      <td>111.0</td>\n",
       "      <td>60 40</td>\n",
       "      <td>11.0</td>\n",
       "      <td>0</td>\n",
       "      <td>0</td>\n",
       "      <td>111</td>\n",
       "      <td>Финансы</td>\n",
       "    </tr>\n",
       "    <tr>\n",
       "      <th>184</th>\n",
       "      <td>5056746</td>\n",
       "      <td>5.2. Экономика</td>\n",
       "      <td>5.2.4. Финансы</td>\n",
       "      <td>60</td>\n",
       "      <td>40</td>\n",
       "      <td>11</td>\n",
       "      <td>2.0</td>\n",
       "      <td>Электронное</td>\n",
       "      <td>111.0</td>\n",
       "      <td>60 40</td>\n",
       "      <td>11.0</td>\n",
       "      <td>0</td>\n",
       "      <td>0</td>\n",
       "      <td>111</td>\n",
       "      <td>Финансы</td>\n",
       "    </tr>\n",
       "    <tr>\n",
       "      <th>174</th>\n",
       "      <td>5010803</td>\n",
       "      <td>5.2. Экономика</td>\n",
       "      <td>5.2.3. Региональная и отраслевая экономика (ст...</td>\n",
       "      <td>60</td>\n",
       "      <td>40</td>\n",
       "      <td>4</td>\n",
       "      <td>3.0</td>\n",
       "      <td>Бумажное</td>\n",
       "      <td>104.0</td>\n",
       "      <td>60 40</td>\n",
       "      <td>4.0</td>\n",
       "      <td>0</td>\n",
       "      <td>0</td>\n",
       "      <td>104</td>\n",
       "      <td>Стандартизация и управление качеством продукции</td>\n",
       "    </tr>\n",
       "    <tr>\n",
       "      <th>86</th>\n",
       "      <td>5176248</td>\n",
       "      <td>5.2. Экономика</td>\n",
       "      <td>5.2.3. Региональная и отраслевая экономика (бу...</td>\n",
       "      <td>59</td>\n",
       "      <td>34</td>\n",
       "      <td>8</td>\n",
       "      <td>4.0</td>\n",
       "      <td>Электронное</td>\n",
       "      <td>101.0</td>\n",
       "      <td>59 34</td>\n",
       "      <td>8.0</td>\n",
       "      <td>0</td>\n",
       "      <td>0</td>\n",
       "      <td>101</td>\n",
       "      <td>Бухгалтерский учет, аудит и экономическая стат...</td>\n",
       "    </tr>\n",
       "    <tr>\n",
       "      <th>273</th>\n",
       "      <td>5168993</td>\n",
       "      <td>5.2. Экономика</td>\n",
       "      <td>5.2.5. Мировая экономика</td>\n",
       "      <td>60</td>\n",
       "      <td>40</td>\n",
       "      <td>0</td>\n",
       "      <td>5.0</td>\n",
       "      <td>Электронное</td>\n",
       "      <td>100.0</td>\n",
       "      <td>60 40</td>\n",
       "      <td>0.0</td>\n",
       "      <td>0</td>\n",
       "      <td>0</td>\n",
       "      <td>100</td>\n",
       "      <td>Мировая экономика</td>\n",
       "    </tr>\n",
       "    <tr>\n",
       "      <th>274</th>\n",
       "      <td>5178121</td>\n",
       "      <td>5.2. Экономика</td>\n",
       "      <td>5.2.4. Финансы</td>\n",
       "      <td>60</td>\n",
       "      <td>40</td>\n",
       "      <td>0</td>\n",
       "      <td>6.0</td>\n",
       "      <td>Электронное</td>\n",
       "      <td>100.0</td>\n",
       "      <td>60 40</td>\n",
       "      <td>0.0</td>\n",
       "      <td>0</td>\n",
       "      <td>0</td>\n",
       "      <td>100</td>\n",
       "      <td>Финансы</td>\n",
       "    </tr>\n",
       "    <tr>\n",
       "      <th>97</th>\n",
       "      <td>5222094</td>\n",
       "      <td>5.2. Экономика</td>\n",
       "      <td>5.2.3. Региональная и отраслевая экономика (эк...</td>\n",
       "      <td>60</td>\n",
       "      <td>40</td>\n",
       "      <td>0</td>\n",
       "      <td>7.0</td>\n",
       "      <td>Бумажное</td>\n",
       "      <td>100.0</td>\n",
       "      <td>60 40</td>\n",
       "      <td>0.0</td>\n",
       "      <td>0</td>\n",
       "      <td>0</td>\n",
       "      <td>100</td>\n",
       "      <td>Экономика промышленности</td>\n",
       "    </tr>\n",
       "    <tr>\n",
       "      <th>76</th>\n",
       "      <td>5073152</td>\n",
       "      <td>5.2. Экономика</td>\n",
       "      <td>5.2.6. Менеджмент</td>\n",
       "      <td>60</td>\n",
       "      <td>40</td>\n",
       "      <td>0</td>\n",
       "      <td>8.0</td>\n",
       "      <td>Электронное</td>\n",
       "      <td>100.0</td>\n",
       "      <td>60 40</td>\n",
       "      <td>0.0</td>\n",
       "      <td>0</td>\n",
       "      <td>0</td>\n",
       "      <td>100</td>\n",
       "      <td>Менеджмент</td>\n",
       "    </tr>\n",
       "    <tr>\n",
       "      <th>16</th>\n",
       "      <td>5050325</td>\n",
       "      <td>5.2. Экономика</td>\n",
       "      <td>5.2.6. Менеджмент</td>\n",
       "      <td>60</td>\n",
       "      <td>40</td>\n",
       "      <td>0</td>\n",
       "      <td>9.0</td>\n",
       "      <td>Электронное</td>\n",
       "      <td>100.0</td>\n",
       "      <td>60 40</td>\n",
       "      <td>0.0</td>\n",
       "      <td>0</td>\n",
       "      <td>0</td>\n",
       "      <td>100</td>\n",
       "      <td>Менеджмент</td>\n",
       "    </tr>\n",
       "    <tr>\n",
       "      <th>64</th>\n",
       "      <td>4954953</td>\n",
       "      <td>5.2. Экономика</td>\n",
       "      <td>5.2.3. Региональная и отраслевая экономика (эк...</td>\n",
       "      <td>60</td>\n",
       "      <td>40</td>\n",
       "      <td>0</td>\n",
       "      <td>10.0</td>\n",
       "      <td>Бумажное</td>\n",
       "      <td>100.0</td>\n",
       "      <td>60 40</td>\n",
       "      <td>0.0</td>\n",
       "      <td>0</td>\n",
       "      <td>0</td>\n",
       "      <td>100</td>\n",
       "      <td>Экономика промышленности</td>\n",
       "    </tr>\n",
       "    <tr>\n",
       "      <th>18</th>\n",
       "      <td>5144117</td>\n",
       "      <td>5.2. Экономика</td>\n",
       "      <td>5.2.3. Региональная и отраслевая экономика (эк...</td>\n",
       "      <td>60</td>\n",
       "      <td>40</td>\n",
       "      <td>0</td>\n",
       "      <td>11.0</td>\n",
       "      <td>Электронное</td>\n",
       "      <td>100.0</td>\n",
       "      <td>60 40</td>\n",
       "      <td>0.0</td>\n",
       "      <td>0</td>\n",
       "      <td>0</td>\n",
       "      <td>100</td>\n",
       "      <td>Экономика инноваций</td>\n",
       "    </tr>\n",
       "    <tr>\n",
       "      <th>177</th>\n",
       "      <td>5023041</td>\n",
       "      <td>5.2. Экономика</td>\n",
       "      <td>5.2.3. Региональная и отраслевая экономика (ма...</td>\n",
       "      <td>60</td>\n",
       "      <td>40</td>\n",
       "      <td>0</td>\n",
       "      <td>12.0</td>\n",
       "      <td>Электронное</td>\n",
       "      <td>100.0</td>\n",
       "      <td>60 40</td>\n",
       "      <td>0.0</td>\n",
       "      <td>0</td>\n",
       "      <td>0</td>\n",
       "      <td>100</td>\n",
       "      <td>Маркетинг</td>\n",
       "    </tr>\n",
       "    <tr>\n",
       "      <th>248</th>\n",
       "      <td>4820279</td>\n",
       "      <td>5.2. Экономика</td>\n",
       "      <td>5.2.5. Мировая экономика</td>\n",
       "      <td>60</td>\n",
       "      <td>40</td>\n",
       "      <td>0</td>\n",
       "      <td>13.0</td>\n",
       "      <td>Электронное</td>\n",
       "      <td>100.0</td>\n",
       "      <td>60 40</td>\n",
       "      <td>0.0</td>\n",
       "      <td>0</td>\n",
       "      <td>0</td>\n",
       "      <td>100</td>\n",
       "      <td>Мировая экономика</td>\n",
       "    </tr>\n",
       "    <tr>\n",
       "      <th>38</th>\n",
       "      <td>5239156</td>\n",
       "      <td>5.2. Экономика</td>\n",
       "      <td>5.2.6. Менеджмент</td>\n",
       "      <td>60</td>\n",
       "      <td>40</td>\n",
       "      <td>0</td>\n",
       "      <td>14.0</td>\n",
       "      <td>Бумажное</td>\n",
       "      <td>100.0</td>\n",
       "      <td>60 40</td>\n",
       "      <td>0.0</td>\n",
       "      <td>0</td>\n",
       "      <td>0</td>\n",
       "      <td>100</td>\n",
       "      <td>Менеджмент</td>\n",
       "    </tr>\n",
       "    <tr>\n",
       "      <th>181</th>\n",
       "      <td>5042734</td>\n",
       "      <td>5.2. Экономика</td>\n",
       "      <td>5.2.4. Финансы</td>\n",
       "      <td>60</td>\n",
       "      <td>40</td>\n",
       "      <td>0</td>\n",
       "      <td>15.0</td>\n",
       "      <td>Бумажное</td>\n",
       "      <td>100.0</td>\n",
       "      <td>60 40</td>\n",
       "      <td>0.0</td>\n",
       "      <td>0</td>\n",
       "      <td>0</td>\n",
       "      <td>100</td>\n",
       "      <td>Финансы</td>\n",
       "    </tr>\n",
       "    <tr>\n",
       "      <th>130</th>\n",
       "      <td>4153597</td>\n",
       "      <td>5.2. Экономика</td>\n",
       "      <td>5.2.4. Финансы</td>\n",
       "      <td>60</td>\n",
       "      <td>40</td>\n",
       "      <td>0</td>\n",
       "      <td>16.0</td>\n",
       "      <td>Электронное</td>\n",
       "      <td>100.0</td>\n",
       "      <td>60 40</td>\n",
       "      <td>0.0</td>\n",
       "      <td>0</td>\n",
       "      <td>0</td>\n",
       "      <td>100</td>\n",
       "      <td>Финансы</td>\n",
       "    </tr>\n",
       "    <tr>\n",
       "      <th>29</th>\n",
       "      <td>5218600</td>\n",
       "      <td>5.2. Экономика</td>\n",
       "      <td>5.2.6. Менеджмент</td>\n",
       "      <td>60</td>\n",
       "      <td>40</td>\n",
       "      <td>0</td>\n",
       "      <td>17.0</td>\n",
       "      <td>Электронное</td>\n",
       "      <td>100.0</td>\n",
       "      <td>60 40</td>\n",
       "      <td>0.0</td>\n",
       "      <td>0</td>\n",
       "      <td>0</td>\n",
       "      <td>100</td>\n",
       "      <td>Менеджмент</td>\n",
       "    </tr>\n",
       "    <tr>\n",
       "      <th>294</th>\n",
       "      <td>5207404</td>\n",
       "      <td>5.2. Экономика</td>\n",
       "      <td>5.2.6. Менеджмент</td>\n",
       "      <td>60</td>\n",
       "      <td>40</td>\n",
       "      <td>0</td>\n",
       "      <td>18.0</td>\n",
       "      <td>Бумажное</td>\n",
       "      <td>100.0</td>\n",
       "      <td>60 40</td>\n",
       "      <td>0.0</td>\n",
       "      <td>0</td>\n",
       "      <td>0</td>\n",
       "      <td>100</td>\n",
       "      <td>Менеджмент</td>\n",
       "    </tr>\n",
       "    <tr>\n",
       "      <th>42</th>\n",
       "      <td>5225709</td>\n",
       "      <td>5.2. Экономика</td>\n",
       "      <td>5.2.6. Менеджмент</td>\n",
       "      <td>60</td>\n",
       "      <td>40</td>\n",
       "      <td>0</td>\n",
       "      <td>19.0</td>\n",
       "      <td>Бумажное</td>\n",
       "      <td>100.0</td>\n",
       "      <td>60 40</td>\n",
       "      <td>0.0</td>\n",
       "      <td>0</td>\n",
       "      <td>0</td>\n",
       "      <td>100</td>\n",
       "      <td>Менеджмент</td>\n",
       "    </tr>\n",
       "    <tr>\n",
       "      <th>116</th>\n",
       "      <td>5241777</td>\n",
       "      <td>5.2. Экономика</td>\n",
       "      <td>5.2.4. Финансы</td>\n",
       "      <td>60</td>\n",
       "      <td>8</td>\n",
       "      <td>1</td>\n",
       "      <td>20.0</td>\n",
       "      <td>Бумажное</td>\n",
       "      <td>99.0</td>\n",
       "      <td>60 38</td>\n",
       "      <td>1.0</td>\n",
       "      <td>0</td>\n",
       "      <td>0</td>\n",
       "      <td>69</td>\n",
       "      <td>Финансы</td>\n",
       "    </tr>\n",
       "    <tr>\n",
       "      <th>276</th>\n",
       "      <td>5204533</td>\n",
       "      <td>5.2. Экономика</td>\n",
       "      <td>5.2.5. Мировая экономика</td>\n",
       "      <td>60</td>\n",
       "      <td>36</td>\n",
       "      <td>0</td>\n",
       "      <td>21.0</td>\n",
       "      <td>Электронное</td>\n",
       "      <td>96.0</td>\n",
       "      <td>60 36</td>\n",
       "      <td>0.0</td>\n",
       "      <td>0</td>\n",
       "      <td>0</td>\n",
       "      <td>96</td>\n",
       "      <td>Мировая экономика</td>\n",
       "    </tr>\n",
       "    <tr>\n",
       "      <th>77</th>\n",
       "      <td>5081757</td>\n",
       "      <td>5.2. Экономика</td>\n",
       "      <td>5.2.6. Менеджмент</td>\n",
       "      <td>56</td>\n",
       "      <td>40</td>\n",
       "      <td>0</td>\n",
       "      <td>22.0</td>\n",
       "      <td>Электронное</td>\n",
       "      <td>96.0</td>\n",
       "      <td>56 40</td>\n",
       "      <td>0.0</td>\n",
       "      <td>0</td>\n",
       "      <td>0</td>\n",
       "      <td>96</td>\n",
       "      <td>Менеджмент</td>\n",
       "    </tr>\n",
       "    <tr>\n",
       "      <th>204</th>\n",
       "      <td>5152543</td>\n",
       "      <td>5.2. Экономика</td>\n",
       "      <td>5.2.4. Финансы</td>\n",
       "      <td>60</td>\n",
       "      <td>34</td>\n",
       "      <td>2</td>\n",
       "      <td>23.0</td>\n",
       "      <td>Электронное</td>\n",
       "      <td>96.0</td>\n",
       "      <td>60 34</td>\n",
       "      <td>2.0</td>\n",
       "      <td>0</td>\n",
       "      <td>0</td>\n",
       "      <td>96</td>\n",
       "      <td>Финансы</td>\n",
       "    </tr>\n",
       "    <tr>\n",
       "      <th>74</th>\n",
       "      <td>5069395</td>\n",
       "      <td>5.2. Экономика</td>\n",
       "      <td>5.2.3. Региональная и отраслевая экономика (бу...</td>\n",
       "      <td>60</td>\n",
       "      <td>32</td>\n",
       "      <td>4</td>\n",
       "      <td>24.0</td>\n",
       "      <td>Электронное</td>\n",
       "      <td>96.0</td>\n",
       "      <td>60 32</td>\n",
       "      <td>4.0</td>\n",
       "      <td>0</td>\n",
       "      <td>0</td>\n",
       "      <td>96</td>\n",
       "      <td>Бухгалтерский учет, аудит и экономическая стат...</td>\n",
       "    </tr>\n",
       "    <tr>\n",
       "      <th>81</th>\n",
       "      <td>5135354</td>\n",
       "      <td>5.2. Экономика</td>\n",
       "      <td>5.2.3. Региональная и отраслевая экономика (эк...</td>\n",
       "      <td>58</td>\n",
       "      <td>34</td>\n",
       "      <td>4</td>\n",
       "      <td>25.0</td>\n",
       "      <td>Электронное</td>\n",
       "      <td>96.0</td>\n",
       "      <td>58 34</td>\n",
       "      <td>4.0</td>\n",
       "      <td>0</td>\n",
       "      <td>0</td>\n",
       "      <td>96</td>\n",
       "      <td>Экономика промышленности</td>\n",
       "    </tr>\n",
       "    <tr>\n",
       "      <th>101</th>\n",
       "      <td>5230200</td>\n",
       "      <td>5.2. Экономика</td>\n",
       "      <td>5.2.6. Менеджмент</td>\n",
       "      <td>58</td>\n",
       "      <td>32</td>\n",
       "      <td>6</td>\n",
       "      <td>26.0</td>\n",
       "      <td>Электронное</td>\n",
       "      <td>96.0</td>\n",
       "      <td>58 32</td>\n",
       "      <td>6.0</td>\n",
       "      <td>0</td>\n",
       "      <td>0</td>\n",
       "      <td>96</td>\n",
       "      <td>Менеджмент</td>\n",
       "    </tr>\n",
       "    <tr>\n",
       "      <th>283</th>\n",
       "      <td>5233707</td>\n",
       "      <td>5.2. Экономика</td>\n",
       "      <td>5.2.4. Финансы</td>\n",
       "      <td>60</td>\n",
       "      <td>28</td>\n",
       "      <td>8</td>\n",
       "      <td>27.0</td>\n",
       "      <td>Электронное</td>\n",
       "      <td>96.0</td>\n",
       "      <td>60 28</td>\n",
       "      <td>8.0</td>\n",
       "      <td>0</td>\n",
       "      <td>0</td>\n",
       "      <td>96</td>\n",
       "      <td>Финансы</td>\n",
       "    </tr>\n",
       "    <tr>\n",
       "      <th>218</th>\n",
       "      <td>5200260</td>\n",
       "      <td>5.2. Экономика</td>\n",
       "      <td>5.2.4. Финансы</td>\n",
       "      <td>60</td>\n",
       "      <td>30</td>\n",
       "      <td>5</td>\n",
       "      <td>28.0</td>\n",
       "      <td>Электронное</td>\n",
       "      <td>95.0</td>\n",
       "      <td>60 30</td>\n",
       "      <td>5.0</td>\n",
       "      <td>0</td>\n",
       "      <td>0</td>\n",
       "      <td>95</td>\n",
       "      <td>Финансы</td>\n",
       "    </tr>\n",
       "    <tr>\n",
       "      <th>268</th>\n",
       "      <td>5148947</td>\n",
       "      <td>5.2. Экономика</td>\n",
       "      <td>5.2.5. Мировая экономика</td>\n",
       "      <td>60</td>\n",
       "      <td>34</td>\n",
       "      <td>0</td>\n",
       "      <td>29.0</td>\n",
       "      <td>Электронное</td>\n",
       "      <td>94.0</td>\n",
       "      <td>60 34</td>\n",
       "      <td>0.0</td>\n",
       "      <td>0</td>\n",
       "      <td>0</td>\n",
       "      <td>94</td>\n",
       "      <td>Мировая экономика</td>\n",
       "    </tr>\n",
       "    <tr>\n",
       "      <th>202</th>\n",
       "      <td>5151719</td>\n",
       "      <td>5.2. Экономика</td>\n",
       "      <td>5.2.3. Региональная и отраслевая экономика (ре...</td>\n",
       "      <td>60</td>\n",
       "      <td>34</td>\n",
       "      <td>0</td>\n",
       "      <td>30.0</td>\n",
       "      <td>Электронное</td>\n",
       "      <td>94.0</td>\n",
       "      <td>60 34</td>\n",
       "      <td>0.0</td>\n",
       "      <td>0</td>\n",
       "      <td>0</td>\n",
       "      <td>94</td>\n",
       "      <td>Региональная экономика</td>\n",
       "    </tr>\n",
       "    <tr>\n",
       "      <th>91</th>\n",
       "      <td>5192177</td>\n",
       "      <td>5.2. Экономика</td>\n",
       "      <td>5.2.6. Менеджмент</td>\n",
       "      <td>54</td>\n",
       "      <td>40</td>\n",
       "      <td>0</td>\n",
       "      <td>31.0</td>\n",
       "      <td>Электронное</td>\n",
       "      <td>94.0</td>\n",
       "      <td>54 40</td>\n",
       "      <td>0.0</td>\n",
       "      <td>0</td>\n",
       "      <td>0</td>\n",
       "      <td>94</td>\n",
       "      <td>Менеджмент</td>\n",
       "    </tr>\n",
       "    <tr>\n",
       "      <th>27</th>\n",
       "      <td>5211561</td>\n",
       "      <td>5.2. Экономика</td>\n",
       "      <td>5.2.6. Менеджмент</td>\n",
       "      <td>54</td>\n",
       "      <td>40</td>\n",
       "      <td>0</td>\n",
       "      <td>32.0</td>\n",
       "      <td>Бумажное</td>\n",
       "      <td>94.0</td>\n",
       "      <td>54 40</td>\n",
       "      <td>0.0</td>\n",
       "      <td>0</td>\n",
       "      <td>0</td>\n",
       "      <td>94</td>\n",
       "      <td>Менеджмент</td>\n",
       "    </tr>\n",
       "    <tr>\n",
       "      <th>83</th>\n",
       "      <td>5148265</td>\n",
       "      <td>5.2. Экономика</td>\n",
       "      <td>5.2.3. Региональная и отраслевая экономика (бу...</td>\n",
       "      <td>60</td>\n",
       "      <td>32</td>\n",
       "      <td>2</td>\n",
       "      <td>33.0</td>\n",
       "      <td>Электронное</td>\n",
       "      <td>94.0</td>\n",
       "      <td>60 32</td>\n",
       "      <td>2.0</td>\n",
       "      <td>0</td>\n",
       "      <td>0</td>\n",
       "      <td>94</td>\n",
       "      <td>Бухгалтерский учет, аудит и экономическая стат...</td>\n",
       "    </tr>\n",
       "    <tr>\n",
       "      <th>95</th>\n",
       "      <td>5215644</td>\n",
       "      <td>5.2. Экономика</td>\n",
       "      <td>5.2.3. Региональная и отраслевая экономика (бу...</td>\n",
       "      <td>60</td>\n",
       "      <td>26</td>\n",
       "      <td>8</td>\n",
       "      <td>34.0</td>\n",
       "      <td>Электронное</td>\n",
       "      <td>94.0</td>\n",
       "      <td>60 26</td>\n",
       "      <td>8.0</td>\n",
       "      <td>0</td>\n",
       "      <td>0</td>\n",
       "      <td>94</td>\n",
       "      <td>Бухгалтерский учет, аудит и экономическая стат...</td>\n",
       "    </tr>\n",
       "    <tr>\n",
       "      <th>255</th>\n",
       "      <td>5015527</td>\n",
       "      <td>5.2. Экономика</td>\n",
       "      <td>5.2.4. Финансы</td>\n",
       "      <td>60</td>\n",
       "      <td>26</td>\n",
       "      <td>8</td>\n",
       "      <td>35.0</td>\n",
       "      <td>Бумажное</td>\n",
       "      <td>94.0</td>\n",
       "      <td>60 26</td>\n",
       "      <td>8.0</td>\n",
       "      <td>0</td>\n",
       "      <td>0</td>\n",
       "      <td>94</td>\n",
       "      <td>Финансы</td>\n",
       "    </tr>\n",
       "    <tr>\n",
       "      <th>46</th>\n",
       "      <td>3600694</td>\n",
       "      <td>5.2. Экономика</td>\n",
       "      <td>5.2.3. Региональная и отраслевая экономика (эк...</td>\n",
       "      <td>59</td>\n",
       "      <td>28</td>\n",
       "      <td>6</td>\n",
       "      <td>36.0</td>\n",
       "      <td>Электронное</td>\n",
       "      <td>93.0</td>\n",
       "      <td>59 28</td>\n",
       "      <td>6.0</td>\n",
       "      <td>0</td>\n",
       "      <td>0</td>\n",
       "      <td>93</td>\n",
       "      <td>Экономика промышленности</td>\n",
       "    </tr>\n",
       "    <tr>\n",
       "      <th>93</th>\n",
       "      <td>5195932</td>\n",
       "      <td>5.2. Экономика</td>\n",
       "      <td>5.2.3. Региональная и отраслевая экономика (эк...</td>\n",
       "      <td>60</td>\n",
       "      <td>28</td>\n",
       "      <td>4</td>\n",
       "      <td>37.0</td>\n",
       "      <td>Электронное</td>\n",
       "      <td>92.0</td>\n",
       "      <td>60 28</td>\n",
       "      <td>4.0</td>\n",
       "      <td>0</td>\n",
       "      <td>0</td>\n",
       "      <td>92</td>\n",
       "      <td>Экономика промышленности</td>\n",
       "    </tr>\n",
       "    <tr>\n",
       "      <th>94</th>\n",
       "      <td>5205772</td>\n",
       "      <td>5.2. Экономика</td>\n",
       "      <td>5.2.7. Государственное и муниципальное управление</td>\n",
       "      <td>60</td>\n",
       "      <td>30</td>\n",
       "      <td>0</td>\n",
       "      <td>38.0</td>\n",
       "      <td>Бумажное</td>\n",
       "      <td>90.0</td>\n",
       "      <td>60 30</td>\n",
       "      <td>0.0</td>\n",
       "      <td>0</td>\n",
       "      <td>0</td>\n",
       "      <td>90</td>\n",
       "      <td>Государственное и муниципальное управление</td>\n",
       "    </tr>\n",
       "    <tr>\n",
       "      <th>155</th>\n",
       "      <td>4741977</td>\n",
       "      <td>5.2. Экономика</td>\n",
       "      <td>5.2.4. Финансы</td>\n",
       "      <td>60</td>\n",
       "      <td>30</td>\n",
       "      <td>0</td>\n",
       "      <td>39.0</td>\n",
       "      <td>Электронное</td>\n",
       "      <td>90.0</td>\n",
       "      <td>60 30</td>\n",
       "      <td>0.0</td>\n",
       "      <td>0</td>\n",
       "      <td>0</td>\n",
       "      <td>90</td>\n",
       "      <td>Финансы</td>\n",
       "    </tr>\n",
       "    <tr>\n",
       "      <th>262</th>\n",
       "      <td>5085170</td>\n",
       "      <td>5.2. Экономика</td>\n",
       "      <td>5.2.4. Финансы</td>\n",
       "      <td>60</td>\n",
       "      <td>30</td>\n",
       "      <td>0</td>\n",
       "      <td>40.0</td>\n",
       "      <td>Электронное</td>\n",
       "      <td>90.0</td>\n",
       "      <td>60 30</td>\n",
       "      <td>0.0</td>\n",
       "      <td>0</td>\n",
       "      <td>0</td>\n",
       "      <td>90</td>\n",
       "      <td>Финансы</td>\n",
       "    </tr>\n",
       "    <tr>\n",
       "      <th>67</th>\n",
       "      <td>4999163</td>\n",
       "      <td>5.2. Экономика</td>\n",
       "      <td>5.2.3. Региональная и отраслевая экономика (эк...</td>\n",
       "      <td>60</td>\n",
       "      <td>28</td>\n",
       "      <td>2</td>\n",
       "      <td>41.0</td>\n",
       "      <td>—</td>\n",
       "      <td>90.0</td>\n",
       "      <td>60 28</td>\n",
       "      <td>2.0</td>\n",
       "      <td>0</td>\n",
       "      <td>0</td>\n",
       "      <td>90</td>\n",
       "      <td>Экономика промышленности</td>\n",
       "    </tr>\n",
       "    <tr>\n",
       "      <th>236</th>\n",
       "      <td>5241689</td>\n",
       "      <td>5.2. Экономика</td>\n",
       "      <td>5.2.4. Финансы</td>\n",
       "      <td>60</td>\n",
       "      <td>24</td>\n",
       "      <td>6</td>\n",
       "      <td>42.0</td>\n",
       "      <td>Бумажное</td>\n",
       "      <td>90.0</td>\n",
       "      <td>60 24</td>\n",
       "      <td>6.0</td>\n",
       "      <td>0</td>\n",
       "      <td>0</td>\n",
       "      <td>90</td>\n",
       "      <td>Финансы</td>\n",
       "    </tr>\n",
       "    <tr>\n",
       "      <th>284</th>\n",
       "      <td>5235316</td>\n",
       "      <td>5.2. Экономика</td>\n",
       "      <td>5.2.3. Региональная и отраслевая экономика (эк...</td>\n",
       "      <td>51</td>\n",
       "      <td>34</td>\n",
       "      <td>4</td>\n",
       "      <td>43.0</td>\n",
       "      <td>Бумажное</td>\n",
       "      <td>89.0</td>\n",
       "      <td>51 34</td>\n",
       "      <td>4.0</td>\n",
       "      <td>0</td>\n",
       "      <td>0</td>\n",
       "      <td>89</td>\n",
       "      <td>Экономика сферы услуг</td>\n",
       "    </tr>\n",
       "  </tbody>\n",
       "</table>\n",
       "</div>"
      ],
      "text/plain": [
       "          id           group  \\\n",
       "183  5056454  5.2. Экономика   \n",
       "184  5056746  5.2. Экономика   \n",
       "174  5010803  5.2. Экономика   \n",
       "86   5176248  5.2. Экономика   \n",
       "273  5168993  5.2. Экономика   \n",
       "274  5178121  5.2. Экономика   \n",
       "97   5222094  5.2. Экономика   \n",
       "76   5073152  5.2. Экономика   \n",
       "16   5050325  5.2. Экономика   \n",
       "64   4954953  5.2. Экономика   \n",
       "18   5144117  5.2. Экономика   \n",
       "177  5023041  5.2. Экономика   \n",
       "248  4820279  5.2. Экономика   \n",
       "38   5239156  5.2. Экономика   \n",
       "181  5042734  5.2. Экономика   \n",
       "130  4153597  5.2. Экономика   \n",
       "29   5218600  5.2. Экономика   \n",
       "294  5207404  5.2. Экономика   \n",
       "42   5225709  5.2. Экономика   \n",
       "116  5241777  5.2. Экономика   \n",
       "276  5204533  5.2. Экономика   \n",
       "77   5081757  5.2. Экономика   \n",
       "204  5152543  5.2. Экономика   \n",
       "74   5069395  5.2. Экономика   \n",
       "81   5135354  5.2. Экономика   \n",
       "101  5230200  5.2. Экономика   \n",
       "283  5233707  5.2. Экономика   \n",
       "218  5200260  5.2. Экономика   \n",
       "268  5148947  5.2. Экономика   \n",
       "202  5151719  5.2. Экономика   \n",
       "91   5192177  5.2. Экономика   \n",
       "27   5211561  5.2. Экономика   \n",
       "83   5148265  5.2. Экономика   \n",
       "95   5215644  5.2. Экономика   \n",
       "255  5015527  5.2. Экономика   \n",
       "46   3600694  5.2. Экономика   \n",
       "93   5195932  5.2. Экономика   \n",
       "94   5205772  5.2. Экономика   \n",
       "155  4741977  5.2. Экономика   \n",
       "262  5085170  5.2. Экономика   \n",
       "67   4999163  5.2. Экономика   \n",
       "236  5241689  5.2. Экономика   \n",
       "284  5235316  5.2. Экономика   \n",
       "\n",
       "                                                 field  econ_points  \\\n",
       "183                                     5.2.4. Финансы           60   \n",
       "184                                     5.2.4. Финансы           60   \n",
       "174  5.2.3. Региональная и отраслевая экономика (ст...           60   \n",
       "86   5.2.3. Региональная и отраслевая экономика (бу...           59   \n",
       "273                           5.2.5. Мировая экономика           60   \n",
       "274                                     5.2.4. Финансы           60   \n",
       "97   5.2.3. Региональная и отраслевая экономика (эк...           60   \n",
       "76                                   5.2.6. Менеджмент           60   \n",
       "16                                   5.2.6. Менеджмент           60   \n",
       "64   5.2.3. Региональная и отраслевая экономика (эк...           60   \n",
       "18   5.2.3. Региональная и отраслевая экономика (эк...           60   \n",
       "177  5.2.3. Региональная и отраслевая экономика (ма...           60   \n",
       "248                           5.2.5. Мировая экономика           60   \n",
       "38                                   5.2.6. Менеджмент           60   \n",
       "181                                     5.2.4. Финансы           60   \n",
       "130                                     5.2.4. Финансы           60   \n",
       "29                                   5.2.6. Менеджмент           60   \n",
       "294                                  5.2.6. Менеджмент           60   \n",
       "42                                   5.2.6. Менеджмент           60   \n",
       "116                                     5.2.4. Финансы           60   \n",
       "276                           5.2.5. Мировая экономика           60   \n",
       "77                                   5.2.6. Менеджмент           56   \n",
       "204                                     5.2.4. Финансы           60   \n",
       "74   5.2.3. Региональная и отраслевая экономика (бу...           60   \n",
       "81   5.2.3. Региональная и отраслевая экономика (эк...           58   \n",
       "101                                  5.2.6. Менеджмент           58   \n",
       "283                                     5.2.4. Финансы           60   \n",
       "218                                     5.2.4. Финансы           60   \n",
       "268                           5.2.5. Мировая экономика           60   \n",
       "202  5.2.3. Региональная и отраслевая экономика (ре...           60   \n",
       "91                                   5.2.6. Менеджмент           54   \n",
       "27                                   5.2.6. Менеджмент           54   \n",
       "83   5.2.3. Региональная и отраслевая экономика (бу...           60   \n",
       "95   5.2.3. Региональная и отраслевая экономика (бу...           60   \n",
       "255                                     5.2.4. Финансы           60   \n",
       "46   5.2.3. Региональная и отраслевая экономика (эк...           59   \n",
       "93   5.2.3. Региональная и отраслевая экономика (эк...           60   \n",
       "94   5.2.7. Государственное и муниципальное управление           60   \n",
       "155                                     5.2.4. Финансы           60   \n",
       "262                                     5.2.4. Финансы           60   \n",
       "67   5.2.3. Региональная и отраслевая экономика (эк...           60   \n",
       "236                                     5.2.4. Финансы           60   \n",
       "284  5.2.3. Региональная и отраслевая экономика (эк...           51   \n",
       "\n",
       "     stat_points  additional_points  final_rating   acceptance  total_points  \\\n",
       "183           40                 11           1.0  Электронное         111.0   \n",
       "184           40                 11           2.0  Электронное         111.0   \n",
       "174           40                  4           3.0     Бумажное         104.0   \n",
       "86            34                  8           4.0  Электронное         101.0   \n",
       "273           40                  0           5.0  Электронное         100.0   \n",
       "274           40                  0           6.0  Электронное         100.0   \n",
       "97            40                  0           7.0     Бумажное         100.0   \n",
       "76            40                  0           8.0  Электронное         100.0   \n",
       "16            40                  0           9.0  Электронное         100.0   \n",
       "64            40                  0          10.0     Бумажное         100.0   \n",
       "18            40                  0          11.0  Электронное         100.0   \n",
       "177           40                  0          12.0  Электронное         100.0   \n",
       "248           40                  0          13.0  Электронное         100.0   \n",
       "38            40                  0          14.0     Бумажное         100.0   \n",
       "181           40                  0          15.0     Бумажное         100.0   \n",
       "130           40                  0          16.0  Электронное         100.0   \n",
       "29            40                  0          17.0  Электронное         100.0   \n",
       "294           40                  0          18.0     Бумажное         100.0   \n",
       "42            40                  0          19.0     Бумажное         100.0   \n",
       "116            8                  1          20.0     Бумажное          99.0   \n",
       "276           36                  0          21.0  Электронное          96.0   \n",
       "77            40                  0          22.0  Электронное          96.0   \n",
       "204           34                  2          23.0  Электронное          96.0   \n",
       "74            32                  4          24.0  Электронное          96.0   \n",
       "81            34                  4          25.0  Электронное          96.0   \n",
       "101           32                  6          26.0  Электронное          96.0   \n",
       "283           28                  8          27.0  Электронное          96.0   \n",
       "218           30                  5          28.0  Электронное          95.0   \n",
       "268           34                  0          29.0  Электронное          94.0   \n",
       "202           34                  0          30.0  Электронное          94.0   \n",
       "91            40                  0          31.0  Электронное          94.0   \n",
       "27            40                  0          32.0     Бумажное          94.0   \n",
       "83            32                  2          33.0  Электронное          94.0   \n",
       "95            26                  8          34.0  Электронное          94.0   \n",
       "255           26                  8          35.0     Бумажное          94.0   \n",
       "46            28                  6          36.0  Электронное          93.0   \n",
       "93            28                  4          37.0  Электронное          92.0   \n",
       "94            30                  0          38.0     Бумажное          90.0   \n",
       "155           30                  0          39.0  Электронное          90.0   \n",
       "262           30                  0          40.0  Электронное          90.0   \n",
       "67            28                  2          41.0            —          90.0   \n",
       "236           24                  6          42.0     Бумажное          90.0   \n",
       "284           34                  4          43.0     Бумажное          89.0   \n",
       "\n",
       "    exams_points  add_points  econ_missing  stat_missing  sum_points  \\\n",
       "183        60 40        11.0             0             0         111   \n",
       "184        60 40        11.0             0             0         111   \n",
       "174        60 40         4.0             0             0         104   \n",
       "86         59 34         8.0             0             0         101   \n",
       "273        60 40         0.0             0             0         100   \n",
       "274        60 40         0.0             0             0         100   \n",
       "97         60 40         0.0             0             0         100   \n",
       "76         60 40         0.0             0             0         100   \n",
       "16         60 40         0.0             0             0         100   \n",
       "64         60 40         0.0             0             0         100   \n",
       "18         60 40         0.0             0             0         100   \n",
       "177        60 40         0.0             0             0         100   \n",
       "248        60 40         0.0             0             0         100   \n",
       "38         60 40         0.0             0             0         100   \n",
       "181        60 40         0.0             0             0         100   \n",
       "130        60 40         0.0             0             0         100   \n",
       "29         60 40         0.0             0             0         100   \n",
       "294        60 40         0.0             0             0         100   \n",
       "42         60 40         0.0             0             0         100   \n",
       "116        60 38         1.0             0             0          69   \n",
       "276        60 36         0.0             0             0          96   \n",
       "77         56 40         0.0             0             0          96   \n",
       "204        60 34         2.0             0             0          96   \n",
       "74         60 32         4.0             0             0          96   \n",
       "81         58 34         4.0             0             0          96   \n",
       "101        58 32         6.0             0             0          96   \n",
       "283        60 28         8.0             0             0          96   \n",
       "218        60 30         5.0             0             0          95   \n",
       "268        60 34         0.0             0             0          94   \n",
       "202        60 34         0.0             0             0          94   \n",
       "91         54 40         0.0             0             0          94   \n",
       "27         54 40         0.0             0             0          94   \n",
       "83         60 32         2.0             0             0          94   \n",
       "95         60 26         8.0             0             0          94   \n",
       "255        60 26         8.0             0             0          94   \n",
       "46         59 28         6.0             0             0          93   \n",
       "93         60 28         4.0             0             0          92   \n",
       "94         60 30         0.0             0             0          90   \n",
       "155        60 30         0.0             0             0          90   \n",
       "262        60 30         0.0             0             0          90   \n",
       "67         60 28         2.0             0             0          90   \n",
       "236        60 24         6.0             0             0          90   \n",
       "284        51 34         4.0             0             0          89   \n",
       "\n",
       "                                           field_short  \n",
       "183                                            Финансы  \n",
       "184                                            Финансы  \n",
       "174    Стандартизация и управление качеством продукции  \n",
       "86   Бухгалтерский учет, аудит и экономическая стат...  \n",
       "273                                  Мировая экономика  \n",
       "274                                            Финансы  \n",
       "97                            Экономика промышленности  \n",
       "76                                          Менеджмент  \n",
       "16                                          Менеджмент  \n",
       "64                            Экономика промышленности  \n",
       "18                                 Экономика инноваций  \n",
       "177                                          Маркетинг  \n",
       "248                                  Мировая экономика  \n",
       "38                                          Менеджмент  \n",
       "181                                            Финансы  \n",
       "130                                            Финансы  \n",
       "29                                          Менеджмент  \n",
       "294                                         Менеджмент  \n",
       "42                                          Менеджмент  \n",
       "116                                            Финансы  \n",
       "276                                  Мировая экономика  \n",
       "77                                          Менеджмент  \n",
       "204                                            Финансы  \n",
       "74   Бухгалтерский учет, аудит и экономическая стат...  \n",
       "81                            Экономика промышленности  \n",
       "101                                         Менеджмент  \n",
       "283                                            Финансы  \n",
       "218                                            Финансы  \n",
       "268                                  Мировая экономика  \n",
       "202                             Региональная экономика  \n",
       "91                                          Менеджмент  \n",
       "27                                          Менеджмент  \n",
       "83   Бухгалтерский учет, аудит и экономическая стат...  \n",
       "95   Бухгалтерский учет, аудит и экономическая стат...  \n",
       "255                                            Финансы  \n",
       "46                            Экономика промышленности  \n",
       "93                            Экономика промышленности  \n",
       "94          Государственное и муниципальное управление  \n",
       "155                                            Финансы  \n",
       "262                                            Финансы  \n",
       "67                            Экономика промышленности  \n",
       "236                                            Финансы  \n",
       "284                              Экономика сферы услуг  "
      ]
     },
     "execution_count": 36,
     "metadata": {},
     "output_type": "execute_result"
    }
   ],
   "source": [
    "df_results[df_results['final_rating']<44].sort_values(by='final_rating')"
   ]
  },
  {
   "cell_type": "code",
   "execution_count": 37,
   "id": "dac6db54-30d8-4876-994f-a9eee898b448",
   "metadata": {
    "tags": []
   },
   "outputs": [],
   "source": [
    "df = df_results.copy()\n",
    "budget_places = 44\n",
    "\n",
    "# Этап 0: Только экономика\n",
    "df_sorted_econ = df.sort_values('econ_points', ascending=False)\n",
    "top44_econ = set(df_sorted_econ.head(budget_places)['id'])\n",
    "\n",
    "# Этап 1: Экономика + Статистика\n",
    "df['econ_stat_sum'] = df['econ_points'] + df['stat_points']\n",
    "df_sorted_econ_stat = df.sort_values('econ_stat_sum', ascending=False)\n",
    "top44_econ_stat = set(df_sorted_econ_stat.head(budget_places)['id'])\n",
    "\n",
    "# Этап 2: Все баллы (total_points)\n",
    "df_sorted_total = df.sort_values('total_points', ascending=False)\n",
    "top44_total = set(df_sorted_total.head(budget_places)['id'])\n",
    "\n",
    "# Этап 3: Финальный рейтинг (исключая льготников)\n",
    "df_sorted_final = df.sort_values('final_rating')\n",
    "top44_final = set(df_sorted_final.head(budget_places)['id'])\n",
    "\n",
    "\n",
    "# Считаем переходы между этапами\n",
    "# Этап 0 -> Этап 1\n",
    "stayed_0_1 = len(top44_econ & top44_econ_stat)\n",
    "left_0_1 = len(top44_econ) - stayed_0_1\n",
    "new_0_1 = len(top44_econ_stat - top44_econ)\n",
    "\n",
    "# Этап 1 -> Этап 2  \n",
    "stayed_1_2 = len(top44_econ_stat & top44_total)\n",
    "left_1_2 = len(top44_econ_stat) - stayed_1_2\n",
    "new_1_2 = len(top44_total - top44_econ_stat)\n",
    "\n",
    "# Этап 2 -> Этап 3\n",
    "stayed_2_3 = len(top44_total & top44_final)\n",
    "left_2_3 = len(top44_total) - stayed_2_3 + 1\n",
    "new_2_3 = len(top44_final - top44_total) - 1"
   ]
  },
  {
   "cell_type": "code",
   "execution_count": 40,
   "id": "18f12aae-6925-43da-ad29-a13f965def97",
   "metadata": {
    "tags": []
   },
   "outputs": [
    {
     "data": {
      "application/vnd.plotly.v1+json": {
       "config": {
        "plotlyServerURL": "https://plot.ly"
       },
       "data": [
        {
         "link": {
          "color": [
           "rgba(94, 138, 255, 0.8)",
           "rgba(255, 94, 94, 0.0)",
           "rgba(94, 138, 255, 0.8)",
           "rgba(255, 94, 94, 0.8)",
           "rgba(94, 138, 255, 0.8)",
           "rgba(255, 94, 94, 0.8)",
           "rgba(94, 138, 255, 0.8)",
           "rgba(255, 94, 94, 0.8)"
          ],
          "source": [
           0,
           0,
           1,
           1,
           3,
           3,
           5,
           5
          ],
          "target": [
           1,
           2,
           3,
           4,
           5,
           6,
           7,
           8
          ],
          "value": [
           44,
           0,
           22,
           22,
           38,
           6,
           44,
           1
          ]
         },
         "node": {
          "color": [
           "#5E8AFF",
           "#5E8AFF",
           "#FF5E5E",
           "#5E8AFF",
           "#FF5E5E",
           "#5E8AFF",
           "#FF5E5E",
           "#5E8AFF",
           "#FF5E5E"
          ],
          "label": [
           "Экзамен по экономике",
           "Экзамен по статистике",
           "Выбыли после экономики\n(0)",
           "Учёт достижений",
           "Выбыли после статистики\n(22)",
           "Предоставление льготных мест",
           "Выбыли после учёта достижений\n(6)",
           "Составление конкурсных списков",
           "Выбыли из-за льготников\n(1)"
          ],
          "line": {
           "color": "black",
           "width": 0.2
          },
          "pad": 15,
          "thickness": 20,
          "x": [
           0,
           0.2,
           0.4,
           0.32,
           0.7,
           0.55,
           1,
           0.8,
           0.9
          ],
          "y": [
           0,
           0.3,
           0.25,
           0.6,
           0.4,
           0.7,
           0,
           0.9,
           0.9
          ]
         },
         "type": "sankey"
        }
       ],
       "layout": {
        "font": {
         "size": 16
        },
        "height": 700,
        "template": {
         "data": {
          "bar": [
           {
            "error_x": {
             "color": "#2a3f5f"
            },
            "error_y": {
             "color": "#2a3f5f"
            },
            "marker": {
             "line": {
              "color": "#E5ECF6",
              "width": 0.5
             },
             "pattern": {
              "fillmode": "overlay",
              "size": 10,
              "solidity": 0.2
             }
            },
            "type": "bar"
           }
          ],
          "barpolar": [
           {
            "marker": {
             "line": {
              "color": "#E5ECF6",
              "width": 0.5
             },
             "pattern": {
              "fillmode": "overlay",
              "size": 10,
              "solidity": 0.2
             }
            },
            "type": "barpolar"
           }
          ],
          "carpet": [
           {
            "aaxis": {
             "endlinecolor": "#2a3f5f",
             "gridcolor": "white",
             "linecolor": "white",
             "minorgridcolor": "white",
             "startlinecolor": "#2a3f5f"
            },
            "baxis": {
             "endlinecolor": "#2a3f5f",
             "gridcolor": "white",
             "linecolor": "white",
             "minorgridcolor": "white",
             "startlinecolor": "#2a3f5f"
            },
            "type": "carpet"
           }
          ],
          "choropleth": [
           {
            "colorbar": {
             "outlinewidth": 0,
             "ticks": ""
            },
            "type": "choropleth"
           }
          ],
          "contour": [
           {
            "colorbar": {
             "outlinewidth": 0,
             "ticks": ""
            },
            "colorscale": [
             [
              0,
              "#0d0887"
             ],
             [
              0.1111111111111111,
              "#46039f"
             ],
             [
              0.2222222222222222,
              "#7201a8"
             ],
             [
              0.3333333333333333,
              "#9c179e"
             ],
             [
              0.4444444444444444,
              "#bd3786"
             ],
             [
              0.5555555555555556,
              "#d8576b"
             ],
             [
              0.6666666666666666,
              "#ed7953"
             ],
             [
              0.7777777777777778,
              "#fb9f3a"
             ],
             [
              0.8888888888888888,
              "#fdca26"
             ],
             [
              1,
              "#f0f921"
             ]
            ],
            "type": "contour"
           }
          ],
          "contourcarpet": [
           {
            "colorbar": {
             "outlinewidth": 0,
             "ticks": ""
            },
            "type": "contourcarpet"
           }
          ],
          "heatmap": [
           {
            "colorbar": {
             "outlinewidth": 0,
             "ticks": ""
            },
            "colorscale": [
             [
              0,
              "#0d0887"
             ],
             [
              0.1111111111111111,
              "#46039f"
             ],
             [
              0.2222222222222222,
              "#7201a8"
             ],
             [
              0.3333333333333333,
              "#9c179e"
             ],
             [
              0.4444444444444444,
              "#bd3786"
             ],
             [
              0.5555555555555556,
              "#d8576b"
             ],
             [
              0.6666666666666666,
              "#ed7953"
             ],
             [
              0.7777777777777778,
              "#fb9f3a"
             ],
             [
              0.8888888888888888,
              "#fdca26"
             ],
             [
              1,
              "#f0f921"
             ]
            ],
            "type": "heatmap"
           }
          ],
          "heatmapgl": [
           {
            "colorbar": {
             "outlinewidth": 0,
             "ticks": ""
            },
            "colorscale": [
             [
              0,
              "#0d0887"
             ],
             [
              0.1111111111111111,
              "#46039f"
             ],
             [
              0.2222222222222222,
              "#7201a8"
             ],
             [
              0.3333333333333333,
              "#9c179e"
             ],
             [
              0.4444444444444444,
              "#bd3786"
             ],
             [
              0.5555555555555556,
              "#d8576b"
             ],
             [
              0.6666666666666666,
              "#ed7953"
             ],
             [
              0.7777777777777778,
              "#fb9f3a"
             ],
             [
              0.8888888888888888,
              "#fdca26"
             ],
             [
              1,
              "#f0f921"
             ]
            ],
            "type": "heatmapgl"
           }
          ],
          "histogram": [
           {
            "marker": {
             "pattern": {
              "fillmode": "overlay",
              "size": 10,
              "solidity": 0.2
             }
            },
            "type": "histogram"
           }
          ],
          "histogram2d": [
           {
            "colorbar": {
             "outlinewidth": 0,
             "ticks": ""
            },
            "colorscale": [
             [
              0,
              "#0d0887"
             ],
             [
              0.1111111111111111,
              "#46039f"
             ],
             [
              0.2222222222222222,
              "#7201a8"
             ],
             [
              0.3333333333333333,
              "#9c179e"
             ],
             [
              0.4444444444444444,
              "#bd3786"
             ],
             [
              0.5555555555555556,
              "#d8576b"
             ],
             [
              0.6666666666666666,
              "#ed7953"
             ],
             [
              0.7777777777777778,
              "#fb9f3a"
             ],
             [
              0.8888888888888888,
              "#fdca26"
             ],
             [
              1,
              "#f0f921"
             ]
            ],
            "type": "histogram2d"
           }
          ],
          "histogram2dcontour": [
           {
            "colorbar": {
             "outlinewidth": 0,
             "ticks": ""
            },
            "colorscale": [
             [
              0,
              "#0d0887"
             ],
             [
              0.1111111111111111,
              "#46039f"
             ],
             [
              0.2222222222222222,
              "#7201a8"
             ],
             [
              0.3333333333333333,
              "#9c179e"
             ],
             [
              0.4444444444444444,
              "#bd3786"
             ],
             [
              0.5555555555555556,
              "#d8576b"
             ],
             [
              0.6666666666666666,
              "#ed7953"
             ],
             [
              0.7777777777777778,
              "#fb9f3a"
             ],
             [
              0.8888888888888888,
              "#fdca26"
             ],
             [
              1,
              "#f0f921"
             ]
            ],
            "type": "histogram2dcontour"
           }
          ],
          "mesh3d": [
           {
            "colorbar": {
             "outlinewidth": 0,
             "ticks": ""
            },
            "type": "mesh3d"
           }
          ],
          "parcoords": [
           {
            "line": {
             "colorbar": {
              "outlinewidth": 0,
              "ticks": ""
             }
            },
            "type": "parcoords"
           }
          ],
          "pie": [
           {
            "automargin": true,
            "type": "pie"
           }
          ],
          "scatter": [
           {
            "fillpattern": {
             "fillmode": "overlay",
             "size": 10,
             "solidity": 0.2
            },
            "type": "scatter"
           }
          ],
          "scatter3d": [
           {
            "line": {
             "colorbar": {
              "outlinewidth": 0,
              "ticks": ""
             }
            },
            "marker": {
             "colorbar": {
              "outlinewidth": 0,
              "ticks": ""
             }
            },
            "type": "scatter3d"
           }
          ],
          "scattercarpet": [
           {
            "marker": {
             "colorbar": {
              "outlinewidth": 0,
              "ticks": ""
             }
            },
            "type": "scattercarpet"
           }
          ],
          "scattergeo": [
           {
            "marker": {
             "colorbar": {
              "outlinewidth": 0,
              "ticks": ""
             }
            },
            "type": "scattergeo"
           }
          ],
          "scattergl": [
           {
            "marker": {
             "colorbar": {
              "outlinewidth": 0,
              "ticks": ""
             }
            },
            "type": "scattergl"
           }
          ],
          "scattermapbox": [
           {
            "marker": {
             "colorbar": {
              "outlinewidth": 0,
              "ticks": ""
             }
            },
            "type": "scattermapbox"
           }
          ],
          "scatterpolar": [
           {
            "marker": {
             "colorbar": {
              "outlinewidth": 0,
              "ticks": ""
             }
            },
            "type": "scatterpolar"
           }
          ],
          "scatterpolargl": [
           {
            "marker": {
             "colorbar": {
              "outlinewidth": 0,
              "ticks": ""
             }
            },
            "type": "scatterpolargl"
           }
          ],
          "scatterternary": [
           {
            "marker": {
             "colorbar": {
              "outlinewidth": 0,
              "ticks": ""
             }
            },
            "type": "scatterternary"
           }
          ],
          "surface": [
           {
            "colorbar": {
             "outlinewidth": 0,
             "ticks": ""
            },
            "colorscale": [
             [
              0,
              "#0d0887"
             ],
             [
              0.1111111111111111,
              "#46039f"
             ],
             [
              0.2222222222222222,
              "#7201a8"
             ],
             [
              0.3333333333333333,
              "#9c179e"
             ],
             [
              0.4444444444444444,
              "#bd3786"
             ],
             [
              0.5555555555555556,
              "#d8576b"
             ],
             [
              0.6666666666666666,
              "#ed7953"
             ],
             [
              0.7777777777777778,
              "#fb9f3a"
             ],
             [
              0.8888888888888888,
              "#fdca26"
             ],
             [
              1,
              "#f0f921"
             ]
            ],
            "type": "surface"
           }
          ],
          "table": [
           {
            "cells": {
             "fill": {
              "color": "#EBF0F8"
             },
             "line": {
              "color": "white"
             }
            },
            "header": {
             "fill": {
              "color": "#C8D4E3"
             },
             "line": {
              "color": "white"
             }
            },
            "type": "table"
           }
          ]
         },
         "layout": {
          "annotationdefaults": {
           "arrowcolor": "#2a3f5f",
           "arrowhead": 0,
           "arrowwidth": 1
          },
          "autotypenumbers": "strict",
          "coloraxis": {
           "colorbar": {
            "outlinewidth": 0,
            "ticks": ""
           }
          },
          "colorscale": {
           "diverging": [
            [
             0,
             "#8e0152"
            ],
            [
             0.1,
             "#c51b7d"
            ],
            [
             0.2,
             "#de77ae"
            ],
            [
             0.3,
             "#f1b6da"
            ],
            [
             0.4,
             "#fde0ef"
            ],
            [
             0.5,
             "#f7f7f7"
            ],
            [
             0.6,
             "#e6f5d0"
            ],
            [
             0.7,
             "#b8e186"
            ],
            [
             0.8,
             "#7fbc41"
            ],
            [
             0.9,
             "#4d9221"
            ],
            [
             1,
             "#276419"
            ]
           ],
           "sequential": [
            [
             0,
             "#0d0887"
            ],
            [
             0.1111111111111111,
             "#46039f"
            ],
            [
             0.2222222222222222,
             "#7201a8"
            ],
            [
             0.3333333333333333,
             "#9c179e"
            ],
            [
             0.4444444444444444,
             "#bd3786"
            ],
            [
             0.5555555555555556,
             "#d8576b"
            ],
            [
             0.6666666666666666,
             "#ed7953"
            ],
            [
             0.7777777777777778,
             "#fb9f3a"
            ],
            [
             0.8888888888888888,
             "#fdca26"
            ],
            [
             1,
             "#f0f921"
            ]
           ],
           "sequentialminus": [
            [
             0,
             "#0d0887"
            ],
            [
             0.1111111111111111,
             "#46039f"
            ],
            [
             0.2222222222222222,
             "#7201a8"
            ],
            [
             0.3333333333333333,
             "#9c179e"
            ],
            [
             0.4444444444444444,
             "#bd3786"
            ],
            [
             0.5555555555555556,
             "#d8576b"
            ],
            [
             0.6666666666666666,
             "#ed7953"
            ],
            [
             0.7777777777777778,
             "#fb9f3a"
            ],
            [
             0.8888888888888888,
             "#fdca26"
            ],
            [
             1,
             "#f0f921"
            ]
           ]
          },
          "colorway": [
           "#636efa",
           "#EF553B",
           "#00cc96",
           "#ab63fa",
           "#FFA15A",
           "#19d3f3",
           "#FF6692",
           "#B6E880",
           "#FF97FF",
           "#FECB52"
          ],
          "font": {
           "color": "#2a3f5f"
          },
          "geo": {
           "bgcolor": "white",
           "lakecolor": "white",
           "landcolor": "#E5ECF6",
           "showlakes": true,
           "showland": true,
           "subunitcolor": "white"
          },
          "hoverlabel": {
           "align": "left"
          },
          "hovermode": "closest",
          "mapbox": {
           "style": "light"
          },
          "paper_bgcolor": "white",
          "plot_bgcolor": "#E5ECF6",
          "polar": {
           "angularaxis": {
            "gridcolor": "white",
            "linecolor": "white",
            "ticks": ""
           },
           "bgcolor": "#E5ECF6",
           "radialaxis": {
            "gridcolor": "white",
            "linecolor": "white",
            "ticks": ""
           }
          },
          "scene": {
           "xaxis": {
            "backgroundcolor": "#E5ECF6",
            "gridcolor": "white",
            "gridwidth": 2,
            "linecolor": "white",
            "showbackground": true,
            "ticks": "",
            "zerolinecolor": "white"
           },
           "yaxis": {
            "backgroundcolor": "#E5ECF6",
            "gridcolor": "white",
            "gridwidth": 2,
            "linecolor": "white",
            "showbackground": true,
            "ticks": "",
            "zerolinecolor": "white"
           },
           "zaxis": {
            "backgroundcolor": "#E5ECF6",
            "gridcolor": "white",
            "gridwidth": 2,
            "linecolor": "white",
            "showbackground": true,
            "ticks": "",
            "zerolinecolor": "white"
           }
          },
          "shapedefaults": {
           "line": {
            "color": "#2a3f5f"
           }
          },
          "ternary": {
           "aaxis": {
            "gridcolor": "white",
            "linecolor": "white",
            "ticks": ""
           },
           "baxis": {
            "gridcolor": "white",
            "linecolor": "white",
            "ticks": ""
           },
           "bgcolor": "#E5ECF6",
           "caxis": {
            "gridcolor": "white",
            "linecolor": "white",
            "ticks": ""
           }
          },
          "title": {
           "x": 0.05
          },
          "xaxis": {
           "automargin": true,
           "gridcolor": "white",
           "linecolor": "white",
           "ticks": "",
           "title": {
            "standoff": 15
           },
           "zerolinecolor": "white",
           "zerolinewidth": 2
          },
          "yaxis": {
           "automargin": true,
           "gridcolor": "white",
           "linecolor": "white",
           "ticks": "",
           "title": {
            "standoff": 15
           },
           "zerolinecolor": "white",
           "zerolinewidth": 2
          }
         }
        },
        "width": 1400
       }
      },
      "image/png": "[encoded data removed]",
      "text/html": [
       "<div>                            <div id=\"1c08642b-8bb8-4530-909a-c9a4877b9db7\" class=\"plotly-graph-div\" style=\"height:700px; width:1400px;\"></div>            <script type=\"text/javascript\">                require([\"plotly\"], function(Plotly) {                    window.PLOTLYENV=window.PLOTLYENV || {};                                    if (document.getElementById(\"1c08642b-8bb8-4530-909a-c9a4877b9db7\")) {                    Plotly.newPlot(                        \"1c08642b-8bb8-4530-909a-c9a4877b9db7\",                        [{\"link\":{\"color\":[\"rgba(94, 138, 255, 0.8)\",\"rgba(255, 94, 94, 0.0)\",\"rgba(94, 138, 255, 0.8)\",\"rgba(255, 94, 94, 0.8)\",\"rgba(94, 138, 255, 0.8)\",\"rgba(255, 94, 94, 0.8)\",\"rgba(94, 138, 255, 0.8)\",\"rgba(255, 94, 94, 0.8)\"],\"source\":[0,0,1,1,3,3,5,5],\"target\":[1,2,3,4,5,6,7,8],\"value\":[44,0,22,22,38,6,44,1]},\"node\":{\"color\":[\"#5E8AFF\",\"#5E8AFF\",\"#FF5E5E\",\"#5E8AFF\",\"#FF5E5E\",\"#5E8AFF\",\"#FF5E5E\",\"#5E8AFF\",\"#FF5E5E\"],\"label\":[\"\\u042d\\u043a\\u0437\\u0430\\u043c\\u0435\\u043d \\u043f\\u043e \\u044d\\u043a\\u043e\\u043d\\u043e\\u043c\\u0438\\u043a\\u0435\",\"\\u042d\\u043a\\u0437\\u0430\\u043c\\u0435\\u043d \\u043f\\u043e \\u0441\\u0442\\u0430\\u0442\\u0438\\u0441\\u0442\\u0438\\u043a\\u0435\",\"\\u0412\\u044b\\u0431\\u044b\\u043b\\u0438 \\u043f\\u043e\\u0441\\u043b\\u0435 \\u044d\\u043a\\u043e\\u043d\\u043e\\u043c\\u0438\\u043a\\u0438\\n(0)\",\"\\u0423\\u0447\\u0451\\u0442 \\u0434\\u043e\\u0441\\u0442\\u0438\\u0436\\u0435\\u043d\\u0438\\u0439\",\"\\u0412\\u044b\\u0431\\u044b\\u043b\\u0438 \\u043f\\u043e\\u0441\\u043b\\u0435 \\u0441\\u0442\\u0430\\u0442\\u0438\\u0441\\u0442\\u0438\\u043a\\u0438\\n(22)\",\"\\u041f\\u0440\\u0435\\u0434\\u043e\\u0441\\u0442\\u0430\\u0432\\u043b\\u0435\\u043d\\u0438\\u0435 \\u043b\\u044c\\u0433\\u043e\\u0442\\u043d\\u044b\\u0445 \\u043c\\u0435\\u0441\\u0442\",\"\\u0412\\u044b\\u0431\\u044b\\u043b\\u0438 \\u043f\\u043e\\u0441\\u043b\\u0435 \\u0443\\u0447\\u0451\\u0442\\u0430 \\u0434\\u043e\\u0441\\u0442\\u0438\\u0436\\u0435\\u043d\\u0438\\u0439\\n(6)\",\"\\u0421\\u043e\\u0441\\u0442\\u0430\\u0432\\u043b\\u0435\\u043d\\u0438\\u0435 \\u043a\\u043e\\u043d\\u043a\\u0443\\u0440\\u0441\\u043d\\u044b\\u0445 \\u0441\\u043f\\u0438\\u0441\\u043a\\u043e\\u0432\",\"\\u0412\\u044b\\u0431\\u044b\\u043b\\u0438 \\u0438\\u0437-\\u0437\\u0430 \\u043b\\u044c\\u0433\\u043e\\u0442\\u043d\\u0438\\u043a\\u043e\\u0432\\n(1)\"],\"line\":{\"color\":\"black\",\"width\":0.2},\"pad\":15,\"thickness\":20,\"x\":[0,0.2,0.4,0.32,0.7,0.55,1,0.8,0.9],\"y\":[0,0.3,0.25,0.6,0.4,0.7,0,0.9,0.9]},\"type\":\"sankey\"}],                        {\"template\":{\"data\":{\"histogram2dcontour\":[{\"type\":\"histogram2dcontour\",\"colorbar\":{\"outlinewidth\":0,\"ticks\":\"\"},\"colorscale\":[[0.0,\"#0d0887\"],[0.1111111111111111,\"#46039f\"],[0.2222222222222222,\"#7201a8\"],[0.3333333333333333,\"#9c179e\"],[0.4444444444444444,\"#bd3786\"],[0.5555555555555556,\"#d8576b\"],[0.6666666666666666,\"#ed7953\"],[0.7777777777777778,\"#fb9f3a\"],[0.8888888888888888,\"#fdca26\"],[1.0,\"#f0f921\"]]}],\"choropleth\":[{\"type\":\"choropleth\",\"colorbar\":{\"outlinewidth\":0,\"ticks\":\"\"}}],\"histogram2d\":[{\"type\":\"histogram2d\",\"colorbar\":{\"outlinewidth\":0,\"ticks\":\"\"},\"colorscale\":[[0.0,\"#0d0887\"],[0.1111111111111111,\"#46039f\"],[0.2222222222222222,\"#7201a8\"],[0.3333333333333333,\"#9c179e\"],[0.4444444444444444,\"#bd3786\"],[0.5555555555555556,\"#d8576b\"],[0.6666666666666666,\"#ed7953\"],[0.7777777777777778,\"#fb9f3a\"],[0.8888888888888888,\"#fdca26\"],[1.0,\"#f0f921\"]]}],\"heatmap\":[{\"type\":\"heatmap\",\"colorbar\":{\"outlinewidth\":0,\"ticks\":\"\"},\"colorscale\":[[0.0,\"#0d0887\"],[0.1111111111111111,\"#46039f\"],[0.2222222222222222,\"#7201a8\"],[0.3333333333333333,\"#9c179e\"],[0.4444444444444444,\"#bd3786\"],[0.5555555555555556,\"#d8576b\"],[0.6666666666666666,\"#ed7953\"],[0.7777777777777778,\"#fb9f3a\"],[0.8888888888888888,\"#fdca26\"],[1.0,\"#f0f921\"]]}],\"heatmapgl\":[{\"type\":\"heatmapgl\",\"colorbar\":{\"outlinewidth\":0,\"ticks\":\"\"},\"colorscale\":[[0.0,\"#0d0887\"],[0.1111111111111111,\"#46039f\"],[0.2222222222222222,\"#7201a8\"],[0.3333333333333333,\"#9c179e\"],[0.4444444444444444,\"#bd3786\"],[0.5555555555555556,\"#d8576b\"],[0.6666666666666666,\"#ed7953\"],[0.7777777777777778,\"#fb9f3a\"],[0.8888888888888888,\"#fdca26\"],[1.0,\"#f0f921\"]]}],\"contourcarpet\":[{\"type\":\"contourcarpet\",\"colorbar\":{\"outlinewidth\":0,\"ticks\":\"\"}}],\"contour\":[{\"type\":\"contour\",\"colorbar\":{\"outlinewidth\":0,\"ticks\":\"\"},\"colorscale\":[[0.0,\"#0d0887\"],[0.1111111111111111,\"#46039f\"],[0.2222222222222222,\"#7201a8\"],[0.3333333333333333,\"#9c179e\"],[0.4444444444444444,\"#bd3786\"],[0.5555555555555556,\"#d8576b\"],[0.6666666666666666,\"#ed7953\"],[0.7777777777777778,\"#fb9f3a\"],[0.8888888888888888,\"#fdca26\"],[1.0,\"#f0f921\"]]}],\"surface\":[{\"type\":\"surface\",\"colorbar\":{\"outlinewidth\":0,\"ticks\":\"\"},\"colorscale\":[[0.0,\"#0d0887\"],[0.1111111111111111,\"#46039f\"],[0.2222222222222222,\"#7201a8\"],[0.3333333333333333,\"#9c179e\"],[0.4444444444444444,\"#bd3786\"],[0.5555555555555556,\"#d8576b\"],[0.6666666666666666,\"#ed7953\"],[0.7777777777777778,\"#fb9f3a\"],[0.8888888888888888,\"#fdca26\"],[1.0,\"#f0f921\"]]}],\"mesh3d\":[{\"type\":\"mesh3d\",\"colorbar\":{\"outlinewidth\":0,\"ticks\":\"\"}}],\"scatter\":[{\"fillpattern\":{\"fillmode\":\"overlay\",\"size\":10,\"solidity\":0.2},\"type\":\"scatter\"}],\"parcoords\":[{\"type\":\"parcoords\",\"line\":{\"colorbar\":{\"outlinewidth\":0,\"ticks\":\"\"}}}],\"scatterpolargl\":[{\"type\":\"scatterpolargl\",\"marker\":{\"colorbar\":{\"outlinewidth\":0,\"ticks\":\"\"}}}],\"bar\":[{\"error_x\":{\"color\":\"#2a3f5f\"},\"error_y\":{\"color\":\"#2a3f5f\"},\"marker\":{\"line\":{\"color\":\"#E5ECF6\",\"width\":0.5},\"pattern\":{\"fillmode\":\"overlay\",\"size\":10,\"solidity\":0.2}},\"type\":\"bar\"}],\"scattergeo\":[{\"type\":\"scattergeo\",\"marker\":{\"colorbar\":{\"outlinewidth\":0,\"ticks\":\"\"}}}],\"scatterpolar\":[{\"type\":\"scatterpolar\",\"marker\":{\"colorbar\":{\"outlinewidth\":0,\"ticks\":\"\"}}}],\"histogram\":[{\"marker\":{\"pattern\":{\"fillmode\":\"overlay\",\"size\":10,\"solidity\":0.2}},\"type\":\"histogram\"}],\"scattergl\":[{\"type\":\"scattergl\",\"marker\":{\"colorbar\":{\"outlinewidth\":0,\"ticks\":\"\"}}}],\"scatter3d\":[{\"type\":\"scatter3d\",\"line\":{\"colorbar\":{\"outlinewidth\":0,\"ticks\":\"\"}},\"marker\":{\"colorbar\":{\"outlinewidth\":0,\"ticks\":\"\"}}}],\"scattermapbox\":[{\"type\":\"scattermapbox\",\"marker\":{\"colorbar\":{\"outlinewidth\":0,\"ticks\":\"\"}}}],\"scatterternary\":[{\"type\":\"scatterternary\",\"marker\":{\"colorbar\":{\"outlinewidth\":0,\"ticks\":\"\"}}}],\"scattercarpet\":[{\"type\":\"scattercarpet\",\"marker\":{\"colorbar\":{\"outlinewidth\":0,\"ticks\":\"\"}}}],\"carpet\":[{\"aaxis\":{\"endlinecolor\":\"#2a3f5f\",\"gridcolor\":\"white\",\"linecolor\":\"white\",\"minorgridcolor\":\"white\",\"startlinecolor\":\"#2a3f5f\"},\"baxis\":{\"endlinecolor\":\"#2a3f5f\",\"gridcolor\":\"white\",\"linecolor\":\"white\",\"minorgridcolor\":\"white\",\"startlinecolor\":\"#2a3f5f\"},\"type\":\"carpet\"}],\"table\":[{\"cells\":{\"fill\":{\"color\":\"#EBF0F8\"},\"line\":{\"color\":\"white\"}},\"header\":{\"fill\":{\"color\":\"#C8D4E3\"},\"line\":{\"color\":\"white\"}},\"type\":\"table\"}],\"barpolar\":[{\"marker\":{\"line\":{\"color\":\"#E5ECF6\",\"width\":0.5},\"pattern\":{\"fillmode\":\"overlay\",\"size\":10,\"solidity\":0.2}},\"type\":\"barpolar\"}],\"pie\":[{\"automargin\":true,\"type\":\"pie\"}]},\"layout\":{\"autotypenumbers\":\"strict\",\"colorway\":[\"#636efa\",\"#EF553B\",\"#00cc96\",\"#ab63fa\",\"#FFA15A\",\"#19d3f3\",\"#FF6692\",\"#B6E880\",\"#FF97FF\",\"#FECB52\"],\"font\":{\"color\":\"#2a3f5f\"},\"hovermode\":\"closest\",\"hoverlabel\":{\"align\":\"left\"},\"paper_bgcolor\":\"white\",\"plot_bgcolor\":\"#E5ECF6\",\"polar\":{\"bgcolor\":\"#E5ECF6\",\"angularaxis\":{\"gridcolor\":\"white\",\"linecolor\":\"white\",\"ticks\":\"\"},\"radialaxis\":{\"gridcolor\":\"white\",\"linecolor\":\"white\",\"ticks\":\"\"}},\"ternary\":{\"bgcolor\":\"#E5ECF6\",\"aaxis\":{\"gridcolor\":\"white\",\"linecolor\":\"white\",\"ticks\":\"\"},\"baxis\":{\"gridcolor\":\"white\",\"linecolor\":\"white\",\"ticks\":\"\"},\"caxis\":{\"gridcolor\":\"white\",\"linecolor\":\"white\",\"ticks\":\"\"}},\"coloraxis\":{\"colorbar\":{\"outlinewidth\":0,\"ticks\":\"\"}},\"colorscale\":{\"sequential\":[[0.0,\"#0d0887\"],[0.1111111111111111,\"#46039f\"],[0.2222222222222222,\"#7201a8\"],[0.3333333333333333,\"#9c179e\"],[0.4444444444444444,\"#bd3786\"],[0.5555555555555556,\"#d8576b\"],[0.6666666666666666,\"#ed7953\"],[0.7777777777777778,\"#fb9f3a\"],[0.8888888888888888,\"#fdca26\"],[1.0,\"#f0f921\"]],\"sequentialminus\":[[0.0,\"#0d0887\"],[0.1111111111111111,\"#46039f\"],[0.2222222222222222,\"#7201a8\"],[0.3333333333333333,\"#9c179e\"],[0.4444444444444444,\"#bd3786\"],[0.5555555555555556,\"#d8576b\"],[0.6666666666666666,\"#ed7953\"],[0.7777777777777778,\"#fb9f3a\"],[0.8888888888888888,\"#fdca26\"],[1.0,\"#f0f921\"]],\"diverging\":[[0,\"#8e0152\"],[0.1,\"#c51b7d\"],[0.2,\"#de77ae\"],[0.3,\"#f1b6da\"],[0.4,\"#fde0ef\"],[0.5,\"#f7f7f7\"],[0.6,\"#e6f5d0\"],[0.7,\"#b8e186\"],[0.8,\"#7fbc41\"],[0.9,\"#4d9221\"],[1,\"#276419\"]]},\"xaxis\":{\"gridcolor\":\"white\",\"linecolor\":\"white\",\"ticks\":\"\",\"title\":{\"standoff\":15},\"zerolinecolor\":\"white\",\"automargin\":true,\"zerolinewidth\":2},\"yaxis\":{\"gridcolor\":\"white\",\"linecolor\":\"white\",\"ticks\":\"\",\"title\":{\"standoff\":15},\"zerolinecolor\":\"white\",\"automargin\":true,\"zerolinewidth\":2},\"scene\":{\"xaxis\":{\"backgroundcolor\":\"#E5ECF6\",\"gridcolor\":\"white\",\"linecolor\":\"white\",\"showbackground\":true,\"ticks\":\"\",\"zerolinecolor\":\"white\",\"gridwidth\":2},\"yaxis\":{\"backgroundcolor\":\"#E5ECF6\",\"gridcolor\":\"white\",\"linecolor\":\"white\",\"showbackground\":true,\"ticks\":\"\",\"zerolinecolor\":\"white\",\"gridwidth\":2},\"zaxis\":{\"backgroundcolor\":\"#E5ECF6\",\"gridcolor\":\"white\",\"linecolor\":\"white\",\"showbackground\":true,\"ticks\":\"\",\"zerolinecolor\":\"white\",\"gridwidth\":2}},\"shapedefaults\":{\"line\":{\"color\":\"#2a3f5f\"}},\"annotationdefaults\":{\"arrowcolor\":\"#2a3f5f\",\"arrowhead\":0,\"arrowwidth\":1},\"geo\":{\"bgcolor\":\"white\",\"landcolor\":\"#E5ECF6\",\"subunitcolor\":\"white\",\"showland\":true,\"showlakes\":true,\"lakecolor\":\"white\"},\"title\":{\"x\":0.05},\"mapbox\":{\"style\":\"light\"}}},\"font\":{\"size\":16},\"width\":1400,\"height\":700},                        {\"responsive\": true}                    ).then(function(){\n",
       "                            \n",
       "var gd = document.getElementById('1c08642b-8bb8-4530-909a-c9a4877b9db7');\n",
       "var x = new MutationObserver(function (mutations, observer) {{\n",
       "        var display = window.getComputedStyle(gd).display;\n",
       "        if (!display || display === 'none') {{\n",
       "            console.log([gd, 'removed!']);\n",
       "            Plotly.purge(gd);\n",
       "            observer.disconnect();\n",
       "        }}\n",
       "}});\n",
       "\n",
       "// Listen for the removal of the full notebook cells\n",
       "var notebookContainer = gd.closest('#notebook-container');\n",
       "if (notebookContainer) {{\n",
       "    x.observe(notebookContainer, {childList: true});\n",
       "}}\n",
       "\n",
       "// Listen for the clearing of the current output cell\n",
       "var outputEl = gd.closest('.output');\n",
       "if (outputEl) {{\n",
       "    x.observe(outputEl, {childList: true});\n",
       "}}\n",
       "\n",
       "                        })                };                });            </script>        </div>"
      ]
     },
     "metadata": {},
     "output_type": "display_data"
    }
   ],
   "source": [
    "labels = ['Экзамен по экономике', 'Экзамен по статистике', 'Выбыли после экономики', \n",
    "          'Учёт достижений', 'Выбыли после статистики',\n",
    "          'Составление конкурсных списков', 'Выбыли после учёта достижений', \n",
    "          'Предоставление льготных мест', 'Выбыли из-за льготников']\n",
    "\n",
    "# Добавляем переходы от нового этапа 0 к этапу 1 (все 44 человека переходят)\n",
    "source = [0, 0, 1, 1, 3, 3, 5, 5]\n",
    "target = [1, 2, 3, 4, 5, 6, 7, 8]\n",
    "value = [44, 0, stayed_0_1, left_0_1, stayed_1_2, left_1_2, stayed_2_3, left_2_3]\n",
    "\n",
    "labels_with_counts = [\n",
    "    'Экзамен по экономике',\n",
    "    'Экзамен по статистике', \n",
    "    f'Выбыли после экономики\\n({0})',\n",
    "    'Учёт достижений',\n",
    "    f'Выбыли после статистики\\n({left_0_1})',\n",
    "    'Предоставление льготных мест',\n",
    "    f'Выбыли после учёта достижений\\n({left_1_2})',\n",
    "    'Составление конкурсных списков',\n",
    "    f'Выбыли из-за льготников\\n({left_2_3})'\n",
    "]\n",
    "\n",
    "node_x = [0,   0.2, 0.4,  0.32, 0.7,  0.55, 1,  0.8, 0.9]   # X координаты\n",
    "node_y = [0, 0.3, 0.25,  0.6, 0.4,  0.7, 0,  0.9, 0.9]   # Y координаты (основные этапы выше, выбывшие ниже)\n",
    "\n",
    "fig = go.Figure(data=[go.Sankey(\n",
    "    node=dict(\n",
    "        pad=15,\n",
    "        thickness=20,\n",
    "        line=dict(color=\"black\", width=0.2),\n",
    "        label=labels_with_counts,\n",
    "        color=['#5E8AFF', '#5E8AFF', '#FF5E5E', '#5E8AFF', '#FF5E5E', \n",
    "               '#5E8AFF', '#FF5E5E', '#5E8AFF', '#FF5E5E'],\n",
    "        x=node_x,\n",
    "        y=node_y\n",
    "    ),\n",
    "    link=dict(\n",
    "        source=source,\n",
    "        target=target,\n",
    "        value=value,\n",
    "        color=['rgba(94, 138, 255, 0.8)', 'rgba(255, 94, 94, 0.0)',\n",
    "               'rgba(94, 138, 255, 0.8)', 'rgba(255, 94, 94, 0.8)',\n",
    "               'rgba(94, 138, 255, 0.8)', 'rgba(255, 94, 94, 0.8)',\n",
    "               'rgba(94, 138, 255, 0.8)', 'rgba(255, 94, 94, 0.8)']\n",
    "    )\n",
    ")])\n",
    "\n",
    "fig.update_layout(\n",
    "    font_size=16,\n",
    "    width=1400,\n",
    "    height=700\n",
    ")\n",
    "\n",
    "fig.write_image(\"admission_sankey.svg\")\n",
    "\n",
    "fig.show()"
   ]
  },
  {
   "cell_type": "markdown",
   "id": "943d444a-a675-4ea9-8ade-03b0eb9ac056",
   "metadata": {
    "tags": []
   },
   "source": [
    "## Корреляция баллов по статистике и экономике с учётом достижений"
   ]
  },
  {
   "cell_type": "code",
   "execution_count": 41,
   "id": "6b35e5f9-07c5-41bb-9432-546e767a0349",
   "metadata": {
    "tags": []
   },
   "outputs": [
    {
     "name": "stdout",
     "output_type": "stream",
     "text": [
      "<class 'pandas.core.frame.DataFrame'>\n",
      "RangeIndex: 297 entries, 0 to 296\n",
      "Data columns (total 15 columns):\n",
      " #   Column             Non-Null Count  Dtype  \n",
      "---  ------             --------------  -----  \n",
      " 0   id                 297 non-null    int32  \n",
      " 1   group              297 non-null    object \n",
      " 2   field              297 non-null    object \n",
      " 3   econ_points        297 non-null    int32  \n",
      " 4   stat_points        297 non-null    int32  \n",
      " 5   additional_points  297 non-null    int32  \n",
      " 6   final_rating       83 non-null     float64\n",
      " 7   acceptance         83 non-null     object \n",
      " 8   total_points       83 non-null     float64\n",
      " 9   exams_points       83 non-null     object \n",
      " 10  add_points         83 non-null     float64\n",
      " 11  econ_missing       297 non-null    int32  \n",
      " 12  stat_missing       297 non-null    int32  \n",
      " 13  sum_points         297 non-null    int32  \n",
      " 14  field_short        297 non-null    object \n",
      "dtypes: float64(3), int32(7), object(5)\n",
      "memory usage: 26.8+ KB\n"
     ]
    }
   ],
   "source": [
    "df = df_results.copy()\n",
    "df.info()"
   ]
  },
  {
   "cell_type": "code",
   "execution_count": 81,
   "id": "f2098825-7de5-4552-af22-ada2d3bb67ed",
   "metadata": {
    "tags": []
   },
   "outputs": [
    {
     "name": "stderr",
     "output_type": "stream",
     "text": [
      "C:\\Users\\pahan\\AppData\\Local\\Temp\\ipykernel_26040\\167319292.py:12: FutureWarning:\n",
      "\n",
      "Setting an item of incompatible dtype is deprecated and will raise an error in a future version of pandas. Value '39.50476190476191' has dtype incompatible with int32, please explicitly cast to a compatible dtype first.\n",
      "\n",
      "C:\\Users\\pahan\\AppData\\Local\\Temp\\ipykernel_26040\\167319292.py:12: FutureWarning:\n",
      "\n",
      "Setting an item of incompatible dtype is deprecated and will raise an error in a future version of pandas. Value '60.72888888888889' has dtype incompatible with int32, please explicitly cast to a compatible dtype first.\n",
      "\n"
     ]
    },
    {
     "data": {
      "image/png": "[encoded data removed]",
      "text/plain": [
       "<Figure size 960x840 with 1 Axes>"
      ]
     },
     "metadata": {},
     "output_type": "display_data"
    }
   ],
   "source": [
    "# Добавим небольшой разброс для кучности\n",
    "def smart_jitter(data, jitter_amount=0.8):\n",
    "    jittered = data.copy()\n",
    "    # Находим дубликаты координат и добавляем разброс только к ним\n",
    "    value_counts = data.value_counts()\n",
    "    for value, count in value_counts.items():\n",
    "        if count > 1:\n",
    "            indices = data[data == value].index\n",
    "            jitter_values = np.linspace(-jitter_amount, jitter_amount, count)\n",
    "            np.random.shuffle(jitter_values)\n",
    "            for i, idx in enumerate(indices):\n",
    "                jittered.loc[idx] = value + jitter_values[i]\n",
    "    return jittered\n",
    "\n",
    "\n",
    "filtered_df = df_results[(df_results['stat_missing'] == 0) & (df_results['econ_missing'] == 0)]\n",
    "\n",
    "no_add_points = filtered_df[filtered_df['additional_points'] == 0]\n",
    "with_add_points = filtered_df[filtered_df['additional_points'] > 0]\n",
    "\n",
    "fig, ax = plt.subplots(figsize=(10, 8))\n",
    "fig.set_size_inches(9.6, 8.4)\n",
    "\n",
    "ax.scatter(no_add_points['stat_points'], no_add_points['econ_points'], \n",
    "           color='#5E8AFF', alpha=1, s=60, label='Без доп. баллов')\n",
    "\n",
    "ax.scatter(with_add_points['stat_points'], with_add_points['econ_points'], \n",
    "           color='#FFA500', alpha=1, s=80, label='С доп. баллами')\n",
    "\n",
    "ax.set_xlim(0, filtered_df['stat_points'].max() + 2)\n",
    "ax.set_ylim(0, filtered_df['econ_points'].max() + 2)\n",
    "\n",
    "ax.set_xlabel('Баллы по статистике', fontsize=12, color='#2C2C2C')\n",
    "ax.set_ylabel('Баллы по экономике', fontsize=12, color='#2C2C2C')\n",
    "\n",
    "x_ticks = range(0, int(filtered_df['stat_points'].max()) + 5, 5)\n",
    "ax.set_xticks(x_ticks)\n",
    "ax.set_xticklabels([str(x) for x in x_ticks], color='#2C2C2C')\n",
    "\n",
    "y_ticks = range(0, int(filtered_df['econ_points'].max()) + 5, 5)\n",
    "ax.set_yticks(y_ticks)\n",
    "ax.set_yticklabels([str(y) for y in y_ticks], color='#2C2C2C')\n",
    "\n",
    "ax.scatter(smart_jitter(no_add_points['stat_points']), \n",
    "           smart_jitter(no_add_points['econ_points']), \n",
    "           color='#5E8AFF', alpha=1, s=60, label='Без доп. баллов')\n",
    "\n",
    "ax.spines['top'].set_visible(False)\n",
    "ax.spines['right'].set_visible(False)\n",
    "ax.spines['left'].set_color('#5C5C5C')\n",
    "ax.spines['bottom'].set_color('#5C5C5C')\n",
    "\n",
    "ax.legend(frameon=False, loc='upper left')\n",
    "\n",
    "inter_font = fm.findfont(fm.FontProperties(family=['Inter']))\n",
    "font_prop = fm.FontProperties(fname=inter_font)\n",
    "ax.title.set_fontproperties(font_prop)\n",
    "ax.xaxis.label.set_fontproperties(font_prop)\n",
    "ax.yaxis.label.set_fontproperties(font_prop)\n",
    "\n",
    "for label in ax.get_xticklabels() + ax.get_yticklabels():\n",
    "    label.set_fontproperties(font_prop)\n",
    "\n",
    "for text in ax.texts:\n",
    "    text.set_fontproperties(font_prop)\n",
    "\n",
    "ax.grid(False)\n",
    "\n",
    "plt.tight_layout()\n",
    "\n",
    "fig.savefig(\"Соотношение баллов по экономике и статистике.svg\", format='svg', transparent=True, bbox_inches='tight')\n",
    "\n",
    "plt.show()"
   ]
  },
  {
   "cell_type": "code",
   "execution_count": 80,
   "id": "71dd64fe-645b-4a91-8e3e-374cb6d3900e",
   "metadata": {
    "tags": []
   },
   "outputs": [
    {
     "data": {
      "text/plain": [
       "id                   7\n",
       "group                7\n",
       "field                7\n",
       "econ_points          7\n",
       "stat_points          7\n",
       "additional_points    7\n",
       "final_rating         7\n",
       "acceptance           7\n",
       "total_points         7\n",
       "exams_points         7\n",
       "add_points           7\n",
       "econ_missing         7\n",
       "stat_missing         7\n",
       "sum_points           7\n",
       "field_short          7\n",
       "dtype: int64"
      ]
     },
     "execution_count": 80,
     "metadata": {},
     "output_type": "execute_result"
    }
   ],
   "source": [
    "df_results[(df_results['additional_points']>0) & (df_results['final_rating']>=44)].count()"
   ]
  },
  {
   "cell_type": "code",
   "execution_count": 76,
   "id": "8e79bc05-5722-49b7-9ec5-9a7971ebadf3",
   "metadata": {
    "tags": []
   },
   "outputs": [
    {
     "data": {
      "text/html": [
       "<div>\n",
       "<style scoped>\n",
       "    .dataframe tbody tr th:only-of-type {\n",
       "        vertical-align: middle;\n",
       "    }\n",
       "\n",
       "    .dataframe tbody tr th {\n",
       "        vertical-align: top;\n",
       "    }\n",
       "\n",
       "    .dataframe thead th {\n",
       "        text-align: right;\n",
       "    }\n",
       "</style>\n",
       "<table border=\"1\" class=\"dataframe\">\n",
       "  <thead>\n",
       "    <tr style=\"text-align: right;\">\n",
       "      <th></th>\n",
       "      <th>index</th>\n",
       "      <th>stat_points</th>\n",
       "    </tr>\n",
       "  </thead>\n",
       "  <tbody>\n",
       "    <tr>\n",
       "      <th>0</th>\n",
       "      <td>2</td>\n",
       "      <td>0</td>\n",
       "    </tr>\n",
       "    <tr>\n",
       "      <th>1</th>\n",
       "      <td>5</td>\n",
       "      <td>24</td>\n",
       "    </tr>\n",
       "    <tr>\n",
       "      <th>2</th>\n",
       "      <td>10</td>\n",
       "      <td>8</td>\n",
       "    </tr>\n",
       "    <tr>\n",
       "      <th>3</th>\n",
       "      <td>15</td>\n",
       "      <td>0</td>\n",
       "    </tr>\n",
       "    <tr>\n",
       "      <th>4</th>\n",
       "      <td>19</td>\n",
       "      <td>0</td>\n",
       "    </tr>\n",
       "    <tr>\n",
       "      <th>5</th>\n",
       "      <td>22</td>\n",
       "      <td>12</td>\n",
       "    </tr>\n",
       "    <tr>\n",
       "      <th>6</th>\n",
       "      <td>31</td>\n",
       "      <td>0</td>\n",
       "    </tr>\n",
       "    <tr>\n",
       "      <th>7</th>\n",
       "      <td>32</td>\n",
       "      <td>0</td>\n",
       "    </tr>\n",
       "    <tr>\n",
       "      <th>8</th>\n",
       "      <td>33</td>\n",
       "      <td>0</td>\n",
       "    </tr>\n",
       "    <tr>\n",
       "      <th>9</th>\n",
       "      <td>34</td>\n",
       "      <td>0</td>\n",
       "    </tr>\n",
       "    <tr>\n",
       "      <th>10</th>\n",
       "      <td>292</td>\n",
       "      <td>8</td>\n",
       "    </tr>\n",
       "  </tbody>\n",
       "</table>\n",
       "</div>"
      ],
      "text/plain": [
       "    index  stat_points\n",
       "0       2            0\n",
       "1       5           24\n",
       "2      10            8\n",
       "3      15            0\n",
       "4      19            0\n",
       "5      22           12\n",
       "6      31            0\n",
       "7      32            0\n",
       "8      33            0\n",
       "9      34            0\n",
       "10    292            8"
      ]
     },
     "execution_count": 76,
     "metadata": {},
     "output_type": "execute_result"
    }
   ],
   "source": [
    "df_results[df_results['field_short'] == \"Экономика строительства и операций с недвижимостью\"]['stat_points'].reset_index()"
   ]
  },
  {
   "cell_type": "code",
   "execution_count": 72,
   "id": "5d31e72e-c130-4bec-a7a9-bfa1f8b3e6d1",
   "metadata": {
    "tags": []
   },
   "outputs": [
    {
     "data": {
      "text/html": [
       "<div>\n",
       "<style scoped>\n",
       "    .dataframe tbody tr th:only-of-type {\n",
       "        vertical-align: middle;\n",
       "    }\n",
       "\n",
       "    .dataframe tbody tr th {\n",
       "        vertical-align: top;\n",
       "    }\n",
       "\n",
       "    .dataframe thead th {\n",
       "        text-align: right;\n",
       "    }\n",
       "</style>\n",
       "<table border=\"1\" class=\"dataframe\">\n",
       "  <thead>\n",
       "    <tr style=\"text-align: right;\">\n",
       "      <th></th>\n",
       "      <th>index</th>\n",
       "      <th>id</th>\n",
       "      <th>group</th>\n",
       "      <th>field</th>\n",
       "      <th>econ_points</th>\n",
       "      <th>stat_points</th>\n",
       "      <th>additional_points</th>\n",
       "      <th>final_rating</th>\n",
       "      <th>acceptance</th>\n",
       "      <th>total_points</th>\n",
       "      <th>exams_points</th>\n",
       "      <th>add_points</th>\n",
       "      <th>econ_missing</th>\n",
       "      <th>stat_missing</th>\n",
       "      <th>sum_points</th>\n",
       "      <th>field_short</th>\n",
       "    </tr>\n",
       "  </thead>\n",
       "  <tbody>\n",
       "    <tr>\n",
       "      <th>0</th>\n",
       "      <td>16</td>\n",
       "      <td>5050325</td>\n",
       "      <td>5.2. Экономика</td>\n",
       "      <td>5.2.6. Менеджмент</td>\n",
       "      <td>60</td>\n",
       "      <td>40</td>\n",
       "      <td>0</td>\n",
       "      <td>9.0</td>\n",
       "      <td>Электронное</td>\n",
       "      <td>100.0</td>\n",
       "      <td>60 40</td>\n",
       "      <td>0.0</td>\n",
       "      <td>0</td>\n",
       "      <td>0</td>\n",
       "      <td>100</td>\n",
       "      <td>Менеджмент</td>\n",
       "    </tr>\n",
       "    <tr>\n",
       "      <th>1</th>\n",
       "      <td>18</td>\n",
       "      <td>5144117</td>\n",
       "      <td>5.2. Экономика</td>\n",
       "      <td>5.2.3. Региональная и отраслевая экономика (эк...</td>\n",
       "      <td>60</td>\n",
       "      <td>40</td>\n",
       "      <td>0</td>\n",
       "      <td>11.0</td>\n",
       "      <td>Электронное</td>\n",
       "      <td>100.0</td>\n",
       "      <td>60 40</td>\n",
       "      <td>0.0</td>\n",
       "      <td>0</td>\n",
       "      <td>0</td>\n",
       "      <td>100</td>\n",
       "      <td>Экономика инноваций</td>\n",
       "    </tr>\n",
       "    <tr>\n",
       "      <th>2</th>\n",
       "      <td>29</td>\n",
       "      <td>5218600</td>\n",
       "      <td>5.2. Экономика</td>\n",
       "      <td>5.2.6. Менеджмент</td>\n",
       "      <td>60</td>\n",
       "      <td>40</td>\n",
       "      <td>0</td>\n",
       "      <td>17.0</td>\n",
       "      <td>Электронное</td>\n",
       "      <td>100.0</td>\n",
       "      <td>60 40</td>\n",
       "      <td>0.0</td>\n",
       "      <td>0</td>\n",
       "      <td>0</td>\n",
       "      <td>100</td>\n",
       "      <td>Менеджмент</td>\n",
       "    </tr>\n",
       "    <tr>\n",
       "      <th>3</th>\n",
       "      <td>38</td>\n",
       "      <td>5239156</td>\n",
       "      <td>5.2. Экономика</td>\n",
       "      <td>5.2.6. Менеджмент</td>\n",
       "      <td>60</td>\n",
       "      <td>40</td>\n",
       "      <td>0</td>\n",
       "      <td>14.0</td>\n",
       "      <td>Бумажное</td>\n",
       "      <td>100.0</td>\n",
       "      <td>60 40</td>\n",
       "      <td>0.0</td>\n",
       "      <td>0</td>\n",
       "      <td>0</td>\n",
       "      <td>100</td>\n",
       "      <td>Менеджмент</td>\n",
       "    </tr>\n",
       "    <tr>\n",
       "      <th>4</th>\n",
       "      <td>42</td>\n",
       "      <td>5225709</td>\n",
       "      <td>5.2. Экономика</td>\n",
       "      <td>5.2.6. Менеджмент</td>\n",
       "      <td>60</td>\n",
       "      <td>40</td>\n",
       "      <td>0</td>\n",
       "      <td>19.0</td>\n",
       "      <td>Бумажное</td>\n",
       "      <td>100.0</td>\n",
       "      <td>60 40</td>\n",
       "      <td>0.0</td>\n",
       "      <td>0</td>\n",
       "      <td>0</td>\n",
       "      <td>100</td>\n",
       "      <td>Менеджмент</td>\n",
       "    </tr>\n",
       "    <tr>\n",
       "      <th>5</th>\n",
       "      <td>64</td>\n",
       "      <td>4954953</td>\n",
       "      <td>5.2. Экономика</td>\n",
       "      <td>5.2.3. Региональная и отраслевая экономика (эк...</td>\n",
       "      <td>60</td>\n",
       "      <td>40</td>\n",
       "      <td>0</td>\n",
       "      <td>10.0</td>\n",
       "      <td>Бумажное</td>\n",
       "      <td>100.0</td>\n",
       "      <td>60 40</td>\n",
       "      <td>0.0</td>\n",
       "      <td>0</td>\n",
       "      <td>0</td>\n",
       "      <td>100</td>\n",
       "      <td>Экономика промышленности</td>\n",
       "    </tr>\n",
       "    <tr>\n",
       "      <th>6</th>\n",
       "      <td>76</td>\n",
       "      <td>5073152</td>\n",
       "      <td>5.2. Экономика</td>\n",
       "      <td>5.2.6. Менеджмент</td>\n",
       "      <td>60</td>\n",
       "      <td>40</td>\n",
       "      <td>0</td>\n",
       "      <td>8.0</td>\n",
       "      <td>Электронное</td>\n",
       "      <td>100.0</td>\n",
       "      <td>60 40</td>\n",
       "      <td>0.0</td>\n",
       "      <td>0</td>\n",
       "      <td>0</td>\n",
       "      <td>100</td>\n",
       "      <td>Менеджмент</td>\n",
       "    </tr>\n",
       "    <tr>\n",
       "      <th>7</th>\n",
       "      <td>97</td>\n",
       "      <td>5222094</td>\n",
       "      <td>5.2. Экономика</td>\n",
       "      <td>5.2.3. Региональная и отраслевая экономика (эк...</td>\n",
       "      <td>60</td>\n",
       "      <td>40</td>\n",
       "      <td>0</td>\n",
       "      <td>7.0</td>\n",
       "      <td>Бумажное</td>\n",
       "      <td>100.0</td>\n",
       "      <td>60 40</td>\n",
       "      <td>0.0</td>\n",
       "      <td>0</td>\n",
       "      <td>0</td>\n",
       "      <td>100</td>\n",
       "      <td>Экономика промышленности</td>\n",
       "    </tr>\n",
       "    <tr>\n",
       "      <th>8</th>\n",
       "      <td>130</td>\n",
       "      <td>4153597</td>\n",
       "      <td>5.2. Экономика</td>\n",
       "      <td>5.2.4. Финансы</td>\n",
       "      <td>60</td>\n",
       "      <td>40</td>\n",
       "      <td>0</td>\n",
       "      <td>16.0</td>\n",
       "      <td>Электронное</td>\n",
       "      <td>100.0</td>\n",
       "      <td>60 40</td>\n",
       "      <td>0.0</td>\n",
       "      <td>0</td>\n",
       "      <td>0</td>\n",
       "      <td>100</td>\n",
       "      <td>Финансы</td>\n",
       "    </tr>\n",
       "    <tr>\n",
       "      <th>9</th>\n",
       "      <td>154</td>\n",
       "      <td>4741531</td>\n",
       "      <td>5.2. Экономика</td>\n",
       "      <td>5.2.3. Региональная и отраслевая экономика (эк...</td>\n",
       "      <td>60</td>\n",
       "      <td>40</td>\n",
       "      <td>0</td>\n",
       "      <td>NaN</td>\n",
       "      <td>NaN</td>\n",
       "      <td>NaN</td>\n",
       "      <td>NaN</td>\n",
       "      <td>NaN</td>\n",
       "      <td>0</td>\n",
       "      <td>0</td>\n",
       "      <td>100</td>\n",
       "      <td>Экономическая безопасность</td>\n",
       "    </tr>\n",
       "    <tr>\n",
       "      <th>10</th>\n",
       "      <td>174</td>\n",
       "      <td>5010803</td>\n",
       "      <td>5.2. Экономика</td>\n",
       "      <td>5.2.3. Региональная и отраслевая экономика (ст...</td>\n",
       "      <td>60</td>\n",
       "      <td>40</td>\n",
       "      <td>4</td>\n",
       "      <td>3.0</td>\n",
       "      <td>Бумажное</td>\n",
       "      <td>104.0</td>\n",
       "      <td>60 40</td>\n",
       "      <td>4.0</td>\n",
       "      <td>0</td>\n",
       "      <td>0</td>\n",
       "      <td>104</td>\n",
       "      <td>Стандартизация и управление качеством продукции</td>\n",
       "    </tr>\n",
       "    <tr>\n",
       "      <th>11</th>\n",
       "      <td>177</td>\n",
       "      <td>5023041</td>\n",
       "      <td>5.2. Экономика</td>\n",
       "      <td>5.2.3. Региональная и отраслевая экономика (ма...</td>\n",
       "      <td>60</td>\n",
       "      <td>40</td>\n",
       "      <td>0</td>\n",
       "      <td>12.0</td>\n",
       "      <td>Электронное</td>\n",
       "      <td>100.0</td>\n",
       "      <td>60 40</td>\n",
       "      <td>0.0</td>\n",
       "      <td>0</td>\n",
       "      <td>0</td>\n",
       "      <td>100</td>\n",
       "      <td>Маркетинг</td>\n",
       "    </tr>\n",
       "    <tr>\n",
       "      <th>12</th>\n",
       "      <td>181</td>\n",
       "      <td>5042734</td>\n",
       "      <td>5.2. Экономика</td>\n",
       "      <td>5.2.4. Финансы</td>\n",
       "      <td>60</td>\n",
       "      <td>40</td>\n",
       "      <td>0</td>\n",
       "      <td>15.0</td>\n",
       "      <td>Бумажное</td>\n",
       "      <td>100.0</td>\n",
       "      <td>60 40</td>\n",
       "      <td>0.0</td>\n",
       "      <td>0</td>\n",
       "      <td>0</td>\n",
       "      <td>100</td>\n",
       "      <td>Финансы</td>\n",
       "    </tr>\n",
       "    <tr>\n",
       "      <th>13</th>\n",
       "      <td>183</td>\n",
       "      <td>5056454</td>\n",
       "      <td>5.2. Экономика</td>\n",
       "      <td>5.2.4. Финансы</td>\n",
       "      <td>60</td>\n",
       "      <td>40</td>\n",
       "      <td>11</td>\n",
       "      <td>1.0</td>\n",
       "      <td>Электронное</td>\n",
       "      <td>111.0</td>\n",
       "      <td>60 40</td>\n",
       "      <td>11.0</td>\n",
       "      <td>0</td>\n",
       "      <td>0</td>\n",
       "      <td>111</td>\n",
       "      <td>Финансы</td>\n",
       "    </tr>\n",
       "    <tr>\n",
       "      <th>14</th>\n",
       "      <td>184</td>\n",
       "      <td>5056746</td>\n",
       "      <td>5.2. Экономика</td>\n",
       "      <td>5.2.4. Финансы</td>\n",
       "      <td>60</td>\n",
       "      <td>40</td>\n",
       "      <td>11</td>\n",
       "      <td>2.0</td>\n",
       "      <td>Электронное</td>\n",
       "      <td>111.0</td>\n",
       "      <td>60 40</td>\n",
       "      <td>11.0</td>\n",
       "      <td>0</td>\n",
       "      <td>0</td>\n",
       "      <td>111</td>\n",
       "      <td>Финансы</td>\n",
       "    </tr>\n",
       "    <tr>\n",
       "      <th>15</th>\n",
       "      <td>191</td>\n",
       "      <td>5089757</td>\n",
       "      <td>5.2. Экономика</td>\n",
       "      <td>5.2.4. Финансы</td>\n",
       "      <td>60</td>\n",
       "      <td>40</td>\n",
       "      <td>0</td>\n",
       "      <td>NaN</td>\n",
       "      <td>NaN</td>\n",
       "      <td>NaN</td>\n",
       "      <td>NaN</td>\n",
       "      <td>NaN</td>\n",
       "      <td>0</td>\n",
       "      <td>0</td>\n",
       "      <td>100</td>\n",
       "      <td>Финансы</td>\n",
       "    </tr>\n",
       "    <tr>\n",
       "      <th>16</th>\n",
       "      <td>248</td>\n",
       "      <td>4820279</td>\n",
       "      <td>5.2. Экономика</td>\n",
       "      <td>5.2.5. Мировая экономика</td>\n",
       "      <td>60</td>\n",
       "      <td>40</td>\n",
       "      <td>0</td>\n",
       "      <td>13.0</td>\n",
       "      <td>Электронное</td>\n",
       "      <td>100.0</td>\n",
       "      <td>60 40</td>\n",
       "      <td>0.0</td>\n",
       "      <td>0</td>\n",
       "      <td>0</td>\n",
       "      <td>100</td>\n",
       "      <td>Мировая экономика</td>\n",
       "    </tr>\n",
       "    <tr>\n",
       "      <th>17</th>\n",
       "      <td>273</td>\n",
       "      <td>5168993</td>\n",
       "      <td>5.2. Экономика</td>\n",
       "      <td>5.2.5. Мировая экономика</td>\n",
       "      <td>60</td>\n",
       "      <td>40</td>\n",
       "      <td>0</td>\n",
       "      <td>5.0</td>\n",
       "      <td>Электронное</td>\n",
       "      <td>100.0</td>\n",
       "      <td>60 40</td>\n",
       "      <td>0.0</td>\n",
       "      <td>0</td>\n",
       "      <td>0</td>\n",
       "      <td>100</td>\n",
       "      <td>Мировая экономика</td>\n",
       "    </tr>\n",
       "    <tr>\n",
       "      <th>18</th>\n",
       "      <td>274</td>\n",
       "      <td>5178121</td>\n",
       "      <td>5.2. Экономика</td>\n",
       "      <td>5.2.4. Финансы</td>\n",
       "      <td>60</td>\n",
       "      <td>40</td>\n",
       "      <td>0</td>\n",
       "      <td>6.0</td>\n",
       "      <td>Электронное</td>\n",
       "      <td>100.0</td>\n",
       "      <td>60 40</td>\n",
       "      <td>0.0</td>\n",
       "      <td>0</td>\n",
       "      <td>0</td>\n",
       "      <td>100</td>\n",
       "      <td>Финансы</td>\n",
       "    </tr>\n",
       "    <tr>\n",
       "      <th>19</th>\n",
       "      <td>294</td>\n",
       "      <td>5207404</td>\n",
       "      <td>5.2. Экономика</td>\n",
       "      <td>5.2.6. Менеджмент</td>\n",
       "      <td>60</td>\n",
       "      <td>40</td>\n",
       "      <td>0</td>\n",
       "      <td>18.0</td>\n",
       "      <td>Бумажное</td>\n",
       "      <td>100.0</td>\n",
       "      <td>60 40</td>\n",
       "      <td>0.0</td>\n",
       "      <td>0</td>\n",
       "      <td>0</td>\n",
       "      <td>100</td>\n",
       "      <td>Менеджмент</td>\n",
       "    </tr>\n",
       "  </tbody>\n",
       "</table>\n",
       "</div>"
      ],
      "text/plain": [
       "    index       id           group  \\\n",
       "0      16  5050325  5.2. Экономика   \n",
       "1      18  5144117  5.2. Экономика   \n",
       "2      29  5218600  5.2. Экономика   \n",
       "3      38  5239156  5.2. Экономика   \n",
       "4      42  5225709  5.2. Экономика   \n",
       "5      64  4954953  5.2. Экономика   \n",
       "6      76  5073152  5.2. Экономика   \n",
       "7      97  5222094  5.2. Экономика   \n",
       "8     130  4153597  5.2. Экономика   \n",
       "9     154  4741531  5.2. Экономика   \n",
       "10    174  5010803  5.2. Экономика   \n",
       "11    177  5023041  5.2. Экономика   \n",
       "12    181  5042734  5.2. Экономика   \n",
       "13    183  5056454  5.2. Экономика   \n",
       "14    184  5056746  5.2. Экономика   \n",
       "15    191  5089757  5.2. Экономика   \n",
       "16    248  4820279  5.2. Экономика   \n",
       "17    273  5168993  5.2. Экономика   \n",
       "18    274  5178121  5.2. Экономика   \n",
       "19    294  5207404  5.2. Экономика   \n",
       "\n",
       "                                                field  econ_points  \\\n",
       "0                                   5.2.6. Менеджмент           60   \n",
       "1   5.2.3. Региональная и отраслевая экономика (эк...           60   \n",
       "2                                   5.2.6. Менеджмент           60   \n",
       "3                                   5.2.6. Менеджмент           60   \n",
       "4                                   5.2.6. Менеджмент           60   \n",
       "5   5.2.3. Региональная и отраслевая экономика (эк...           60   \n",
       "6                                   5.2.6. Менеджмент           60   \n",
       "7   5.2.3. Региональная и отраслевая экономика (эк...           60   \n",
       "8                                      5.2.4. Финансы           60   \n",
       "9   5.2.3. Региональная и отраслевая экономика (эк...           60   \n",
       "10  5.2.3. Региональная и отраслевая экономика (ст...           60   \n",
       "11  5.2.3. Региональная и отраслевая экономика (ма...           60   \n",
       "12                                     5.2.4. Финансы           60   \n",
       "13                                     5.2.4. Финансы           60   \n",
       "14                                     5.2.4. Финансы           60   \n",
       "15                                     5.2.4. Финансы           60   \n",
       "16                           5.2.5. Мировая экономика           60   \n",
       "17                           5.2.5. Мировая экономика           60   \n",
       "18                                     5.2.4. Финансы           60   \n",
       "19                                  5.2.6. Менеджмент           60   \n",
       "\n",
       "    stat_points  additional_points  final_rating   acceptance  total_points  \\\n",
       "0            40                  0           9.0  Электронное         100.0   \n",
       "1            40                  0          11.0  Электронное         100.0   \n",
       "2            40                  0          17.0  Электронное         100.0   \n",
       "3            40                  0          14.0     Бумажное         100.0   \n",
       "4            40                  0          19.0     Бумажное         100.0   \n",
       "5            40                  0          10.0     Бумажное         100.0   \n",
       "6            40                  0           8.0  Электронное         100.0   \n",
       "7            40                  0           7.0     Бумажное         100.0   \n",
       "8            40                  0          16.0  Электронное         100.0   \n",
       "9            40                  0           NaN          NaN           NaN   \n",
       "10           40                  4           3.0     Бумажное         104.0   \n",
       "11           40                  0          12.0  Электронное         100.0   \n",
       "12           40                  0          15.0     Бумажное         100.0   \n",
       "13           40                 11           1.0  Электронное         111.0   \n",
       "14           40                 11           2.0  Электронное         111.0   \n",
       "15           40                  0           NaN          NaN           NaN   \n",
       "16           40                  0          13.0  Электронное         100.0   \n",
       "17           40                  0           5.0  Электронное         100.0   \n",
       "18           40                  0           6.0  Электронное         100.0   \n",
       "19           40                  0          18.0     Бумажное         100.0   \n",
       "\n",
       "   exams_points  add_points  econ_missing  stat_missing  sum_points  \\\n",
       "0         60 40         0.0             0             0         100   \n",
       "1         60 40         0.0             0             0         100   \n",
       "2         60 40         0.0             0             0         100   \n",
       "3         60 40         0.0             0             0         100   \n",
       "4         60 40         0.0             0             0         100   \n",
       "5         60 40         0.0             0             0         100   \n",
       "6         60 40         0.0             0             0         100   \n",
       "7         60 40         0.0             0             0         100   \n",
       "8         60 40         0.0             0             0         100   \n",
       "9           NaN         NaN             0             0         100   \n",
       "10        60 40         4.0             0             0         104   \n",
       "11        60 40         0.0             0             0         100   \n",
       "12        60 40         0.0             0             0         100   \n",
       "13        60 40        11.0             0             0         111   \n",
       "14        60 40        11.0             0             0         111   \n",
       "15          NaN         NaN             0             0         100   \n",
       "16        60 40         0.0             0             0         100   \n",
       "17        60 40         0.0             0             0         100   \n",
       "18        60 40         0.0             0             0         100   \n",
       "19        60 40         0.0             0             0         100   \n",
       "\n",
       "                                        field_short  \n",
       "0                                        Менеджмент  \n",
       "1                               Экономика инноваций  \n",
       "2                                        Менеджмент  \n",
       "3                                        Менеджмент  \n",
       "4                                        Менеджмент  \n",
       "5                          Экономика промышленности  \n",
       "6                                        Менеджмент  \n",
       "7                          Экономика промышленности  \n",
       "8                                           Финансы  \n",
       "9                        Экономическая безопасность  \n",
       "10  Стандартизация и управление качеством продукции  \n",
       "11                                        Маркетинг  \n",
       "12                                          Финансы  \n",
       "13                                          Финансы  \n",
       "14                                          Финансы  \n",
       "15                                          Финансы  \n",
       "16                                Мировая экономика  \n",
       "17                                Мировая экономика  \n",
       "18                                          Финансы  \n",
       "19                                       Менеджмент  "
      ]
     },
     "execution_count": 72,
     "metadata": {},
     "output_type": "execute_result"
    }
   ],
   "source": [
    "df_results[df_results['econ_points'] + df_results['stat_points'] == 100].reset_index()"
   ]
  }
 ],
 "metadata": {
  "kernelspec": {
   "display_name": "Python 3 (ipykernel)",
   "language": "python",
   "name": "python3"
  },
  "language_info": {
   "codemirror_mode": {
    "name": "ipython",
    "version": 3
   },
   "file_extension": ".py",
   "mimetype": "text/x-python",
   "name": "python",
   "nbconvert_exporter": "python",
   "pygments_lexer": "ipython3",
   "version": "3.11.5"
  }
 },
 "nbformat": 4,
 "nbformat_minor": 5
}
