{
  "nbformat": 4,
  "nbformat_minor": 0,
  "metadata": {
    "colab": {
      "provenance": [],
      "authorship_tag": "ABX9TyNXPT/ZR69jt1mtmV+ZRhlX",
      "include_colab_link": true
    },
    "kernelspec": {
      "name": "python3",
      "display_name": "Python 3"
    },
    "language_info": {
      "name": "python"
    }
  },
  "cells": [
    {
      "cell_type": "markdown",
      "metadata": {
        "id": "view-in-github",
        "colab_type": "text"
      },
      "source": [
        "<a href=\"https://colab.research.google.com/github/FominP/DataProjects/blob/main/Currencies.ipynb\" target=\"_parent\"><img src=\"https://colab.research.google.com/assets/colab-badge.svg\" alt=\"Open In Colab\"/></a>"
      ]
    },
    {
      "cell_type": "code",
      "source": [
        "!pip install tradermade\n",
        "!pip install pandas"
      ],
      "metadata": {
        "id": "C9IqkCz9hXxB"
      },
      "execution_count": null,
      "outputs": []
    },
    {
      "cell_type": "code",
      "source": [
        "import tradermade\n",
        "import investpy\n",
        "import pandas as pd\n",
        "import tradermade as tm\n",
        "\n",
        "# getting courses with Russian Ruble\n",
        "courses = investpy.currency_crosses.get_currency_crosses_list(second='RUB')\n",
        "# print(courses)\n",
        "dates = ['2020-01-01', '2021-01-01', '2022-01-02', '2023-01-02']\n",
        "\n",
        "# setting api key\n",
        "tm.set_rest_api_key(\"1ASsToJ78v0wPOVbjhX3\")\n",
        "\n",
        "df0 = pd.DataFrame()\n",
        "df1 = pd.DataFrame()\n",
        "result_df = pd.DataFrame()\n",
        "\n",
        "#getting data\n",
        "\n",
        "for course in courses:\n",
        "  course = course.replace('/', '')\n",
        "  for date in dates:\n",
        "    if date == '2020-01-01':\n",
        "      try:\n",
        "        df0 = tm.historical(currency=course, date=date, interval=\"daily\", fields=[\"close\"])\n",
        "        new_column_name = df0.loc[0, 'date']\n",
        "        df0.rename(columns={'close': new_column_name}, inplace=True)\n",
        "        df0.drop('date', axis=1, inplace=True)\n",
        "      except AttributeError:\n",
        "        continue\n",
        "      except TypeError:\n",
        "        df0 = pd.DataFrame({'instrument': course, date : [0]})\n",
        "        continue\n",
        "    else:\n",
        "      try:\n",
        "        df1 = tm.historical(currency=course, date=date, interval=\"daily\", fields=[\"close\"])\n",
        "        new_column_name = df1.loc[0, 'date']\n",
        "        df1.rename(columns={'close': new_column_name}, inplace=True)\n",
        "        df1.drop('date', axis=1, inplace=True)\n",
        "        df0 = pd.merge(df0, df1, on='instrument')\n",
        "      except AttributeError:\n",
        "        continue\n",
        "      except TypeError:\n",
        "        df1 = pd.DataFrame({'instrument': course, date : [0]})\n",
        "        continue\n",
        "  try:\n",
        "    result_df = result_df.append(df0)\n",
        "  except TypeError:\n",
        "    continue\n",
        "  print(course)\n",
        "\n",
        "result_df"
      ],
      "metadata": {
        "colab": {
          "base_uri": "https://localhost:8080/",
          "height": 1000
        },
        "id": "-AMSgbZ9iY_1",
        "outputId": "521eb7ee-8b96-491a-c850-af13f105fb4b"
      },
      "execution_count": null,
      "outputs": [
        {
          "output_type": "stream",
          "name": "stderr",
          "text": [
            "<ipython-input-65-edff3382cd31>:47: FutureWarning: The frame.append method is deprecated and will be removed from pandas in a future version. Use pandas.concat instead.\n",
            "  result_df = result_df.append(df0)\n"
          ]
        },
        {
          "output_type": "stream",
          "name": "stdout",
          "text": [
            "AEDRUB\n"
          ]
        },
        {
          "output_type": "stream",
          "name": "stderr",
          "text": [
            "<ipython-input-65-edff3382cd31>:47: FutureWarning: The frame.append method is deprecated and will be removed from pandas in a future version. Use pandas.concat instead.\n",
            "  result_df = result_df.append(df0)\n",
            "<ipython-input-65-edff3382cd31>:47: FutureWarning: The frame.append method is deprecated and will be removed from pandas in a future version. Use pandas.concat instead.\n",
            "  result_df = result_df.append(df0)\n"
          ]
        },
        {
          "output_type": "stream",
          "name": "stdout",
          "text": [
            "ARSRUB\n"
          ]
        },
        {
          "output_type": "stream",
          "name": "stderr",
          "text": [
            "<ipython-input-65-edff3382cd31>:47: FutureWarning: The frame.append method is deprecated and will be removed from pandas in a future version. Use pandas.concat instead.\n",
            "  result_df = result_df.append(df0)\n"
          ]
        },
        {
          "output_type": "stream",
          "name": "stdout",
          "text": [
            "AUDRUB\n"
          ]
        },
        {
          "output_type": "stream",
          "name": "stderr",
          "text": [
            "<ipython-input-65-edff3382cd31>:47: FutureWarning: The frame.append method is deprecated and will be removed from pandas in a future version. Use pandas.concat instead.\n",
            "  result_df = result_df.append(df0)\n"
          ]
        },
        {
          "output_type": "stream",
          "name": "stdout",
          "text": [
            "AUDRUB\n"
          ]
        },
        {
          "output_type": "stream",
          "name": "stderr",
          "text": [
            "<ipython-input-65-edff3382cd31>:47: FutureWarning: The frame.append method is deprecated and will be removed from pandas in a future version. Use pandas.concat instead.\n",
            "  result_df = result_df.append(df0)\n",
            "<ipython-input-65-edff3382cd31>:47: FutureWarning: The frame.append method is deprecated and will be removed from pandas in a future version. Use pandas.concat instead.\n",
            "  result_df = result_df.append(df0)\n",
            "<ipython-input-65-edff3382cd31>:47: FutureWarning: The frame.append method is deprecated and will be removed from pandas in a future version. Use pandas.concat instead.\n",
            "  result_df = result_df.append(df0)\n",
            "<ipython-input-65-edff3382cd31>:47: FutureWarning: The frame.append method is deprecated and will be removed from pandas in a future version. Use pandas.concat instead.\n",
            "  result_df = result_df.append(df0)\n"
          ]
        },
        {
          "output_type": "stream",
          "name": "stdout",
          "text": [
            "BRLRUB\n"
          ]
        },
        {
          "output_type": "stream",
          "name": "stderr",
          "text": [
            "<ipython-input-65-edff3382cd31>:47: FutureWarning: The frame.append method is deprecated and will be removed from pandas in a future version. Use pandas.concat instead.\n",
            "  result_df = result_df.append(df0)\n"
          ]
        },
        {
          "output_type": "stream",
          "name": "stdout",
          "text": [
            "BRLRUB\n"
          ]
        },
        {
          "output_type": "stream",
          "name": "stderr",
          "text": [
            "<ipython-input-65-edff3382cd31>:47: FutureWarning: The frame.append method is deprecated and will be removed from pandas in a future version. Use pandas.concat instead.\n",
            "  result_df = result_df.append(df0)\n",
            "<ipython-input-65-edff3382cd31>:47: FutureWarning: The frame.append method is deprecated and will be removed from pandas in a future version. Use pandas.concat instead.\n",
            "  result_df = result_df.append(df0)\n"
          ]
        },
        {
          "output_type": "stream",
          "name": "stdout",
          "text": [
            "CADRUB\n"
          ]
        },
        {
          "output_type": "stream",
          "name": "stderr",
          "text": [
            "<ipython-input-65-edff3382cd31>:47: FutureWarning: The frame.append method is deprecated and will be removed from pandas in a future version. Use pandas.concat instead.\n",
            "  result_df = result_df.append(df0)\n"
          ]
        },
        {
          "output_type": "stream",
          "name": "stdout",
          "text": [
            "CADRUB\n"
          ]
        },
        {
          "output_type": "stream",
          "name": "stderr",
          "text": [
            "<ipython-input-65-edff3382cd31>:47: FutureWarning: The frame.append method is deprecated and will be removed from pandas in a future version. Use pandas.concat instead.\n",
            "  result_df = result_df.append(df0)\n"
          ]
        },
        {
          "output_type": "stream",
          "name": "stdout",
          "text": [
            "CHFRUB\n"
          ]
        },
        {
          "output_type": "stream",
          "name": "stderr",
          "text": [
            "<ipython-input-65-edff3382cd31>:47: FutureWarning: The frame.append method is deprecated and will be removed from pandas in a future version. Use pandas.concat instead.\n",
            "  result_df = result_df.append(df0)\n"
          ]
        },
        {
          "output_type": "stream",
          "name": "stdout",
          "text": [
            "CHFRUB\n"
          ]
        },
        {
          "output_type": "stream",
          "name": "stderr",
          "text": [
            "<ipython-input-65-edff3382cd31>:47: FutureWarning: The frame.append method is deprecated and will be removed from pandas in a future version. Use pandas.concat instead.\n",
            "  result_df = result_df.append(df0)\n"
          ]
        },
        {
          "output_type": "stream",
          "name": "stdout",
          "text": [
            "CHFRUB\n"
          ]
        },
        {
          "output_type": "stream",
          "name": "stderr",
          "text": [
            "<ipython-input-65-edff3382cd31>:47: FutureWarning: The frame.append method is deprecated and will be removed from pandas in a future version. Use pandas.concat instead.\n",
            "  result_df = result_df.append(df0)\n"
          ]
        },
        {
          "output_type": "stream",
          "name": "stdout",
          "text": [
            "CNYRUB\n"
          ]
        },
        {
          "output_type": "stream",
          "name": "stderr",
          "text": [
            "<ipython-input-65-edff3382cd31>:47: FutureWarning: The frame.append method is deprecated and will be removed from pandas in a future version. Use pandas.concat instead.\n",
            "  result_df = result_df.append(df0)\n"
          ]
        },
        {
          "output_type": "stream",
          "name": "stdout",
          "text": [
            "CNYRUB\n"
          ]
        },
        {
          "output_type": "stream",
          "name": "stderr",
          "text": [
            "<ipython-input-65-edff3382cd31>:47: FutureWarning: The frame.append method is deprecated and will be removed from pandas in a future version. Use pandas.concat instead.\n",
            "  result_df = result_df.append(df0)\n"
          ]
        },
        {
          "output_type": "stream",
          "name": "stdout",
          "text": [
            "CZKRUB\n"
          ]
        },
        {
          "output_type": "stream",
          "name": "stderr",
          "text": [
            "<ipython-input-65-edff3382cd31>:47: FutureWarning: The frame.append method is deprecated and will be removed from pandas in a future version. Use pandas.concat instead.\n",
            "  result_df = result_df.append(df0)\n"
          ]
        },
        {
          "output_type": "stream",
          "name": "stdout",
          "text": [
            "CZKRUB\n"
          ]
        },
        {
          "output_type": "stream",
          "name": "stderr",
          "text": [
            "<ipython-input-65-edff3382cd31>:47: FutureWarning: The frame.append method is deprecated and will be removed from pandas in a future version. Use pandas.concat instead.\n",
            "  result_df = result_df.append(df0)\n"
          ]
        },
        {
          "output_type": "stream",
          "name": "stdout",
          "text": [
            "DKKRUB\n"
          ]
        },
        {
          "output_type": "stream",
          "name": "stderr",
          "text": [
            "<ipython-input-65-edff3382cd31>:47: FutureWarning: The frame.append method is deprecated and will be removed from pandas in a future version. Use pandas.concat instead.\n",
            "  result_df = result_df.append(df0)\n"
          ]
        },
        {
          "output_type": "stream",
          "name": "stdout",
          "text": [
            "DKKRUB\n"
          ]
        },
        {
          "output_type": "stream",
          "name": "stderr",
          "text": [
            "<ipython-input-65-edff3382cd31>:47: FutureWarning: The frame.append method is deprecated and will be removed from pandas in a future version. Use pandas.concat instead.\n",
            "  result_df = result_df.append(df0)\n"
          ]
        },
        {
          "output_type": "stream",
          "name": "stdout",
          "text": [
            "EURRUB\n"
          ]
        },
        {
          "output_type": "stream",
          "name": "stderr",
          "text": [
            "<ipython-input-65-edff3382cd31>:47: FutureWarning: The frame.append method is deprecated and will be removed from pandas in a future version. Use pandas.concat instead.\n",
            "  result_df = result_df.append(df0)\n"
          ]
        },
        {
          "output_type": "stream",
          "name": "stdout",
          "text": [
            "EURRUB\n"
          ]
        },
        {
          "output_type": "stream",
          "name": "stderr",
          "text": [
            "<ipython-input-65-edff3382cd31>:47: FutureWarning: The frame.append method is deprecated and will be removed from pandas in a future version. Use pandas.concat instead.\n",
            "  result_df = result_df.append(df0)\n"
          ]
        },
        {
          "output_type": "stream",
          "name": "stdout",
          "text": [
            "EURRUB\n"
          ]
        },
        {
          "output_type": "stream",
          "name": "stderr",
          "text": [
            "<ipython-input-65-edff3382cd31>:47: FutureWarning: The frame.append method is deprecated and will be removed from pandas in a future version. Use pandas.concat instead.\n",
            "  result_df = result_df.append(df0)\n"
          ]
        },
        {
          "output_type": "stream",
          "name": "stdout",
          "text": [
            "GBPRUB\n"
          ]
        },
        {
          "output_type": "stream",
          "name": "stderr",
          "text": [
            "<ipython-input-65-edff3382cd31>:47: FutureWarning: The frame.append method is deprecated and will be removed from pandas in a future version. Use pandas.concat instead.\n",
            "  result_df = result_df.append(df0)\n"
          ]
        },
        {
          "output_type": "stream",
          "name": "stdout",
          "text": [
            "GBPRUB\n"
          ]
        },
        {
          "output_type": "stream",
          "name": "stderr",
          "text": [
            "<ipython-input-65-edff3382cd31>:47: FutureWarning: The frame.append method is deprecated and will be removed from pandas in a future version. Use pandas.concat instead.\n",
            "  result_df = result_df.append(df0)\n",
            "<ipython-input-65-edff3382cd31>:47: FutureWarning: The frame.append method is deprecated and will be removed from pandas in a future version. Use pandas.concat instead.\n",
            "  result_df = result_df.append(df0)\n"
          ]
        },
        {
          "output_type": "stream",
          "name": "stdout",
          "text": [
            "HKDRUB\n"
          ]
        },
        {
          "output_type": "stream",
          "name": "stderr",
          "text": [
            "<ipython-input-65-edff3382cd31>:47: FutureWarning: The frame.append method is deprecated and will be removed from pandas in a future version. Use pandas.concat instead.\n",
            "  result_df = result_df.append(df0)\n"
          ]
        },
        {
          "output_type": "stream",
          "name": "stdout",
          "text": [
            "HKDRUB\n"
          ]
        },
        {
          "output_type": "stream",
          "name": "stderr",
          "text": [
            "<ipython-input-65-edff3382cd31>:47: FutureWarning: The frame.append method is deprecated and will be removed from pandas in a future version. Use pandas.concat instead.\n",
            "  result_df = result_df.append(df0)\n"
          ]
        },
        {
          "output_type": "stream",
          "name": "stdout",
          "text": [
            "HUFRUB\n"
          ]
        },
        {
          "output_type": "stream",
          "name": "stderr",
          "text": [
            "<ipython-input-65-edff3382cd31>:47: FutureWarning: The frame.append method is deprecated and will be removed from pandas in a future version. Use pandas.concat instead.\n",
            "  result_df = result_df.append(df0)\n"
          ]
        },
        {
          "output_type": "stream",
          "name": "stdout",
          "text": [
            "HUFRUB\n"
          ]
        },
        {
          "output_type": "stream",
          "name": "stderr",
          "text": [
            "<ipython-input-65-edff3382cd31>:47: FutureWarning: The frame.append method is deprecated and will be removed from pandas in a future version. Use pandas.concat instead.\n",
            "  result_df = result_df.append(df0)\n"
          ]
        },
        {
          "output_type": "stream",
          "name": "stdout",
          "text": [
            "ILSRUB\n"
          ]
        },
        {
          "output_type": "stream",
          "name": "stderr",
          "text": [
            "<ipython-input-65-edff3382cd31>:47: FutureWarning: The frame.append method is deprecated and will be removed from pandas in a future version. Use pandas.concat instead.\n",
            "  result_df = result_df.append(df0)\n"
          ]
        },
        {
          "output_type": "stream",
          "name": "stdout",
          "text": [
            "INRRUB\n"
          ]
        },
        {
          "output_type": "stream",
          "name": "stderr",
          "text": [
            "<ipython-input-65-edff3382cd31>:47: FutureWarning: The frame.append method is deprecated and will be removed from pandas in a future version. Use pandas.concat instead.\n",
            "  result_df = result_df.append(df0)\n"
          ]
        },
        {
          "output_type": "stream",
          "name": "stdout",
          "text": [
            "INRRUB\n"
          ]
        },
        {
          "output_type": "stream",
          "name": "stderr",
          "text": [
            "<ipython-input-65-edff3382cd31>:47: FutureWarning: The frame.append method is deprecated and will be removed from pandas in a future version. Use pandas.concat instead.\n",
            "  result_df = result_df.append(df0)\n"
          ]
        },
        {
          "output_type": "stream",
          "name": "stdout",
          "text": [
            "ISKRUB\n"
          ]
        },
        {
          "output_type": "stream",
          "name": "stderr",
          "text": [
            "<ipython-input-65-edff3382cd31>:47: FutureWarning: The frame.append method is deprecated and will be removed from pandas in a future version. Use pandas.concat instead.\n",
            "  result_df = result_df.append(df0)\n"
          ]
        },
        {
          "output_type": "stream",
          "name": "stdout",
          "text": [
            "JPYRUB\n"
          ]
        },
        {
          "output_type": "stream",
          "name": "stderr",
          "text": [
            "<ipython-input-65-edff3382cd31>:47: FutureWarning: The frame.append method is deprecated and will be removed from pandas in a future version. Use pandas.concat instead.\n",
            "  result_df = result_df.append(df0)\n"
          ]
        },
        {
          "output_type": "stream",
          "name": "stdout",
          "text": [
            "JPYRUB\n"
          ]
        },
        {
          "output_type": "stream",
          "name": "stderr",
          "text": [
            "<ipython-input-65-edff3382cd31>:47: FutureWarning: The frame.append method is deprecated and will be removed from pandas in a future version. Use pandas.concat instead.\n",
            "  result_df = result_df.append(df0)\n"
          ]
        },
        {
          "output_type": "stream",
          "name": "stdout",
          "text": [
            "JPYRUB\n"
          ]
        },
        {
          "output_type": "stream",
          "name": "stderr",
          "text": [
            "<ipython-input-65-edff3382cd31>:47: FutureWarning: The frame.append method is deprecated and will be removed from pandas in a future version. Use pandas.concat instead.\n",
            "  result_df = result_df.append(df0)\n",
            "<ipython-input-65-edff3382cd31>:47: FutureWarning: The frame.append method is deprecated and will be removed from pandas in a future version. Use pandas.concat instead.\n",
            "  result_df = result_df.append(df0)\n"
          ]
        },
        {
          "output_type": "stream",
          "name": "stdout",
          "text": [
            "KRWRUB\n"
          ]
        },
        {
          "output_type": "stream",
          "name": "stderr",
          "text": [
            "<ipython-input-65-edff3382cd31>:47: FutureWarning: The frame.append method is deprecated and will be removed from pandas in a future version. Use pandas.concat instead.\n",
            "  result_df = result_df.append(df0)\n",
            "<ipython-input-65-edff3382cd31>:47: FutureWarning: The frame.append method is deprecated and will be removed from pandas in a future version. Use pandas.concat instead.\n",
            "  result_df = result_df.append(df0)\n"
          ]
        },
        {
          "output_type": "stream",
          "name": "stdout",
          "text": [
            "MXNRUB\n"
          ]
        },
        {
          "output_type": "stream",
          "name": "stderr",
          "text": [
            "<ipython-input-65-edff3382cd31>:47: FutureWarning: The frame.append method is deprecated and will be removed from pandas in a future version. Use pandas.concat instead.\n",
            "  result_df = result_df.append(df0)\n"
          ]
        },
        {
          "output_type": "stream",
          "name": "stdout",
          "text": [
            "NOKRUB\n"
          ]
        },
        {
          "output_type": "stream",
          "name": "stderr",
          "text": [
            "<ipython-input-65-edff3382cd31>:47: FutureWarning: The frame.append method is deprecated and will be removed from pandas in a future version. Use pandas.concat instead.\n",
            "  result_df = result_df.append(df0)\n"
          ]
        },
        {
          "output_type": "stream",
          "name": "stdout",
          "text": [
            "NOKRUB\n"
          ]
        },
        {
          "output_type": "stream",
          "name": "stderr",
          "text": [
            "<ipython-input-65-edff3382cd31>:47: FutureWarning: The frame.append method is deprecated and will be removed from pandas in a future version. Use pandas.concat instead.\n",
            "  result_df = result_df.append(df0)\n"
          ]
        },
        {
          "output_type": "stream",
          "name": "stdout",
          "text": [
            "NZDRUB\n"
          ]
        },
        {
          "output_type": "stream",
          "name": "stderr",
          "text": [
            "<ipython-input-65-edff3382cd31>:47: FutureWarning: The frame.append method is deprecated and will be removed from pandas in a future version. Use pandas.concat instead.\n",
            "  result_df = result_df.append(df0)\n"
          ]
        },
        {
          "output_type": "stream",
          "name": "stdout",
          "text": [
            "PHPRUB\n"
          ]
        },
        {
          "output_type": "stream",
          "name": "stderr",
          "text": [
            "<ipython-input-65-edff3382cd31>:47: FutureWarning: The frame.append method is deprecated and will be removed from pandas in a future version. Use pandas.concat instead.\n",
            "  result_df = result_df.append(df0)\n",
            "<ipython-input-65-edff3382cd31>:47: FutureWarning: The frame.append method is deprecated and will be removed from pandas in a future version. Use pandas.concat instead.\n",
            "  result_df = result_df.append(df0)\n"
          ]
        },
        {
          "output_type": "stream",
          "name": "stdout",
          "text": [
            "PLNRUB\n"
          ]
        },
        {
          "output_type": "stream",
          "name": "stderr",
          "text": [
            "<ipython-input-65-edff3382cd31>:47: FutureWarning: The frame.append method is deprecated and will be removed from pandas in a future version. Use pandas.concat instead.\n",
            "  result_df = result_df.append(df0)\n"
          ]
        },
        {
          "output_type": "stream",
          "name": "stdout",
          "text": [
            "PLNRUB\n"
          ]
        },
        {
          "output_type": "stream",
          "name": "stderr",
          "text": [
            "<ipython-input-65-edff3382cd31>:47: FutureWarning: The frame.append method is deprecated and will be removed from pandas in a future version. Use pandas.concat instead.\n",
            "  result_df = result_df.append(df0)\n"
          ]
        },
        {
          "output_type": "stream",
          "name": "stdout",
          "text": [
            "RONRUB\n"
          ]
        },
        {
          "output_type": "stream",
          "name": "stderr",
          "text": [
            "<ipython-input-65-edff3382cd31>:47: FutureWarning: The frame.append method is deprecated and will be removed from pandas in a future version. Use pandas.concat instead.\n",
            "  result_df = result_df.append(df0)\n"
          ]
        },
        {
          "output_type": "stream",
          "name": "stdout",
          "text": [
            "RONRUB\n"
          ]
        },
        {
          "output_type": "stream",
          "name": "stderr",
          "text": [
            "<ipython-input-65-edff3382cd31>:47: FutureWarning: The frame.append method is deprecated and will be removed from pandas in a future version. Use pandas.concat instead.\n",
            "  result_df = result_df.append(df0)\n"
          ]
        },
        {
          "output_type": "stream",
          "name": "stdout",
          "text": [
            "USDRUB\n"
          ]
        },
        {
          "output_type": "stream",
          "name": "stderr",
          "text": [
            "<ipython-input-65-edff3382cd31>:47: FutureWarning: The frame.append method is deprecated and will be removed from pandas in a future version. Use pandas.concat instead.\n",
            "  result_df = result_df.append(df0)\n",
            "<ipython-input-65-edff3382cd31>:47: FutureWarning: The frame.append method is deprecated and will be removed from pandas in a future version. Use pandas.concat instead.\n",
            "  result_df = result_df.append(df0)\n"
          ]
        },
        {
          "output_type": "stream",
          "name": "stdout",
          "text": [
            "SEKRUB\n"
          ]
        },
        {
          "output_type": "stream",
          "name": "stderr",
          "text": [
            "<ipython-input-65-edff3382cd31>:47: FutureWarning: The frame.append method is deprecated and will be removed from pandas in a future version. Use pandas.concat instead.\n",
            "  result_df = result_df.append(df0)\n"
          ]
        },
        {
          "output_type": "stream",
          "name": "stdout",
          "text": [
            "SGDRUB\n"
          ]
        },
        {
          "output_type": "stream",
          "name": "stderr",
          "text": [
            "<ipython-input-65-edff3382cd31>:47: FutureWarning: The frame.append method is deprecated and will be removed from pandas in a future version. Use pandas.concat instead.\n",
            "  result_df = result_df.append(df0)\n",
            "<ipython-input-65-edff3382cd31>:47: FutureWarning: The frame.append method is deprecated and will be removed from pandas in a future version. Use pandas.concat instead.\n",
            "  result_df = result_df.append(df0)\n"
          ]
        },
        {
          "output_type": "stream",
          "name": "stdout",
          "text": [
            "TRYRUB\n"
          ]
        },
        {
          "output_type": "stream",
          "name": "stderr",
          "text": [
            "<ipython-input-65-edff3382cd31>:47: FutureWarning: The frame.append method is deprecated and will be removed from pandas in a future version. Use pandas.concat instead.\n",
            "  result_df = result_df.append(df0)\n"
          ]
        },
        {
          "output_type": "stream",
          "name": "stdout",
          "text": [
            "TWDRUB\n"
          ]
        },
        {
          "output_type": "stream",
          "name": "stderr",
          "text": [
            "<ipython-input-65-edff3382cd31>:47: FutureWarning: The frame.append method is deprecated and will be removed from pandas in a future version. Use pandas.concat instead.\n",
            "  result_df = result_df.append(df0)\n",
            "<ipython-input-65-edff3382cd31>:47: FutureWarning: The frame.append method is deprecated and will be removed from pandas in a future version. Use pandas.concat instead.\n",
            "  result_df = result_df.append(df0)\n"
          ]
        },
        {
          "output_type": "stream",
          "name": "stdout",
          "text": [
            "ZARRUB\n"
          ]
        },
        {
          "output_type": "stream",
          "name": "stderr",
          "text": [
            "<ipython-input-65-edff3382cd31>:47: FutureWarning: The frame.append method is deprecated and will be removed from pandas in a future version. Use pandas.concat instead.\n",
            "  result_df = result_df.append(df0)\n",
            "<ipython-input-65-edff3382cd31>:47: FutureWarning: The frame.append method is deprecated and will be removed from pandas in a future version. Use pandas.concat instead.\n",
            "  result_df = result_df.append(df0)\n"
          ]
        },
        {
          "output_type": "stream",
          "name": "stdout",
          "text": [
            "USDRUB\n"
          ]
        },
        {
          "output_type": "stream",
          "name": "stderr",
          "text": [
            "<ipython-input-65-edff3382cd31>:47: FutureWarning: The frame.append method is deprecated and will be removed from pandas in a future version. Use pandas.concat instead.\n",
            "  result_df = result_df.append(df0)\n",
            "<ipython-input-65-edff3382cd31>:47: FutureWarning: The frame.append method is deprecated and will be removed from pandas in a future version. Use pandas.concat instead.\n",
            "  result_df = result_df.append(df0)\n"
          ]
        },
        {
          "output_type": "stream",
          "name": "stdout",
          "text": [
            "SEKRUB\n"
          ]
        },
        {
          "output_type": "stream",
          "name": "stderr",
          "text": [
            "<ipython-input-65-edff3382cd31>:47: FutureWarning: The frame.append method is deprecated and will be removed from pandas in a future version. Use pandas.concat instead.\n",
            "  result_df = result_df.append(df0)\n"
          ]
        },
        {
          "output_type": "stream",
          "name": "stdout",
          "text": [
            "SGDRUB\n"
          ]
        },
        {
          "output_type": "stream",
          "name": "stderr",
          "text": [
            "<ipython-input-65-edff3382cd31>:47: FutureWarning: The frame.append method is deprecated and will be removed from pandas in a future version. Use pandas.concat instead.\n",
            "  result_df = result_df.append(df0)\n",
            "<ipython-input-65-edff3382cd31>:47: FutureWarning: The frame.append method is deprecated and will be removed from pandas in a future version. Use pandas.concat instead.\n",
            "  result_df = result_df.append(df0)\n"
          ]
        },
        {
          "output_type": "stream",
          "name": "stdout",
          "text": [
            "TRYRUB\n"
          ]
        },
        {
          "output_type": "stream",
          "name": "stderr",
          "text": [
            "<ipython-input-65-edff3382cd31>:47: FutureWarning: The frame.append method is deprecated and will be removed from pandas in a future version. Use pandas.concat instead.\n",
            "  result_df = result_df.append(df0)\n",
            "<ipython-input-65-edff3382cd31>:47: FutureWarning: The frame.append method is deprecated and will be removed from pandas in a future version. Use pandas.concat instead.\n",
            "  result_df = result_df.append(df0)\n"
          ]
        },
        {
          "output_type": "stream",
          "name": "stdout",
          "text": [
            "USDRUB\n"
          ]
        },
        {
          "output_type": "stream",
          "name": "stderr",
          "text": [
            "<ipython-input-65-edff3382cd31>:47: FutureWarning: The frame.append method is deprecated and will be removed from pandas in a future version. Use pandas.concat instead.\n",
            "  result_df = result_df.append(df0)\n",
            "<ipython-input-65-edff3382cd31>:47: FutureWarning: The frame.append method is deprecated and will be removed from pandas in a future version. Use pandas.concat instead.\n",
            "  result_df = result_df.append(df0)\n"
          ]
        },
        {
          "output_type": "stream",
          "name": "stdout",
          "text": [
            "ZARRUB\n",
            "USDRUB\n"
          ]
        },
        {
          "output_type": "stream",
          "name": "stderr",
          "text": [
            "<ipython-input-65-edff3382cd31>:47: FutureWarning: The frame.append method is deprecated and will be removed from pandas in a future version. Use pandas.concat instead.\n",
            "  result_df = result_df.append(df0)\n"
          ]
        },
        {
          "output_type": "execute_result",
          "data": {
            "text/plain": [
              "  instrument  2020-01-01 00:00:00  2021-01-01 00:00:00  2021-12-31 00:00:00  \\\n",
              "0     AEDRUB             16.84140             20.13540             20.36230   \n",
              "0     ARSRUB              1.03460              0.86900              0.72810   \n",
              "0     AUDRUB             43.40278             56.96707             54.35965   \n",
              "0     AUDRUB             43.40278             56.96707             54.35965   \n",
              "0     BRLRUB             15.38630             14.23820             13.40740   \n",
              "0     BRLRUB             15.38630             14.23820             13.40740   \n",
              "0     CADRUB             47.63090             58.08450             59.11390   \n",
              "0     CADRUB             47.63090             58.08450             59.11390   \n",
              "0     CHFRUB             63.90370                  NaN             82.02990   \n",
              "0     CHFRUB             63.90370                  NaN             82.02990   \n",
              "0     CHFRUB             63.90370                  NaN             82.02990   \n",
              "0     CNYRUB              8.88210             11.32110             11.76730   \n",
              "0     CNYRUB              8.88210             11.32110             11.76730   \n",
              "0     CZKRUB              2.72860              3.44200              3.41900   \n",
              "0     CZKRUB              2.72860              3.44200              3.41900   \n",
              "0     DKKRUB              9.28350                  NaN             11.44430   \n",
              "0     DKKRUB              9.28350                  NaN             11.44430   \n",
              "0     EURRUB             69.57130             89.98881             85.05292   \n",
              "0     EURRUB             69.57130             89.98881             85.05292   \n",
              "0     EURRUB             69.57130             89.98881             85.05292   \n",
              "0     GBPRUB             81.98250            101.05100            101.30950   \n",
              "0     GBPRUB             81.98250            101.05100            101.30950   \n",
              "0     HKDRUB              7.93840              9.53930              9.59310   \n",
              "0     HKDRUB              7.93840              9.53930              9.59310   \n",
              "0     HUFRUB              0.20970              0.24850              0.23060   \n",
              "0     HUFRUB              0.20970              0.24850              0.23060   \n",
              "0     ILSRUB             17.88360             23.01920             24.02830   \n",
              "0     INRRUB              0.86880              1.01170              1.00370   \n",
              "0     INRRUB              0.86880              1.01170              1.00370   \n",
              "0     ISKRUB              0.51060              0.57870              0.57620   \n",
              "0     JPYRUB              0.56870              0.71630              0.64990   \n",
              "0     JPYRUB              0.56870              0.71630              0.64990   \n",
              "0     JPYRUB              0.56870              0.71630              0.64990   \n",
              "0     KRWRUB              0.05360              0.06810              0.06300   \n",
              "0     MXNRUB              3.27370              3.71650              3.65260   \n",
              "0     NOKRUB              7.04060              8.62370              8.49020   \n",
              "0     NOKRUB              7.04060              8.62370              8.49020   \n",
              "0     NZDRUB             41.59100             53.32840             51.22150   \n",
              "0     PHPRUB              1.21980              1.53780              1.46640   \n",
              "0     PLNRUB             16.30530             19.79050             18.55320   \n",
              "0     PLNRUB             16.30530             19.79050             18.55320   \n",
              "0     RONRUB             14.48410             18.56870             17.21360   \n",
              "0     RONRUB             14.48410             18.56870             17.21360   \n",
              "0     USDRUB             61.85495             73.95317             74.79983   \n",
              "0     SEKRUB              6.60380              8.99190              8.27390   \n",
              "0     SGDRUB             45.98610             55.95140             55.46850   \n",
              "0     TRYRUB             10.40190              9.93990              5.60950   \n",
              "0     TWDRUB              2.07210              2.63440              2.69840   \n",
              "0     ZARRUB              4.41360              5.03400              4.69060   \n",
              "0     USDRUB             61.85495             73.95317             74.79983   \n",
              "0     SEKRUB              6.60380              8.99190              8.27390   \n",
              "0     SGDRUB             45.98610             55.95140             55.46850   \n",
              "0     TRYRUB             10.40190              9.93990              5.60950   \n",
              "0     USDRUB             61.85495             73.95317             74.79983   \n",
              "0     ZARRUB              4.41360              5.03400              4.69060   \n",
              "0     USDRUB             61.85495             73.95317             74.79983   \n",
              "\n",
              "   2023-01-02 00:00:00  \n",
              "0             19.03910  \n",
              "0              0.39250  \n",
              "0             53.05603  \n",
              "0             53.05603  \n",
              "0             13.03350  \n",
              "0             13.03350  \n",
              "0             51.50380  \n",
              "0             51.50380  \n",
              "0             75.48610  \n",
              "0             75.48610  \n",
              "0             75.48610  \n",
              "0             10.13360  \n",
              "0             10.13360  \n",
              "0              3.08460  \n",
              "0              3.08460  \n",
              "0             10.02740  \n",
              "0             10.02740  \n",
              "0             76.24461  \n",
              "0             76.24461  \n",
              "0             76.24461  \n",
              "0             84.21090  \n",
              "0             84.21090  \n",
              "0              8.95520  \n",
              "0              8.95520  \n",
              "0              0.18570  \n",
              "0              0.18570  \n",
              "0             19.96350  \n",
              "0              0.84500  \n",
              "0              0.84500  \n",
              "0              0.49140  \n",
              "0              0.53420  \n",
              "0              0.53420  \n",
              "0              0.53420  \n",
              "0              0.05500  \n",
              "0              3.59120  \n",
              "0              7.08980  \n",
              "0              7.08980  \n",
              "0             44.15370  \n",
              "0              1.25520  \n",
              "0             15.96650  \n",
              "0             15.96650  \n",
              "0             15.11450  \n",
              "0             15.11450  \n",
              "0             69.90769  \n",
              "0              6.68290  \n",
              "0             52.09370  \n",
              "0              3.73620  \n",
              "0              2.27430  \n",
              "0              4.11310  \n",
              "0             69.90769  \n",
              "0              6.68290  \n",
              "0             52.09370  \n",
              "0              3.73620  \n",
              "0             69.90769  \n",
              "0              4.11310  \n",
              "0             69.90769  "
            ],
            "text/html": [
              "\n",
              "  <div id=\"df-22cc7674-6992-40ef-803f-370f0d1f3528\">\n",
              "    <div class=\"colab-df-container\">\n",
              "      <div>\n",
              "<style scoped>\n",
              "    .dataframe tbody tr th:only-of-type {\n",
              "        vertical-align: middle;\n",
              "    }\n",
              "\n",
              "    .dataframe tbody tr th {\n",
              "        vertical-align: top;\n",
              "    }\n",
              "\n",
              "    .dataframe thead th {\n",
              "        text-align: right;\n",
              "    }\n",
              "</style>\n",
              "<table border=\"1\" class=\"dataframe\">\n",
              "  <thead>\n",
              "    <tr style=\"text-align: right;\">\n",
              "      <th></th>\n",
              "      <th>instrument</th>\n",
              "      <th>2020-01-01 00:00:00</th>\n",
              "      <th>2021-01-01 00:00:00</th>\n",
              "      <th>2021-12-31 00:00:00</th>\n",
              "      <th>2023-01-02 00:00:00</th>\n",
              "    </tr>\n",
              "  </thead>\n",
              "  <tbody>\n",
              "    <tr>\n",
              "      <th>0</th>\n",
              "      <td>AEDRUB</td>\n",
              "      <td>16.84140</td>\n",
              "      <td>20.13540</td>\n",
              "      <td>20.36230</td>\n",
              "      <td>19.03910</td>\n",
              "    </tr>\n",
              "    <tr>\n",
              "      <th>0</th>\n",
              "      <td>ARSRUB</td>\n",
              "      <td>1.03460</td>\n",
              "      <td>0.86900</td>\n",
              "      <td>0.72810</td>\n",
              "      <td>0.39250</td>\n",
              "    </tr>\n",
              "    <tr>\n",
              "      <th>0</th>\n",
              "      <td>AUDRUB</td>\n",
              "      <td>43.40278</td>\n",
              "      <td>56.96707</td>\n",
              "      <td>54.35965</td>\n",
              "      <td>53.05603</td>\n",
              "    </tr>\n",
              "    <tr>\n",
              "      <th>0</th>\n",
              "      <td>AUDRUB</td>\n",
              "      <td>43.40278</td>\n",
              "      <td>56.96707</td>\n",
              "      <td>54.35965</td>\n",
              "      <td>53.05603</td>\n",
              "    </tr>\n",
              "    <tr>\n",
              "      <th>0</th>\n",
              "      <td>BRLRUB</td>\n",
              "      <td>15.38630</td>\n",
              "      <td>14.23820</td>\n",
              "      <td>13.40740</td>\n",
              "      <td>13.03350</td>\n",
              "    </tr>\n",
              "    <tr>\n",
              "      <th>0</th>\n",
              "      <td>BRLRUB</td>\n",
              "      <td>15.38630</td>\n",
              "      <td>14.23820</td>\n",
              "      <td>13.40740</td>\n",
              "      <td>13.03350</td>\n",
              "    </tr>\n",
              "    <tr>\n",
              "      <th>0</th>\n",
              "      <td>CADRUB</td>\n",
              "      <td>47.63090</td>\n",
              "      <td>58.08450</td>\n",
              "      <td>59.11390</td>\n",
              "      <td>51.50380</td>\n",
              "    </tr>\n",
              "    <tr>\n",
              "      <th>0</th>\n",
              "      <td>CADRUB</td>\n",
              "      <td>47.63090</td>\n",
              "      <td>58.08450</td>\n",
              "      <td>59.11390</td>\n",
              "      <td>51.50380</td>\n",
              "    </tr>\n",
              "    <tr>\n",
              "      <th>0</th>\n",
              "      <td>CHFRUB</td>\n",
              "      <td>63.90370</td>\n",
              "      <td>NaN</td>\n",
              "      <td>82.02990</td>\n",
              "      <td>75.48610</td>\n",
              "    </tr>\n",
              "    <tr>\n",
              "      <th>0</th>\n",
              "      <td>CHFRUB</td>\n",
              "      <td>63.90370</td>\n",
              "      <td>NaN</td>\n",
              "      <td>82.02990</td>\n",
              "      <td>75.48610</td>\n",
              "    </tr>\n",
              "    <tr>\n",
              "      <th>0</th>\n",
              "      <td>CHFRUB</td>\n",
              "      <td>63.90370</td>\n",
              "      <td>NaN</td>\n",
              "      <td>82.02990</td>\n",
              "      <td>75.48610</td>\n",
              "    </tr>\n",
              "    <tr>\n",
              "      <th>0</th>\n",
              "      <td>CNYRUB</td>\n",
              "      <td>8.88210</td>\n",
              "      <td>11.32110</td>\n",
              "      <td>11.76730</td>\n",
              "      <td>10.13360</td>\n",
              "    </tr>\n",
              "    <tr>\n",
              "      <th>0</th>\n",
              "      <td>CNYRUB</td>\n",
              "      <td>8.88210</td>\n",
              "      <td>11.32110</td>\n",
              "      <td>11.76730</td>\n",
              "      <td>10.13360</td>\n",
              "    </tr>\n",
              "    <tr>\n",
              "      <th>0</th>\n",
              "      <td>CZKRUB</td>\n",
              "      <td>2.72860</td>\n",
              "      <td>3.44200</td>\n",
              "      <td>3.41900</td>\n",
              "      <td>3.08460</td>\n",
              "    </tr>\n",
              "    <tr>\n",
              "      <th>0</th>\n",
              "      <td>CZKRUB</td>\n",
              "      <td>2.72860</td>\n",
              "      <td>3.44200</td>\n",
              "      <td>3.41900</td>\n",
              "      <td>3.08460</td>\n",
              "    </tr>\n",
              "    <tr>\n",
              "      <th>0</th>\n",
              "      <td>DKKRUB</td>\n",
              "      <td>9.28350</td>\n",
              "      <td>NaN</td>\n",
              "      <td>11.44430</td>\n",
              "      <td>10.02740</td>\n",
              "    </tr>\n",
              "    <tr>\n",
              "      <th>0</th>\n",
              "      <td>DKKRUB</td>\n",
              "      <td>9.28350</td>\n",
              "      <td>NaN</td>\n",
              "      <td>11.44430</td>\n",
              "      <td>10.02740</td>\n",
              "    </tr>\n",
              "    <tr>\n",
              "      <th>0</th>\n",
              "      <td>EURRUB</td>\n",
              "      <td>69.57130</td>\n",
              "      <td>89.98881</td>\n",
              "      <td>85.05292</td>\n",
              "      <td>76.24461</td>\n",
              "    </tr>\n",
              "    <tr>\n",
              "      <th>0</th>\n",
              "      <td>EURRUB</td>\n",
              "      <td>69.57130</td>\n",
              "      <td>89.98881</td>\n",
              "      <td>85.05292</td>\n",
              "      <td>76.24461</td>\n",
              "    </tr>\n",
              "    <tr>\n",
              "      <th>0</th>\n",
              "      <td>EURRUB</td>\n",
              "      <td>69.57130</td>\n",
              "      <td>89.98881</td>\n",
              "      <td>85.05292</td>\n",
              "      <td>76.24461</td>\n",
              "    </tr>\n",
              "    <tr>\n",
              "      <th>0</th>\n",
              "      <td>GBPRUB</td>\n",
              "      <td>81.98250</td>\n",
              "      <td>101.05100</td>\n",
              "      <td>101.30950</td>\n",
              "      <td>84.21090</td>\n",
              "    </tr>\n",
              "    <tr>\n",
              "      <th>0</th>\n",
              "      <td>GBPRUB</td>\n",
              "      <td>81.98250</td>\n",
              "      <td>101.05100</td>\n",
              "      <td>101.30950</td>\n",
              "      <td>84.21090</td>\n",
              "    </tr>\n",
              "    <tr>\n",
              "      <th>0</th>\n",
              "      <td>HKDRUB</td>\n",
              "      <td>7.93840</td>\n",
              "      <td>9.53930</td>\n",
              "      <td>9.59310</td>\n",
              "      <td>8.95520</td>\n",
              "    </tr>\n",
              "    <tr>\n",
              "      <th>0</th>\n",
              "      <td>HKDRUB</td>\n",
              "      <td>7.93840</td>\n",
              "      <td>9.53930</td>\n",
              "      <td>9.59310</td>\n",
              "      <td>8.95520</td>\n",
              "    </tr>\n",
              "    <tr>\n",
              "      <th>0</th>\n",
              "      <td>HUFRUB</td>\n",
              "      <td>0.20970</td>\n",
              "      <td>0.24850</td>\n",
              "      <td>0.23060</td>\n",
              "      <td>0.18570</td>\n",
              "    </tr>\n",
              "    <tr>\n",
              "      <th>0</th>\n",
              "      <td>HUFRUB</td>\n",
              "      <td>0.20970</td>\n",
              "      <td>0.24850</td>\n",
              "      <td>0.23060</td>\n",
              "      <td>0.18570</td>\n",
              "    </tr>\n",
              "    <tr>\n",
              "      <th>0</th>\n",
              "      <td>ILSRUB</td>\n",
              "      <td>17.88360</td>\n",
              "      <td>23.01920</td>\n",
              "      <td>24.02830</td>\n",
              "      <td>19.96350</td>\n",
              "    </tr>\n",
              "    <tr>\n",
              "      <th>0</th>\n",
              "      <td>INRRUB</td>\n",
              "      <td>0.86880</td>\n",
              "      <td>1.01170</td>\n",
              "      <td>1.00370</td>\n",
              "      <td>0.84500</td>\n",
              "    </tr>\n",
              "    <tr>\n",
              "      <th>0</th>\n",
              "      <td>INRRUB</td>\n",
              "      <td>0.86880</td>\n",
              "      <td>1.01170</td>\n",
              "      <td>1.00370</td>\n",
              "      <td>0.84500</td>\n",
              "    </tr>\n",
              "    <tr>\n",
              "      <th>0</th>\n",
              "      <td>ISKRUB</td>\n",
              "      <td>0.51060</td>\n",
              "      <td>0.57870</td>\n",
              "      <td>0.57620</td>\n",
              "      <td>0.49140</td>\n",
              "    </tr>\n",
              "    <tr>\n",
              "      <th>0</th>\n",
              "      <td>JPYRUB</td>\n",
              "      <td>0.56870</td>\n",
              "      <td>0.71630</td>\n",
              "      <td>0.64990</td>\n",
              "      <td>0.53420</td>\n",
              "    </tr>\n",
              "    <tr>\n",
              "      <th>0</th>\n",
              "      <td>JPYRUB</td>\n",
              "      <td>0.56870</td>\n",
              "      <td>0.71630</td>\n",
              "      <td>0.64990</td>\n",
              "      <td>0.53420</td>\n",
              "    </tr>\n",
              "    <tr>\n",
              "      <th>0</th>\n",
              "      <td>JPYRUB</td>\n",
              "      <td>0.56870</td>\n",
              "      <td>0.71630</td>\n",
              "      <td>0.64990</td>\n",
              "      <td>0.53420</td>\n",
              "    </tr>\n",
              "    <tr>\n",
              "      <th>0</th>\n",
              "      <td>KRWRUB</td>\n",
              "      <td>0.05360</td>\n",
              "      <td>0.06810</td>\n",
              "      <td>0.06300</td>\n",
              "      <td>0.05500</td>\n",
              "    </tr>\n",
              "    <tr>\n",
              "      <th>0</th>\n",
              "      <td>MXNRUB</td>\n",
              "      <td>3.27370</td>\n",
              "      <td>3.71650</td>\n",
              "      <td>3.65260</td>\n",
              "      <td>3.59120</td>\n",
              "    </tr>\n",
              "    <tr>\n",
              "      <th>0</th>\n",
              "      <td>NOKRUB</td>\n",
              "      <td>7.04060</td>\n",
              "      <td>8.62370</td>\n",
              "      <td>8.49020</td>\n",
              "      <td>7.08980</td>\n",
              "    </tr>\n",
              "    <tr>\n",
              "      <th>0</th>\n",
              "      <td>NOKRUB</td>\n",
              "      <td>7.04060</td>\n",
              "      <td>8.62370</td>\n",
              "      <td>8.49020</td>\n",
              "      <td>7.08980</td>\n",
              "    </tr>\n",
              "    <tr>\n",
              "      <th>0</th>\n",
              "      <td>NZDRUB</td>\n",
              "      <td>41.59100</td>\n",
              "      <td>53.32840</td>\n",
              "      <td>51.22150</td>\n",
              "      <td>44.15370</td>\n",
              "    </tr>\n",
              "    <tr>\n",
              "      <th>0</th>\n",
              "      <td>PHPRUB</td>\n",
              "      <td>1.21980</td>\n",
              "      <td>1.53780</td>\n",
              "      <td>1.46640</td>\n",
              "      <td>1.25520</td>\n",
              "    </tr>\n",
              "    <tr>\n",
              "      <th>0</th>\n",
              "      <td>PLNRUB</td>\n",
              "      <td>16.30530</td>\n",
              "      <td>19.79050</td>\n",
              "      <td>18.55320</td>\n",
              "      <td>15.96650</td>\n",
              "    </tr>\n",
              "    <tr>\n",
              "      <th>0</th>\n",
              "      <td>PLNRUB</td>\n",
              "      <td>16.30530</td>\n",
              "      <td>19.79050</td>\n",
              "      <td>18.55320</td>\n",
              "      <td>15.96650</td>\n",
              "    </tr>\n",
              "    <tr>\n",
              "      <th>0</th>\n",
              "      <td>RONRUB</td>\n",
              "      <td>14.48410</td>\n",
              "      <td>18.56870</td>\n",
              "      <td>17.21360</td>\n",
              "      <td>15.11450</td>\n",
              "    </tr>\n",
              "    <tr>\n",
              "      <th>0</th>\n",
              "      <td>RONRUB</td>\n",
              "      <td>14.48410</td>\n",
              "      <td>18.56870</td>\n",
              "      <td>17.21360</td>\n",
              "      <td>15.11450</td>\n",
              "    </tr>\n",
              "    <tr>\n",
              "      <th>0</th>\n",
              "      <td>USDRUB</td>\n",
              "      <td>61.85495</td>\n",
              "      <td>73.95317</td>\n",
              "      <td>74.79983</td>\n",
              "      <td>69.90769</td>\n",
              "    </tr>\n",
              "    <tr>\n",
              "      <th>0</th>\n",
              "      <td>SEKRUB</td>\n",
              "      <td>6.60380</td>\n",
              "      <td>8.99190</td>\n",
              "      <td>8.27390</td>\n",
              "      <td>6.68290</td>\n",
              "    </tr>\n",
              "    <tr>\n",
              "      <th>0</th>\n",
              "      <td>SGDRUB</td>\n",
              "      <td>45.98610</td>\n",
              "      <td>55.95140</td>\n",
              "      <td>55.46850</td>\n",
              "      <td>52.09370</td>\n",
              "    </tr>\n",
              "    <tr>\n",
              "      <th>0</th>\n",
              "      <td>TRYRUB</td>\n",
              "      <td>10.40190</td>\n",
              "      <td>9.93990</td>\n",
              "      <td>5.60950</td>\n",
              "      <td>3.73620</td>\n",
              "    </tr>\n",
              "    <tr>\n",
              "      <th>0</th>\n",
              "      <td>TWDRUB</td>\n",
              "      <td>2.07210</td>\n",
              "      <td>2.63440</td>\n",
              "      <td>2.69840</td>\n",
              "      <td>2.27430</td>\n",
              "    </tr>\n",
              "    <tr>\n",
              "      <th>0</th>\n",
              "      <td>ZARRUB</td>\n",
              "      <td>4.41360</td>\n",
              "      <td>5.03400</td>\n",
              "      <td>4.69060</td>\n",
              "      <td>4.11310</td>\n",
              "    </tr>\n",
              "    <tr>\n",
              "      <th>0</th>\n",
              "      <td>USDRUB</td>\n",
              "      <td>61.85495</td>\n",
              "      <td>73.95317</td>\n",
              "      <td>74.79983</td>\n",
              "      <td>69.90769</td>\n",
              "    </tr>\n",
              "    <tr>\n",
              "      <th>0</th>\n",
              "      <td>SEKRUB</td>\n",
              "      <td>6.60380</td>\n",
              "      <td>8.99190</td>\n",
              "      <td>8.27390</td>\n",
              "      <td>6.68290</td>\n",
              "    </tr>\n",
              "    <tr>\n",
              "      <th>0</th>\n",
              "      <td>SGDRUB</td>\n",
              "      <td>45.98610</td>\n",
              "      <td>55.95140</td>\n",
              "      <td>55.46850</td>\n",
              "      <td>52.09370</td>\n",
              "    </tr>\n",
              "    <tr>\n",
              "      <th>0</th>\n",
              "      <td>TRYRUB</td>\n",
              "      <td>10.40190</td>\n",
              "      <td>9.93990</td>\n",
              "      <td>5.60950</td>\n",
              "      <td>3.73620</td>\n",
              "    </tr>\n",
              "    <tr>\n",
              "      <th>0</th>\n",
              "      <td>USDRUB</td>\n",
              "      <td>61.85495</td>\n",
              "      <td>73.95317</td>\n",
              "      <td>74.79983</td>\n",
              "      <td>69.90769</td>\n",
              "    </tr>\n",
              "    <tr>\n",
              "      <th>0</th>\n",
              "      <td>ZARRUB</td>\n",
              "      <td>4.41360</td>\n",
              "      <td>5.03400</td>\n",
              "      <td>4.69060</td>\n",
              "      <td>4.11310</td>\n",
              "    </tr>\n",
              "    <tr>\n",
              "      <th>0</th>\n",
              "      <td>USDRUB</td>\n",
              "      <td>61.85495</td>\n",
              "      <td>73.95317</td>\n",
              "      <td>74.79983</td>\n",
              "      <td>69.90769</td>\n",
              "    </tr>\n",
              "  </tbody>\n",
              "</table>\n",
              "</div>\n",
              "      <button class=\"colab-df-convert\" onclick=\"convertToInteractive('df-22cc7674-6992-40ef-803f-370f0d1f3528')\"\n",
              "              title=\"Convert this dataframe to an interactive table.\"\n",
              "              style=\"display:none;\">\n",
              "        \n",
              "  <svg xmlns=\"http://www.w3.org/2000/svg\" height=\"24px\"viewBox=\"0 0 24 24\"\n",
              "       width=\"24px\">\n",
              "    <path d=\"M0 0h24v24H0V0z\" fill=\"none\"/>\n",
              "    <path d=\"M18.56 5.44l.94 2.06.94-2.06 2.06-.94-2.06-.94-.94-2.06-.94 2.06-2.06.94zm-11 1L8.5 8.5l.94-2.06 2.06-.94-2.06-.94L8.5 2.5l-.94 2.06-2.06.94zm10 10l.94 2.06.94-2.06 2.06-.94-2.06-.94-.94-2.06-.94 2.06-2.06.94z\"/><path d=\"M17.41 7.96l-1.37-1.37c-.4-.4-.92-.59-1.43-.59-.52 0-1.04.2-1.43.59L10.3 9.45l-7.72 7.72c-.78.78-.78 2.05 0 2.83L4 21.41c.39.39.9.59 1.41.59.51 0 1.02-.2 1.41-.59l7.78-7.78 2.81-2.81c.8-.78.8-2.07 0-2.86zM5.41 20L4 18.59l7.72-7.72 1.47 1.35L5.41 20z\"/>\n",
              "  </svg>\n",
              "      </button>\n",
              "      \n",
              "  <style>\n",
              "    .colab-df-container {\n",
              "      display:flex;\n",
              "      flex-wrap:wrap;\n",
              "      gap: 12px;\n",
              "    }\n",
              "\n",
              "    .colab-df-convert {\n",
              "      background-color: #E8F0FE;\n",
              "      border: none;\n",
              "      border-radius: 50%;\n",
              "      cursor: pointer;\n",
              "      display: none;\n",
              "      fill: #1967D2;\n",
              "      height: 32px;\n",
              "      padding: 0 0 0 0;\n",
              "      width: 32px;\n",
              "    }\n",
              "\n",
              "    .colab-df-convert:hover {\n",
              "      background-color: #E2EBFA;\n",
              "      box-shadow: 0px 1px 2px rgba(60, 64, 67, 0.3), 0px 1px 3px 1px rgba(60, 64, 67, 0.15);\n",
              "      fill: #174EA6;\n",
              "    }\n",
              "\n",
              "    [theme=dark] .colab-df-convert {\n",
              "      background-color: #3B4455;\n",
              "      fill: #D2E3FC;\n",
              "    }\n",
              "\n",
              "    [theme=dark] .colab-df-convert:hover {\n",
              "      background-color: #434B5C;\n",
              "      box-shadow: 0px 1px 3px 1px rgba(0, 0, 0, 0.15);\n",
              "      filter: drop-shadow(0px 1px 2px rgba(0, 0, 0, 0.3));\n",
              "      fill: #FFFFFF;\n",
              "    }\n",
              "  </style>\n",
              "\n",
              "      <script>\n",
              "        const buttonEl =\n",
              "          document.querySelector('#df-22cc7674-6992-40ef-803f-370f0d1f3528 button.colab-df-convert');\n",
              "        buttonEl.style.display =\n",
              "          google.colab.kernel.accessAllowed ? 'block' : 'none';\n",
              "\n",
              "        async function convertToInteractive(key) {\n",
              "          const element = document.querySelector('#df-22cc7674-6992-40ef-803f-370f0d1f3528');\n",
              "          const dataTable =\n",
              "            await google.colab.kernel.invokeFunction('convertToInteractive',\n",
              "                                                     [key], {});\n",
              "          if (!dataTable) return;\n",
              "\n",
              "          const docLinkHtml = 'Like what you see? Visit the ' +\n",
              "            '<a target=\"_blank\" href=https://colab.research.google.com/notebooks/data_table.ipynb>data table notebook</a>'\n",
              "            + ' to learn more about interactive tables.';\n",
              "          element.innerHTML = '';\n",
              "          dataTable['output_type'] = 'display_data';\n",
              "          await google.colab.output.renderOutput(dataTable, element);\n",
              "          const docLink = document.createElement('div');\n",
              "          docLink.innerHTML = docLinkHtml;\n",
              "          element.appendChild(docLink);\n",
              "        }\n",
              "      </script>\n",
              "    </div>\n",
              "  </div>\n",
              "  "
            ]
          },
          "metadata": {},
          "execution_count": 65
        }
      ]
    },
    {
      "cell_type": "code",
      "source": [
        "!pip install xlsxwriter"
      ],
      "metadata": {
        "colab": {
          "base_uri": "https://localhost:8080/"
        },
        "id": "C4tsGEmhcCF2",
        "outputId": "3ef403bb-2f69-4ffa-96ce-b5e67bfadda1"
      },
      "execution_count": null,
      "outputs": [
        {
          "output_type": "stream",
          "name": "stdout",
          "text": [
            "Looking in indexes: https://pypi.org/simple, https://us-python.pkg.dev/colab-wheels/public/simple/\n",
            "Collecting xlsxwriter\n",
            "  Downloading XlsxWriter-3.1.0-py3-none-any.whl (152 kB)\n",
            "\u001b[2K     \u001b[90m━━━━━━━━━━━━━━━━━━━━━━━━━━━━━━━━━━━━━━━\u001b[0m \u001b[32m152.7/152.7 kB\u001b[0m \u001b[31m3.9 MB/s\u001b[0m eta \u001b[36m0:00:00\u001b[0m\n",
            "\u001b[?25hInstalling collected packages: xlsxwriter\n",
            "Successfully installed xlsxwriter-3.1.0\n"
          ]
        }
      ]
    },
    {
      "cell_type": "code",
      "source": [
        "import xlsxwriter\n",
        "\n",
        "# Создание ExcelWriter объекта\n",
        "writer = pd.ExcelWriter('курсы.xlsx', engine='xlsxwriter')\n",
        "# Запись DataFrame в лист 'Sheet1' файла Excel\n",
        "result_df.to_excel(writer, sheet_name='Sheet1', index=False)\n",
        "# Сохранение ExcelWriter объекта в файл Excel\n",
        "writer.save()"
      ],
      "metadata": {
        "colab": {
          "base_uri": "https://localhost:8080/"
        },
        "id": "-pHNCxfPZHaK",
        "outputId": "3a27068a-08a2-4838-e8e0-c6a570b7a818"
      },
      "execution_count": null,
      "outputs": [
        {
          "output_type": "stream",
          "name": "stderr",
          "text": [
            "<ipython-input-69-f5d9c10ccc36>:8: FutureWarning: save is not part of the public API, usage can give unexpected results and will be removed in a future version\n",
            "  writer.save()\n"
          ]
        }
      ]
    }
  ]
}